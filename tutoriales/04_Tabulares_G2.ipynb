{
 "cells": [
  {
   "cell_type": "code",
   "execution_count": 1,
   "id": "0f4829ef",
   "metadata": {},
   "outputs": [
    {
     "name": "stderr",
     "output_type": "stream",
     "text": [
      "/Users/noeliarey/Library/Caches/pypoetry/virtualenvs/codigo-5eSLDjlw-py3.12/lib/python3.12/site-packages/tqdm/auto.py:21: TqdmWarning: IProgress not found. Please update jupyter and ipywidgets. See https://ipywidgets.readthedocs.io/en/stable/user_install.html\n",
      "  from .autonotebook import tqdm as notebook_tqdm\n"
     ]
    }
   ],
   "source": [
    "#Import de librerias basicas tablas y matrices\n",
    "import numpy as np \n",
    "import pandas as pd \n",
    "\n",
    "#Gradient Boosting\n",
    "import lightgbm as lgb\n",
    "\n",
    "#Funciones auxiliares sklearn\n",
    "from sklearn.model_selection import train_test_split, StratifiedKFold #Split y cross Validation\n",
    "from sklearn.metrics import cohen_kappa_score, accuracy_score, balanced_accuracy_score #Metricas\n",
    "from sklearn.utils import shuffle \n",
    "\n",
    "#Visualizacióon\n",
    "from plotly import express as px\n",
    "\n",
    "#Plot de matriz de confusion normalizada en actuals\n",
    "from utils import plot_confusion_matrix\n",
    "\n",
    "import os\n",
    "\n",
    "#Optimizacion de hiperparametros\n",
    "import optuna\n",
    "from optuna.artifacts import FileSystemArtifactStore, upload_artifact\n",
    "\n",
    "#Guardado de objetos en archivos joblib\n",
    "from joblib import load, dump\n"
   ]
  },
  {
   "cell_type": "code",
   "execution_count": 2,
   "id": "de602daa",
   "metadata": {},
   "outputs": [],
   "source": [
    "# Paths para acceso archivos\n",
    "#Este notebook asume la siguiente estructura de carpetas a partir de la ubicacion de base_dir \n",
    "#(dos niveles arriba de la cƒarpeta donde se ejecuta el notebook). \n",
    "# /ƒ/ƒ\n",
    "# /UA_MDM_Labo2/inputƒ\n",
    "# /UA_MDM_Labo2/input/petfinder-adoption-prediction/            <- Aca deben ir todos los archivos de datos de la competencia \n",
    "# /UA_MDM_Labo2/tutoriales/                       <- Aca deben poner los notebooks y scripts que les compartimos\n",
    "# /UA_MDM_Labo2/work/                             <- Resultados de notebooks iran dentro de esta carpeta en subcarpetas\n",
    "# /UA_MDM_Labo2/work/models/                     <- Modelos entrenados en archivos joblibs\n",
    "# /UA_MDM_Labo2/work/optuna_temp_artifacts/      <- Archivos que queremos dejar como artefacto de un trial de optuna (optuna los copiara a la carpeta de abajo)\n",
    "# /UA_MDM_Labo2/work/optuna_artifacts/           <- Archivos con artefactos que sibimos a optuna\n",
    "\n",
    "#Subimos dos niveles para quedar en la carpeta que contiene input y UA_MDM_Labo2\n",
    "BASE_DIR = '../'\n",
    "\n",
    "#Datos de entrenamiento \n",
    "PATH_TO_TRAIN = os.path.join(BASE_DIR, \"input/petfinder-adoption-prediction/train/train.csv\")\n",
    "\n",
    "#Salida de modelos entrenados\n",
    "PATH_TO_MODELS = os.path.join(BASE_DIR, \"work/models\")\n",
    "\n",
    "#Artefactos a subir a optuna\n",
    "PATH_TO_TEMP_FILES = os.path.join(BASE_DIR, \"work/optuna_temp_artifacts\")\n",
    "\n",
    "#Artefactos que optuna gestiona\n",
    "PATH_TO_OPTUNA_ARTIFACTS = os.path.join(BASE_DIR, \"work/optuna_artifacts\")\n",
    "\n",
    "\n",
    "SEED = 42 #Semilla de procesos aleatorios (para poder replicar exactamente al volver a correr un modelo)\n",
    "TEST_SIZE = 0.2 #Facción para train/test= split"
   ]
  },
  {
   "cell_type": "code",
   "execution_count": 3,
   "id": "dc0e842b",
   "metadata": {},
   "outputs": [],
   "source": [
    "# Datos Tabulares\n",
    "dataset = pd.read_csv(PATH_TO_TRAIN)"
   ]
  },
  {
   "cell_type": "code",
   "execution_count": 4,
   "id": "80cc8be7",
   "metadata": {},
   "outputs": [
    {
     "data": {
      "text/plain": [
       "Index(['Type', 'Name', 'Age', 'Breed1', 'Breed2', 'Gender', 'Color1', 'Color2',\n",
       "       'Color3', 'MaturitySize', 'FurLength', 'Vaccinated', 'Dewormed',\n",
       "       'Sterilized', 'Health', 'Quantity', 'Fee', 'State', 'RescuerID',\n",
       "       'VideoAmt', 'Description', 'PetID', 'PhotoAmt', 'AdoptionSpeed'],\n",
       "      dtype='object')"
      ]
     },
     "execution_count": 4,
     "metadata": {},
     "output_type": "execute_result"
    }
   ],
   "source": [
    "#Columnas del dataset\n",
    "dataset.columns\n"
   ]
  },
  {
   "cell_type": "code",
   "execution_count": 5,
   "id": "15e6780c",
   "metadata": {},
   "outputs": [],
   "source": [
    "#Armo listas con features de texto y numericas\n",
    "char_feats = [f for f in dataset.columns if dataset[f].dtype=='O']\n",
    "numeric_feats = [f for f in dataset.columns if dataset[f].dtype!='O']"
   ]
  },
  {
   "cell_type": "code",
   "execution_count": 6,
   "id": "2c8a652f",
   "metadata": {},
   "outputs": [],
   "source": [
    "# Lista de nombres genéricos que NO consideramos verdaderos nombres\n",
    "nombres_invalidos = ['Unnamed', 'No name', 'No Name Yet', 'Urgent', 'Lost Dog']\n",
    "\n",
    "# Rellenamos nulos\n",
    "dataset['Name'] = dataset['Name'].fillna('Unnamed')\n",
    "\n",
    "# Identificamos si contienen dígitos\n",
    "contiene_numeros = dataset['Name'].str.contains(r'\\d', regex=True)\n",
    "\n",
    "# Extension del nombre\n",
    "extension = (dataset['Name'].str.len() <= 3) | (dataset['Name'].str.len() > 15)\n",
    "\n",
    "# Creamos la columna Has_name: 1 si no es inválido y no contiene números\n",
    "dataset['Has_name'] = (~dataset['Name'].isin(nombres_invalidos) & ~contiene_numeros & ~extension).astype(int)\n"
   ]
  },
  {
   "cell_type": "code",
   "execution_count": 7,
   "id": "4c647b5e",
   "metadata": {},
   "outputs": [
    {
     "name": "stdout",
     "output_type": "stream",
     "text": [
      "🐾 Ejemplos sin nombre real:\n",
      "                       Name\n",
      "13662               Unnamed\n",
      "4967                    C3C\n",
      "4122                Unnamed\n",
      "14568  SNOWEE And 5 Kittens\n",
      "839        2 Female Puppies\n",
      "3026              Doggie R2\n",
      "598    Tabby Girls And Boys\n",
      "1100                Unnamed\n",
      "9334                    C4C\n",
      "11946    Chihuahua Mix Pups\n",
      "\n",
      "🐶 Ejemplos con nombre real:\n",
      "                Name\n",
      "1912     Kity & Mini\n",
      "5470       Dr. James\n",
      "7905            Lady\n",
      "2169          Wolfie\n",
      "2421           Hazel\n",
      "9920   Munchkin Miko\n",
      "3102          Jelita\n",
      "5715           Comot\n",
      "8967           Mochi\n",
      "12558         Velvet\n"
     ]
    }
   ],
   "source": [
    "# Ejemplos de animales que NO tienen nombre real (Has_name = 0)\n",
    "print(\"🐾 Ejemplos sin nombre real:\")\n",
    "print(dataset[dataset['Has_name'] == 0][['Name']].sample(10, random_state=1))\n",
    "\n",
    "# Ejemplos de animales que SÍ tienen nombre real (Has_name = 1)\n",
    "print(\"\\n🐶 Ejemplos con nombre real:\")\n",
    "print(dataset[dataset['Has_name'] == 1][['Name']].sample(10, random_state=2))"
   ]
  },
  {
   "cell_type": "code",
   "execution_count": 38,
   "id": "83b335d6",
   "metadata": {},
   "outputs": [
    {
     "data": {
      "text/html": [
       "<div>\n",
       "<style scoped>\n",
       "    .dataframe tbody tr th:only-of-type {\n",
       "        vertical-align: middle;\n",
       "    }\n",
       "\n",
       "    .dataframe tbody tr th {\n",
       "        vertical-align: top;\n",
       "    }\n",
       "\n",
       "    .dataframe thead th {\n",
       "        text-align: right;\n",
       "    }\n",
       "</style>\n",
       "<table border=\"1\" class=\"dataframe\">\n",
       "  <thead>\n",
       "    <tr style=\"text-align: right;\">\n",
       "      <th></th>\n",
       "      <th>Type</th>\n",
       "      <th>Name</th>\n",
       "      <th>Age</th>\n",
       "      <th>Breed1</th>\n",
       "      <th>Breed2</th>\n",
       "      <th>Gender</th>\n",
       "      <th>Color1</th>\n",
       "      <th>Color2</th>\n",
       "      <th>Color3</th>\n",
       "      <th>MaturitySize</th>\n",
       "      <th>...</th>\n",
       "      <th>gratis</th>\n",
       "      <th>Is_female_intact</th>\n",
       "      <th>Is_male_intact</th>\n",
       "      <th>Rescuer_repetido</th>\n",
       "      <th>Dog_male</th>\n",
       "      <th>Cat_male</th>\n",
       "      <th>Video</th>\n",
       "      <th>Fotos</th>\n",
       "      <th>Descripcion_linda</th>\n",
       "      <th>Color_combo</th>\n",
       "    </tr>\n",
       "  </thead>\n",
       "  <tbody>\n",
       "    <tr>\n",
       "      <th>0</th>\n",
       "      <td>2</td>\n",
       "      <td>Nibble</td>\n",
       "      <td>3</td>\n",
       "      <td>299</td>\n",
       "      <td>0</td>\n",
       "      <td>1</td>\n",
       "      <td>1</td>\n",
       "      <td>7</td>\n",
       "      <td>0</td>\n",
       "      <td>1</td>\n",
       "      <td>...</td>\n",
       "      <td>0</td>\n",
       "      <td>False</td>\n",
       "      <td>True</td>\n",
       "      <td>1</td>\n",
       "      <td>0</td>\n",
       "      <td>1</td>\n",
       "      <td>0</td>\n",
       "      <td>1</td>\n",
       "      <td>1</td>\n",
       "      <td>0_1_7</td>\n",
       "    </tr>\n",
       "    <tr>\n",
       "      <th>1</th>\n",
       "      <td>2</td>\n",
       "      <td>No Name Yet</td>\n",
       "      <td>1</td>\n",
       "      <td>265</td>\n",
       "      <td>0</td>\n",
       "      <td>1</td>\n",
       "      <td>1</td>\n",
       "      <td>2</td>\n",
       "      <td>0</td>\n",
       "      <td>2</td>\n",
       "      <td>...</td>\n",
       "      <td>1</td>\n",
       "      <td>False</td>\n",
       "      <td>False</td>\n",
       "      <td>0</td>\n",
       "      <td>0</td>\n",
       "      <td>1</td>\n",
       "      <td>0</td>\n",
       "      <td>1</td>\n",
       "      <td>0</td>\n",
       "      <td>0_1_2</td>\n",
       "    </tr>\n",
       "    <tr>\n",
       "      <th>2</th>\n",
       "      <td>1</td>\n",
       "      <td>Brisco</td>\n",
       "      <td>1</td>\n",
       "      <td>307</td>\n",
       "      <td>0</td>\n",
       "      <td>1</td>\n",
       "      <td>2</td>\n",
       "      <td>7</td>\n",
       "      <td>0</td>\n",
       "      <td>2</td>\n",
       "      <td>...</td>\n",
       "      <td>1</td>\n",
       "      <td>False</td>\n",
       "      <td>True</td>\n",
       "      <td>1</td>\n",
       "      <td>1</td>\n",
       "      <td>0</td>\n",
       "      <td>0</td>\n",
       "      <td>2</td>\n",
       "      <td>1</td>\n",
       "      <td>0_2_7</td>\n",
       "    </tr>\n",
       "    <tr>\n",
       "      <th>3</th>\n",
       "      <td>1</td>\n",
       "      <td>Miko</td>\n",
       "      <td>4</td>\n",
       "      <td>307</td>\n",
       "      <td>0</td>\n",
       "      <td>2</td>\n",
       "      <td>1</td>\n",
       "      <td>2</td>\n",
       "      <td>0</td>\n",
       "      <td>2</td>\n",
       "      <td>...</td>\n",
       "      <td>0</td>\n",
       "      <td>True</td>\n",
       "      <td>False</td>\n",
       "      <td>1</td>\n",
       "      <td>0</td>\n",
       "      <td>0</td>\n",
       "      <td>0</td>\n",
       "      <td>2</td>\n",
       "      <td>0</td>\n",
       "      <td>0_1_2</td>\n",
       "    </tr>\n",
       "    <tr>\n",
       "      <th>4</th>\n",
       "      <td>1</td>\n",
       "      <td>Hunter</td>\n",
       "      <td>1</td>\n",
       "      <td>307</td>\n",
       "      <td>0</td>\n",
       "      <td>1</td>\n",
       "      <td>1</td>\n",
       "      <td>0</td>\n",
       "      <td>0</td>\n",
       "      <td>2</td>\n",
       "      <td>...</td>\n",
       "      <td>1</td>\n",
       "      <td>False</td>\n",
       "      <td>True</td>\n",
       "      <td>1</td>\n",
       "      <td>1</td>\n",
       "      <td>0</td>\n",
       "      <td>0</td>\n",
       "      <td>1</td>\n",
       "      <td>1</td>\n",
       "      <td>0_0_1</td>\n",
       "    </tr>\n",
       "  </tbody>\n",
       "</table>\n",
       "<p>5 rows × 41 columns</p>\n",
       "</div>"
      ],
      "text/plain": [
       "   Type         Name  Age  Breed1  Breed2  Gender  Color1  Color2  Color3  \\\n",
       "0     2       Nibble    3     299       0       1       1       7       0   \n",
       "1     2  No Name Yet    1     265       0       1       1       2       0   \n",
       "2     1       Brisco    1     307       0       1       2       7       0   \n",
       "3     1         Miko    4     307       0       2       1       2       0   \n",
       "4     1       Hunter    1     307       0       1       1       0       0   \n",
       "\n",
       "   MaturitySize  ...  gratis  Is_female_intact  Is_male_intact  \\\n",
       "0             1  ...       0             False            True   \n",
       "1             2  ...       1             False           False   \n",
       "2             2  ...       1             False            True   \n",
       "3             2  ...       0              True           False   \n",
       "4             2  ...       1             False            True   \n",
       "\n",
       "   Rescuer_repetido  Dog_male  Cat_male  Video  Fotos Descripcion_linda  \\\n",
       "0                 1         0         1      0      1                 1   \n",
       "1                 0         0         1      0      1                 0   \n",
       "2                 1         1         0      0      2                 1   \n",
       "3                 1         0         0      0      2                 0   \n",
       "4                 1         1         0      0      1                 1   \n",
       "\n",
       "   Color_combo  \n",
       "0        0_1_7  \n",
       "1        0_1_2  \n",
       "2        0_2_7  \n",
       "3        0_1_2  \n",
       "4        0_0_1  \n",
       "\n",
       "[5 rows x 41 columns]"
      ]
     },
     "execution_count": 38,
     "metadata": {},
     "output_type": "execute_result"
    }
   ],
   "source": [
    "dataset.head()"
   ]
  },
  {
   "cell_type": "code",
   "execution_count": 8,
   "id": "3d1a7a60",
   "metadata": {},
   "outputs": [],
   "source": [
    "# Largo de la descripcion\n",
    "dataset['Description_length'] = dataset['Description'].str.len()"
   ]
  },
  {
   "cell_type": "code",
   "execution_count": 9,
   "id": "d0d651c2",
   "metadata": {},
   "outputs": [],
   "source": [
    "# Score de salud \n",
    "dataset['Cuidado_Medico'] = (\n",
    "    (dataset['Vaccinated'] == 1).astype(int) +\n",
    "    (dataset['Dewormed'] == 1).astype(int) +\n",
    "    (dataset['Sterilized'] == 1).astype(int)\n",
    ")"
   ]
  },
  {
   "cell_type": "code",
   "execution_count": 10,
   "id": "a3df8d77",
   "metadata": {},
   "outputs": [],
   "source": [
    "# Edad\n",
    "def clasificar_edad(age):\n",
    "    if age <= 6:\n",
    "        return 1  # Cachorro\n",
    "    elif age > 72:\n",
    "        return 4 # Adulto Mayor\n",
    "    elif age > 24:\n",
    "        return 3  # Adulto\n",
    "    else:\n",
    "        return 2  # Normal\n",
    "\n",
    "dataset['Age_group'] = dataset['Age'].apply(clasificar_edad)\n"
   ]
  },
  {
   "cell_type": "code",
   "execution_count": 11,
   "id": "999c4614",
   "metadata": {},
   "outputs": [],
   "source": [
    "# Raza\n",
    "dataset['Raza_pura'] = np.where(\n",
    "    (dataset['Breed1'] != 307) & (dataset['Breed2'] == 0), 1, 0\n",
    ")"
   ]
  },
  {
   "cell_type": "code",
   "execution_count": 12,
   "id": "08c3a4b4",
   "metadata": {},
   "outputs": [],
   "source": [
    "# Cantidad de mascotas a adoptar \n",
    "\n",
    "def clasificar_cantidad(q):\n",
    "    if q == 1:\n",
    "        return 0\n",
    "    elif q <= 3:\n",
    "        return 1\n",
    "    elif q <= 6:  # Cambiado a <= 6 para incluir hasta 6\n",
    "        return 2\n",
    "    else:\n",
    "        return 3\n",
    "\n",
    "dataset['Cant_Adopcion'] = dataset['Quantity'].apply(clasificar_cantidad)"
   ]
  },
  {
   "cell_type": "code",
   "execution_count": 13,
   "id": "27266453",
   "metadata": {},
   "outputs": [],
   "source": [
    "# Color \n",
    "\n",
    "dataset['color_count'] = (\n",
    "    (dataset['Color1'] != 0).astype(int) +\n",
    "    (dataset['Color2'] != 0).astype(int) +\n",
    "    (dataset['Color3'] != 0).astype(int)\n",
    ")"
   ]
  },
  {
   "cell_type": "code",
   "execution_count": 14,
   "id": "58327e32",
   "metadata": {},
   "outputs": [],
   "source": [
    "# Adopcion gratuita\n",
    "\n",
    "dataset['gratis'] = (dataset['Fee'] == 0).astype(int)"
   ]
  },
  {
   "cell_type": "code",
   "execution_count": 15,
   "id": "656aac7a",
   "metadata": {},
   "outputs": [],
   "source": [
    "# Genero y castracion\n",
    "\n",
    "dataset['Is_female_intact'] = (dataset['Gender'] == 2) & (dataset['Sterilized'] == 2)\n",
    "dataset['Is_male_intact'] = (dataset['Gender'] == 1) & (dataset['Sterilized'] == 2)\n"
   ]
  },
  {
   "cell_type": "code",
   "execution_count": 16,
   "id": "734349cd",
   "metadata": {},
   "outputs": [],
   "source": [
    "# RescuerID repetidos\n",
    "\n",
    "dataset['Rescuer_repetido'] = dataset.duplicated('RescuerID', keep=False).astype(int)"
   ]
  },
  {
   "cell_type": "markdown",
   "id": "4e136a37",
   "metadata": {},
   "source": [
    "### Agregadas en experimento 4"
   ]
  },
  {
   "cell_type": "code",
   "execution_count": 17,
   "id": "727e61b2",
   "metadata": {},
   "outputs": [],
   "source": [
    "# Gato y Perro segun genero\n",
    "\n",
    "dataset['Dog_male'] = ((dataset['Type'] == 1) & (dataset['Gender'] == 1)).astype(int)\n",
    "dataset['Cat_male'] = ((dataset['Type'] == 2) & (dataset['Gender'] == 1)).astype(int)"
   ]
  },
  {
   "cell_type": "code",
   "execution_count": 18,
   "id": "03b20538",
   "metadata": {},
   "outputs": [],
   "source": [
    "# Hay videos\n",
    "dataset['Video'] = (dataset['VideoAmt'] > 1).astype(int)"
   ]
  },
  {
   "cell_type": "code",
   "execution_count": 20,
   "id": "b77139d0",
   "metadata": {},
   "outputs": [],
   "source": [
    "# Cantidad de fotos\n",
    "\n",
    "def clasificar_fotos(x):\n",
    "    if x == 0:\n",
    "        return 0\n",
    "    elif x <= 5:\n",
    "        return 1\n",
    "    else:\n",
    "        return 2\n",
    "\n",
    "dataset['Fotos'] = dataset['PhotoAmt'].apply(clasificar_fotos)"
   ]
  },
  {
   "cell_type": "code",
   "execution_count": 21,
   "id": "dcbbebf0",
   "metadata": {},
   "outputs": [
    {
     "name": "stderr",
     "output_type": "stream",
     "text": [
      "/var/folders/tx/rstdr46s2ng5_qbbc6p67xv40000gn/T/ipykernel_48489/33724552.py:13: UserWarning: This pattern is interpreted as a regular expression, and has match groups. To actually get the groups, use str.extract.\n",
      "  dataset['Descripcion_linda'] = dataset['Description'].str.lower().str.contains(patron, flags=re.IGNORECASE, na=False).astype(int)\n"
     ]
    }
   ],
   "source": [
    "import re\n",
    "\n",
    "# Lista de palabras clave (en minúsculas)\n",
    "palabras_lindas = [\n",
    "    'love', 'loving', 'sweet', 'friendly', 'cute', 'adorable',\n",
    "    'affectionate', 'gentle', 'cuddly', 'playful', 'happy', 'kind',\n",
    "    'compassionate', 'endearing', 'charming', 'delightful', 'joyful', 'precious']\n",
    "\n",
    "# Expresión regular que detecta si alguna palabra está presente\n",
    "patron = r'\\b(' + '|'.join(palabras_lindas) + r')\\b'\n",
    "\n",
    "# Crear variable binaria\n",
    "dataset['Descripcion_linda'] = dataset['Description'].str.lower().str.contains(patron, flags=re.IGNORECASE, na=False).astype(int)"
   ]
  },
  {
   "cell_type": "code",
   "execution_count": 39,
   "id": "106cf636",
   "metadata": {},
   "outputs": [],
   "source": [
    "# Combinacion de colores\n",
    "def sorted_color_combo(row):\n",
    "    colores = sorted([row['Color1'], row['Color2'], row['Color3']])\n",
    "    return int(''.join(map(str, colores)))\n",
    "\n",
    "dataset['Color_combo'] = dataset.apply(sorted_color_combo, axis=1)"
   ]
  },
  {
   "cell_type": "code",
   "execution_count": 40,
   "id": "7b108d45",
   "metadata": {},
   "outputs": [],
   "source": [
    "# Features menos estas variables \n",
    "\n",
    "var_to_remove = ['Description', 'RescuerID', 'PetID', 'Name', 'AdoptionSpeed']\n",
    "\n",
    "features = [f for f in dataset.columns if f not in var_to_remove]\n",
    "\n",
    "label = 'AdoptionSpeed'\n"
   ]
  },
  {
   "cell_type": "code",
   "execution_count": 41,
   "id": "18526333",
   "metadata": {},
   "outputs": [
    {
     "data": {
      "text/plain": [
       "Index(['Type', 'Name', 'Age', 'Breed1', 'Breed2', 'Gender', 'Color1', 'Color2',\n",
       "       'Color3', 'MaturitySize', 'FurLength', 'Vaccinated', 'Dewormed',\n",
       "       'Sterilized', 'Health', 'Quantity', 'Fee', 'State', 'RescuerID',\n",
       "       'VideoAmt', 'Description', 'PetID', 'PhotoAmt', 'AdoptionSpeed',\n",
       "       'Has_name', 'Description_length', 'Cuidado_Medico', 'Age_group',\n",
       "       'Raza_pura', 'Cant_Adopcion', 'color_count', 'gratis',\n",
       "       'Is_female_intact', 'Is_male_intact', 'Rescuer_repetido', 'Dog_male',\n",
       "       'Cat_male', 'Video', 'Fotos', 'Descripcion_linda', 'Color_combo'],\n",
       "      dtype='object')"
      ]
     },
     "execution_count": 41,
     "metadata": {},
     "output_type": "execute_result"
    }
   ],
   "source": [
    "dataset.columns"
   ]
  },
  {
   "cell_type": "code",
   "execution_count": 42,
   "id": "0b1e9f78",
   "metadata": {},
   "outputs": [],
   "source": [
    "#Separo un 20% para test estratificado opr target\n",
    "train, test = train_test_split(dataset,\n",
    "                               test_size = TEST_SIZE,\n",
    "                               random_state = SEED,\n",
    "                               stratify = dataset.AdoptionSpeed)"
   ]
  },
  {
   "cell_type": "code",
   "execution_count": 43,
   "id": "d93ae905",
   "metadata": {},
   "outputs": [],
   "source": [
    "#Genero dataframes de train y test con sus respectivos targets\n",
    "X_train = train[features]\n",
    "y_train = train[label]\n",
    "\n",
    "X_test = test[features]\n",
    "y_test = test[label]"
   ]
  },
  {
   "cell_type": "code",
   "execution_count": 44,
   "id": "3b83e885",
   "metadata": {},
   "outputs": [
    {
     "name": "stdout",
     "output_type": "stream",
     "text": [
      "[LightGBM] [Info] Auto-choosing row-wise multi-threading, the overhead of testing was 0.003353 seconds.\n",
      "You can set `force_row_wise=true` to remove the overhead.\n",
      "And if memory is not enough, you can set `force_col_wise=true`.\n",
      "[LightGBM] [Info] Total Bins 797\n",
      "[LightGBM] [Info] Number of data points in the train set: 11994, number of used features: 36\n",
      "[LightGBM] [Info] Start training from score -3.599148\n",
      "[LightGBM] [Info] Start training from score -1.579379\n",
      "[LightGBM] [Info] Start training from score -1.311924\n",
      "[LightGBM] [Info] Start training from score -1.526206\n",
      "[LightGBM] [Info] Start training from score -1.273359\n"
     ]
    }
   ],
   "source": [
    "#Entreno un modelo inicial sin modificar hiperparametros. Solamente especifico el numero de clases y el tipo de modelo como clasificacoión\n",
    "lgb_params = params = {\n",
    "                        'objective': 'multiclass',\n",
    "                        'num_class': len(y_train.unique())\n",
    "                        }\n",
    "\n",
    "\n",
    "#genero el objeto Dataset que debo pasarle a lightgbm para que entrene\n",
    "lgb_train_dataset = lgb.Dataset(data=X_train,\n",
    "                                label=y_train)\n",
    "\n",
    "#entreno el modelo con los parametros por defecto\n",
    "lgb_model = lgb.train(lgb_params,\n",
    "                      lgb_train_dataset)"
   ]
  },
  {
   "cell_type": "code",
   "execution_count": 45,
   "id": "a455f6fb",
   "metadata": {},
   "outputs": [
    {
     "data": {
      "text/plain": [
       "array([2, 1, 2, ..., 1, 4, 4], shape=(2999,))"
      ]
     },
     "execution_count": 45,
     "metadata": {},
     "output_type": "execute_result"
    }
   ],
   "source": [
    "lgb_model.predict(X_test).argmax(axis=1)"
   ]
  },
  {
   "cell_type": "code",
   "execution_count": 46,
   "id": "30f83439",
   "metadata": {},
   "outputs": [
    {
     "data": {
      "text/plain": [
       "0.3222655806978707"
      ]
     },
     "execution_count": 46,
     "metadata": {},
     "output_type": "execute_result"
    }
   ],
   "source": [
    "#Obtengo las predicciones sobre el set de test. El modelo me da una lista de probabilidades para cada clase y tomo la clase con mayor probabilidad con la funcion argmax\n",
    "y_pred = lgb_model.predict(X_test).argmax(axis=1)\n",
    "\n",
    "#Calculo el Kappa\n",
    "cohen_kappa_score(y_test,y_pred, weights = 'quadratic')"
   ]
  },
  {
   "cell_type": "code",
   "execution_count": 57,
   "id": "cb21b6f4",
   "metadata": {},
   "outputs": [
    {
     "data": {
      "image/png": "[encoded data removed]",
      "text/plain": [
       "<Figure size 1000x700 with 1 Axes>"
      ]
     },
     "metadata": {},
     "output_type": "display_data"
    }
   ],
   "source": [
    "import lightgbm as lgb\n",
    "import matplotlib.pyplot as plt\n",
    "\n",
    "    # Assuming 'model' is your trained LightGBM model\n",
    "ax = lgb.plot_importance(lgb_model, importance_type=\"gain\", figsize=(10, 7))\n",
    "ax.figure.savefig(\"feature_importance.png\")"
   ]
  },
  {
   "cell_type": "code",
   "execution_count": 47,
   "id": "c806879b",
   "metadata": {},
   "outputs": [
    {
     "data": {
      "application/vnd.plotly.v1+json": {
       "config": {
        "plotlyServerURL": "https://plot.ly"
       },
       "data": [
        {
         "type": "heatmap",
         "x": {
          "bdata": "AAECAwQ=",
          "dtype": "i1"
         },
         "y": {
          "bdata": "AAECAwQ=",
          "dtype": "i1"
         },
         "z": {
          "bdata": "E7UrUbsSIUAgg/MxOB9EQEvUrkTtSjJAE7UrUbsSIUBkcD4G52M4QA4wbu9DtuQ/lLmgBhi3P0C8SevU49lCQJS5oAYYtx9ADhNlLqgBNkCZSSgX8bjfPyK1M9trdDNAAkgbRqWxREDyXC2nJ0UqQDlrogDShjlACMmAeqZy3T92x4stwbcwQCzMahRxaEFAA+qZynXHNUALsxpFHDo6QJ/neZ7neb4/wzAMwzAMKECSJEmSJMkwQAAAAAAAAB5AkiRJkiTJT0A=",
          "dtype": "f8",
          "shape": "5, 5"
         }
        }
       ],
       "layout": {
        "annotations": [
         {
          "font": {
           "color": "white"
          },
          "showarrow": false,
          "text": "8.5 - 7",
          "x": 0,
          "xref": "x",
          "y": 0,
          "yref": "y"
         },
         {
          "font": {
           "color": "white"
          },
          "showarrow": false,
          "text": "40.2 - 33",
          "x": 1,
          "xref": "x",
          "y": 0,
          "yref": "y"
         },
         {
          "font": {
           "color": "white"
          },
          "showarrow": false,
          "text": "18.3 - 15",
          "x": 2,
          "xref": "x",
          "y": 0,
          "yref": "y"
         },
         {
          "font": {
           "color": "white"
          },
          "showarrow": false,
          "text": "8.5 - 7",
          "x": 3,
          "xref": "x",
          "y": 0,
          "yref": "y"
         },
         {
          "font": {
           "color": "white"
          },
          "showarrow": false,
          "text": "24.4 - 20",
          "x": 4,
          "xref": "x",
          "y": 0,
          "yref": "y"
         },
         {
          "font": {
           "color": "white"
          },
          "showarrow": false,
          "text": "0.6 - 4",
          "x": 0,
          "xref": "x",
          "y": 1,
          "yref": "y"
         },
         {
          "font": {
           "color": "white"
          },
          "showarrow": false,
          "text": "31.7 - 196",
          "x": 1,
          "xref": "x",
          "y": 1,
          "yref": "y"
         },
         {
          "font": {
           "color": "white"
          },
          "showarrow": false,
          "text": "37.7 - 233",
          "x": 2,
          "xref": "x",
          "y": 1,
          "yref": "y"
         },
         {
          "font": {
           "color": "white"
          },
          "showarrow": false,
          "text": "7.9 - 49",
          "x": 3,
          "xref": "x",
          "y": 1,
          "yref": "y"
         },
         {
          "font": {
           "color": "white"
          },
          "showarrow": false,
          "text": "22.0 - 136",
          "x": 4,
          "xref": "x",
          "y": 1,
          "yref": "y"
         },
         {
          "font": {
           "color": "white"
          },
          "showarrow": false,
          "text": "0.5 - 4",
          "x": 0,
          "xref": "x",
          "y": 2,
          "yref": "y"
         },
         {
          "font": {
           "color": "white"
          },
          "showarrow": false,
          "text": "19.5 - 157",
          "x": 1,
          "xref": "x",
          "y": 2,
          "yref": "y"
         },
         {
          "font": {
           "color": "white"
          },
          "showarrow": false,
          "text": "41.4 - 334",
          "x": 2,
          "xref": "x",
          "y": 2,
          "yref": "y"
         },
         {
          "font": {
           "color": "white"
          },
          "showarrow": false,
          "text": "13.1 - 106",
          "x": 3,
          "xref": "x",
          "y": 2,
          "yref": "y"
         },
         {
          "font": {
           "color": "white"
          },
          "showarrow": false,
          "text": "25.5 - 206",
          "x": 4,
          "xref": "x",
          "y": 2,
          "yref": "y"
         },
         {
          "font": {
           "color": "white"
          },
          "showarrow": false,
          "text": "0.5 - 3",
          "x": 0,
          "xref": "x",
          "y": 3,
          "yref": "y"
         },
         {
          "font": {
           "color": "white"
          },
          "showarrow": false,
          "text": "16.7 - 109",
          "x": 1,
          "xref": "x",
          "y": 3,
          "yref": "y"
         },
         {
          "font": {
           "color": "white"
          },
          "showarrow": false,
          "text": "34.8 - 227",
          "x": 2,
          "xref": "x",
          "y": 3,
          "yref": "y"
         },
         {
          "font": {
           "color": "white"
          },
          "showarrow": false,
          "text": "21.8 - 142",
          "x": 3,
          "xref": "x",
          "y": 3,
          "yref": "y"
         },
         {
          "font": {
           "color": "white"
          },
          "showarrow": false,
          "text": "26.2 - 171",
          "x": 4,
          "xref": "x",
          "y": 3,
          "yref": "y"
         },
         {
          "font": {
           "color": "white"
          },
          "showarrow": false,
          "text": "0.1 - 1",
          "x": 0,
          "xref": "x",
          "y": 4,
          "yref": "y"
         },
         {
          "font": {
           "color": "white"
          },
          "showarrow": false,
          "text": "12.0 - 101",
          "x": 1,
          "xref": "x",
          "y": 4,
          "yref": "y"
         },
         {
          "font": {
           "color": "white"
          },
          "showarrow": false,
          "text": "16.8 - 141",
          "x": 2,
          "xref": "x",
          "y": 4,
          "yref": "y"
         },
         {
          "font": {
           "color": "white"
          },
          "showarrow": false,
          "text": "7.5 - 63",
          "x": 3,
          "xref": "x",
          "y": 4,
          "yref": "y"
         },
         {
          "font": {
           "color": "white"
          },
          "showarrow": false,
          "text": "63.6 - 534",
          "x": 4,
          "xref": "x",
          "y": 4,
          "yref": "y"
         }
        ],
        "height": 800,
        "template": {
         "data": {
          "bar": [
           {
            "error_x": {
             "color": "#2a3f5f"
            },
            "error_y": {
             "color": "#2a3f5f"
            },
            "marker": {
             "line": {
              "color": "#E5ECF6",
              "width": 0.5
             },
             "pattern": {
              "fillmode": "overlay",
              "size": 10,
              "solidity": 0.2
             }
            },
            "type": "bar"
           }
          ],
          "barpolar": [
           {
            "marker": {
             "line": {
              "color": "#E5ECF6",
              "width": 0.5
             },
             "pattern": {
              "fillmode": "overlay",
              "size": 10,
              "solidity": 0.2
             }
            },
            "type": "barpolar"
           }
          ],
          "carpet": [
           {
            "aaxis": {
             "endlinecolor": "#2a3f5f",
             "gridcolor": "white",
             "linecolor": "white",
             "minorgridcolor": "white",
             "startlinecolor": "#2a3f5f"
            },
            "baxis": {
             "endlinecolor": "#2a3f5f",
             "gridcolor": "white",
             "linecolor": "white",
             "minorgridcolor": "white",
             "startlinecolor": "#2a3f5f"
            },
            "type": "carpet"
           }
          ],
          "choropleth": [
           {
            "colorbar": {
             "outlinewidth": 0,
             "ticks": ""
            },
            "type": "choropleth"
           }
          ],
          "contour": [
           {
            "colorbar": {
             "outlinewidth": 0,
             "ticks": ""
            },
            "colorscale": [
             [
              0,
              "#0d0887"
             ],
             [
              0.1111111111111111,
              "#46039f"
             ],
             [
              0.2222222222222222,
              "#7201a8"
             ],
             [
              0.3333333333333333,
              "#9c179e"
             ],
             [
              0.4444444444444444,
              "#bd3786"
             ],
             [
              0.5555555555555556,
              "#d8576b"
             ],
             [
              0.6666666666666666,
              "#ed7953"
             ],
             [
              0.7777777777777778,
              "#fb9f3a"
             ],
             [
              0.8888888888888888,
              "#fdca26"
             ],
             [
              1,
              "#f0f921"
             ]
            ],
            "type": "contour"
           }
          ],
          "contourcarpet": [
           {
            "colorbar": {
             "outlinewidth": 0,
             "ticks": ""
            },
            "type": "contourcarpet"
           }
          ],
          "heatmap": [
           {
            "colorbar": {
             "outlinewidth": 0,
             "ticks": ""
            },
            "colorscale": [
             [
              0,
              "#0d0887"
             ],
             [
              0.1111111111111111,
              "#46039f"
             ],
             [
              0.2222222222222222,
              "#7201a8"
             ],
             [
              0.3333333333333333,
              "#9c179e"
             ],
             [
              0.4444444444444444,
              "#bd3786"
             ],
             [
              0.5555555555555556,
              "#d8576b"
             ],
             [
              0.6666666666666666,
              "#ed7953"
             ],
             [
              0.7777777777777778,
              "#fb9f3a"
             ],
             [
              0.8888888888888888,
              "#fdca26"
             ],
             [
              1,
              "#f0f921"
             ]
            ],
            "type": "heatmap"
           }
          ],
          "histogram": [
           {
            "marker": {
             "pattern": {
              "fillmode": "overlay",
              "size": 10,
              "solidity": 0.2
             }
            },
            "type": "histogram"
           }
          ],
          "histogram2d": [
           {
            "colorbar": {
             "outlinewidth": 0,
             "ticks": ""
            },
            "colorscale": [
             [
              0,
              "#0d0887"
             ],
             [
              0.1111111111111111,
              "#46039f"
             ],
             [
              0.2222222222222222,
              "#7201a8"
             ],
             [
              0.3333333333333333,
              "#9c179e"
             ],
             [
              0.4444444444444444,
              "#bd3786"
             ],
             [
              0.5555555555555556,
              "#d8576b"
             ],
             [
              0.6666666666666666,
              "#ed7953"
             ],
             [
              0.7777777777777778,
              "#fb9f3a"
             ],
             [
              0.8888888888888888,
              "#fdca26"
             ],
             [
              1,
              "#f0f921"
             ]
            ],
            "type": "histogram2d"
           }
          ],
          "histogram2dcontour": [
           {
            "colorbar": {
             "outlinewidth": 0,
             "ticks": ""
            },
            "colorscale": [
             [
              0,
              "#0d0887"
             ],
             [
              0.1111111111111111,
              "#46039f"
             ],
             [
              0.2222222222222222,
              "#7201a8"
             ],
             [
              0.3333333333333333,
              "#9c179e"
             ],
             [
              0.4444444444444444,
              "#bd3786"
             ],
             [
              0.5555555555555556,
              "#d8576b"
             ],
             [
              0.6666666666666666,
              "#ed7953"
             ],
             [
              0.7777777777777778,
              "#fb9f3a"
             ],
             [
              0.8888888888888888,
              "#fdca26"
             ],
             [
              1,
              "#f0f921"
             ]
            ],
            "type": "histogram2dcontour"
           }
          ],
          "mesh3d": [
           {
            "colorbar": {
             "outlinewidth": 0,
             "ticks": ""
            },
            "type": "mesh3d"
           }
          ],
          "parcoords": [
           {
            "line": {
             "colorbar": {
              "outlinewidth": 0,
              "ticks": ""
             }
            },
            "type": "parcoords"
           }
          ],
          "pie": [
           {
            "automargin": true,
            "type": "pie"
           }
          ],
          "scatter": [
           {
            "fillpattern": {
             "fillmode": "overlay",
             "size": 10,
             "solidity": 0.2
            },
            "type": "scatter"
           }
          ],
          "scatter3d": [
           {
            "line": {
             "colorbar": {
              "outlinewidth": 0,
              "ticks": ""
             }
            },
            "marker": {
             "colorbar": {
              "outlinewidth": 0,
              "ticks": ""
             }
            },
            "type": "scatter3d"
           }
          ],
          "scattercarpet": [
           {
            "marker": {
             "colorbar": {
              "outlinewidth": 0,
              "ticks": ""
             }
            },
            "type": "scattercarpet"
           }
          ],
          "scattergeo": [
           {
            "marker": {
             "colorbar": {
              "outlinewidth": 0,
              "ticks": ""
             }
            },
            "type": "scattergeo"
           }
          ],
          "scattergl": [
           {
            "marker": {
             "colorbar": {
              "outlinewidth": 0,
              "ticks": ""
             }
            },
            "type": "scattergl"
           }
          ],
          "scattermap": [
           {
            "marker": {
             "colorbar": {
              "outlinewidth": 0,
              "ticks": ""
             }
            },
            "type": "scattermap"
           }
          ],
          "scattermapbox": [
           {
            "marker": {
             "colorbar": {
              "outlinewidth": 0,
              "ticks": ""
             }
            },
            "type": "scattermapbox"
           }
          ],
          "scatterpolar": [
           {
            "marker": {
             "colorbar": {
              "outlinewidth": 0,
              "ticks": ""
             }
            },
            "type": "scatterpolar"
           }
          ],
          "scatterpolargl": [
           {
            "marker": {
             "colorbar": {
              "outlinewidth": 0,
              "ticks": ""
             }
            },
            "type": "scatterpolargl"
           }
          ],
          "scatterternary": [
           {
            "marker": {
             "colorbar": {
              "outlinewidth": 0,
              "ticks": ""
             }
            },
            "type": "scatterternary"
           }
          ],
          "surface": [
           {
            "colorbar": {
             "outlinewidth": 0,
             "ticks": ""
            },
            "colorscale": [
             [
              0,
              "#0d0887"
             ],
             [
              0.1111111111111111,
              "#46039f"
             ],
             [
              0.2222222222222222,
              "#7201a8"
             ],
             [
              0.3333333333333333,
              "#9c179e"
             ],
             [
              0.4444444444444444,
              "#bd3786"
             ],
             [
              0.5555555555555556,
              "#d8576b"
             ],
             [
              0.6666666666666666,
              "#ed7953"
             ],
             [
              0.7777777777777778,
              "#fb9f3a"
             ],
             [
              0.8888888888888888,
              "#fdca26"
             ],
             [
              1,
              "#f0f921"
             ]
            ],
            "type": "surface"
           }
          ],
          "table": [
           {
            "cells": {
             "fill": {
              "color": "#EBF0F8"
             },
             "line": {
              "color": "white"
             }
            },
            "header": {
             "fill": {
              "color": "#C8D4E3"
             },
             "line": {
              "color": "white"
             }
            },
            "type": "table"
           }
          ]
         },
         "layout": {
          "annotationdefaults": {
           "arrowcolor": "#2a3f5f",
           "arrowhead": 0,
           "arrowwidth": 1
          },
          "autotypenumbers": "strict",
          "coloraxis": {
           "colorbar": {
            "outlinewidth": 0,
            "ticks": ""
           }
          },
          "colorscale": {
           "diverging": [
            [
             0,
             "#8e0152"
            ],
            [
             0.1,
             "#c51b7d"
            ],
            [
             0.2,
             "#de77ae"
            ],
            [
             0.3,
             "#f1b6da"
            ],
            [
             0.4,
             "#fde0ef"
            ],
            [
             0.5,
             "#f7f7f7"
            ],
            [
             0.6,
             "#e6f5d0"
            ],
            [
             0.7,
             "#b8e186"
            ],
            [
             0.8,
             "#7fbc41"
            ],
            [
             0.9,
             "#4d9221"
            ],
            [
             1,
             "#276419"
            ]
           ],
           "sequential": [
            [
             0,
             "#0d0887"
            ],
            [
             0.1111111111111111,
             "#46039f"
            ],
            [
             0.2222222222222222,
             "#7201a8"
            ],
            [
             0.3333333333333333,
             "#9c179e"
            ],
            [
             0.4444444444444444,
             "#bd3786"
            ],
            [
             0.5555555555555556,
             "#d8576b"
            ],
            [
             0.6666666666666666,
             "#ed7953"
            ],
            [
             0.7777777777777778,
             "#fb9f3a"
            ],
            [
             0.8888888888888888,
             "#fdca26"
            ],
            [
             1,
             "#f0f921"
            ]
           ],
           "sequentialminus": [
            [
             0,
             "#0d0887"
            ],
            [
             0.1111111111111111,
             "#46039f"
            ],
            [
             0.2222222222222222,
             "#7201a8"
            ],
            [
             0.3333333333333333,
             "#9c179e"
            ],
            [
             0.4444444444444444,
             "#bd3786"
            ],
            [
             0.5555555555555556,
             "#d8576b"
            ],
            [
             0.6666666666666666,
             "#ed7953"
            ],
            [
             0.7777777777777778,
             "#fb9f3a"
            ],
            [
             0.8888888888888888,
             "#fdca26"
            ],
            [
             1,
             "#f0f921"
            ]
           ]
          },
          "colorway": [
           "#636efa",
           "#EF553B",
           "#00cc96",
           "#ab63fa",
           "#FFA15A",
           "#19d3f3",
           "#FF6692",
           "#B6E880",
           "#FF97FF",
           "#FECB52"
          ],
          "font": {
           "color": "#2a3f5f"
          },
          "geo": {
           "bgcolor": "white",
           "lakecolor": "white",
           "landcolor": "#E5ECF6",
           "showlakes": true,
           "showland": true,
           "subunitcolor": "white"
          },
          "hoverlabel": {
           "align": "left"
          },
          "hovermode": "closest",
          "mapbox": {
           "style": "light"
          },
          "paper_bgcolor": "white",
          "plot_bgcolor": "#E5ECF6",
          "polar": {
           "angularaxis": {
            "gridcolor": "white",
            "linecolor": "white",
            "ticks": ""
           },
           "bgcolor": "#E5ECF6",
           "radialaxis": {
            "gridcolor": "white",
            "linecolor": "white",
            "ticks": ""
           }
          },
          "scene": {
           "xaxis": {
            "backgroundcolor": "#E5ECF6",
            "gridcolor": "white",
            "gridwidth": 2,
            "linecolor": "white",
            "showbackground": true,
            "ticks": "",
            "zerolinecolor": "white"
           },
           "yaxis": {
            "backgroundcolor": "#E5ECF6",
            "gridcolor": "white",
            "gridwidth": 2,
            "linecolor": "white",
            "showbackground": true,
            "ticks": "",
            "zerolinecolor": "white"
           },
           "zaxis": {
            "backgroundcolor": "#E5ECF6",
            "gridcolor": "white",
            "gridwidth": 2,
            "linecolor": "white",
            "showbackground": true,
            "ticks": "",
            "zerolinecolor": "white"
           }
          },
          "shapedefaults": {
           "line": {
            "color": "#2a3f5f"
           }
          },
          "ternary": {
           "aaxis": {
            "gridcolor": "white",
            "linecolor": "white",
            "ticks": ""
           },
           "baxis": {
            "gridcolor": "white",
            "linecolor": "white",
            "ticks": ""
           },
           "bgcolor": "#E5ECF6",
           "caxis": {
            "gridcolor": "white",
            "linecolor": "white",
            "ticks": ""
           }
          },
          "title": {
           "x": 0.05
          },
          "xaxis": {
           "automargin": true,
           "gridcolor": "white",
           "linecolor": "white",
           "ticks": "",
           "title": {
            "standoff": 15
           },
           "zerolinecolor": "white",
           "zerolinewidth": 2
          },
          "yaxis": {
           "automargin": true,
           "gridcolor": "white",
           "linecolor": "white",
           "ticks": "",
           "title": {
            "standoff": 15
           },
           "zerolinecolor": "white",
           "zerolinewidth": 2
          }
         }
        },
        "title": {
         "text": "Conf Matrix"
        },
        "width": 800,
        "xaxis": {
         "title": {
          "text": "Predicted value"
         }
        },
        "yaxis": {
         "title": {
          "text": "Real value"
         }
        }
       }
      }
     },
     "metadata": {},
     "output_type": "display_data"
    }
   ],
   "source": [
    "#Muestro la matriz de confusión\n",
    "display(plot_confusion_matrix(y_test,y_pred))"
   ]
  },
  {
   "cell_type": "code",
   "execution_count": 30,
   "id": "2c682481",
   "metadata": {},
   "outputs": [
    {
     "name": "stdout",
     "output_type": "stream",
     "text": [
      "[LightGBM] [Info] Number of positive: 328, number of negative: 11666\n",
      "[LightGBM] [Info] Number of positive: 2472, number of negative: 9522\n",
      "[LightGBM] [Info] Number of positive: 3230, number of negative: 8764\n",
      "[LightGBM] [Info] Number of positive: 2607, number of negative: 9387\n",
      "[LightGBM] [Info] Number of positive: 3357, number of negative: 8637\n",
      "[LightGBM] [Info] Auto-choosing row-wise multi-threading, the overhead of testing was 0.001227 seconds.\n",
      "You can set `force_row_wise=true` to remove the overhead.\n",
      "And if memory is not enough, you can set `force_col_wise=true`.\n",
      "[LightGBM] [Info] Total Bins 733\n",
      "[LightGBM] [Info] Number of data points in the train set: 11994, number of used features: 35\n",
      "[LightGBM] [Info] [binary:BoostFromScore]: pavg=0.027347 -> initscore=-3.571420\n",
      "[LightGBM] [Info] Start training from score -3.571420\n",
      "[LightGBM] [Info] [binary:BoostFromScore]: pavg=0.206103 -> initscore=-1.348577\n",
      "[LightGBM] [Info] Start training from score -1.348577\n",
      "[LightGBM] [Info] [binary:BoostFromScore]: pavg=0.269301 -> initscore=-0.998170\n",
      "[LightGBM] [Info] Start training from score -0.998170\n",
      "[LightGBM] [Info] [binary:BoostFromScore]: pavg=0.217359 -> initscore=-1.281126\n",
      "[LightGBM] [Info] Start training from score -1.281126\n",
      "[LightGBM] [Info] [binary:BoostFromScore]: pavg=0.279890 -> initscore=-0.945008\n",
      "[LightGBM] [Info] Start training from score -0.945008\n"
     ]
    }
   ],
   "source": [
    "#Pruebo un modelo alternativo donde en vez de usar la version multiclass real de lightGBM utilizo One vs All\n",
    "\n",
    "lgb_params = params = {\n",
    "                        'objective': 'multiclassova',\n",
    "                        'num_class': len(y_train.unique())\n",
    "                        }\n",
    "\n",
    "\n",
    "lgb_train_dataset = lgb.Dataset(data=X_train,\n",
    "                                label=y_train)\n",
    "\n",
    "\n",
    "lgb_model = lgb.train(lgb_params,\n",
    "                      lgb_train_dataset)"
   ]
  },
  {
   "cell_type": "code",
   "execution_count": 31,
   "id": "9693279e",
   "metadata": {},
   "outputs": [
    {
     "data": {
      "application/vnd.plotly.v1+json": {
       "config": {
        "plotlyServerURL": "https://plot.ly"
       },
       "data": [
        {
         "type": "heatmap",
         "x": {
          "bdata": "AAECAwQ=",
          "dtype": "i1"
         },
         "y": {
          "bdata": "AAECAwQ=",
          "dtype": "i1"
         },
         "z": {
          "bdata": "E7UrUbsSIUDnY3A+BudCQPQxOB+D8zVAE7UrUbsSIUAsUbsStSs3QA4wbu9DtsQ/S87LIj6BQECctE49nl1CQBGfQCo5LxtAD/ZbbQxNN0CZSSgX8bi/P79TSIQJTjZAa9B5gB0lQ0Cf5i/vQosnQNLvFBJhgjtAsDCrUcShwz9SxKGT9kEwQJrKdceLLUFAb/NXmNUoN0CpXHe82BI6QJ/neZ7neb4/Pc/zPM/zJEBJkiRJkiQxQJIkSZIkSRhAwzAMwzCMUEA=",
          "dtype": "f8",
          "shape": "5, 5"
         }
        }
       ],
       "layout": {
        "annotations": [
         {
          "font": {
           "color": "white"
          },
          "showarrow": false,
          "text": "8.5 - 7",
          "x": 0,
          "xref": "x",
          "y": 0,
          "yref": "y"
         },
         {
          "font": {
           "color": "white"
          },
          "showarrow": false,
          "text": "37.8 - 31",
          "x": 1,
          "xref": "x",
          "y": 0,
          "yref": "y"
         },
         {
          "font": {
           "color": "white"
          },
          "showarrow": false,
          "text": "22.0 - 18",
          "x": 2,
          "xref": "x",
          "y": 0,
          "yref": "y"
         },
         {
          "font": {
           "color": "white"
          },
          "showarrow": false,
          "text": "8.5 - 7",
          "x": 3,
          "xref": "x",
          "y": 0,
          "yref": "y"
         },
         {
          "font": {
           "color": "white"
          },
          "showarrow": false,
          "text": "23.2 - 19",
          "x": 4,
          "xref": "x",
          "y": 0,
          "yref": "y"
         },
         {
          "font": {
           "color": "white"
          },
          "showarrow": false,
          "text": "0.2 - 1",
          "x": 0,
          "xref": "x",
          "y": 1,
          "yref": "y"
         },
         {
          "font": {
           "color": "white"
          },
          "showarrow": false,
          "text": "33.0 - 204",
          "x": 1,
          "xref": "x",
          "y": 1,
          "yref": "y"
         },
         {
          "font": {
           "color": "white"
          },
          "showarrow": false,
          "text": "36.7 - 227",
          "x": 2,
          "xref": "x",
          "y": 1,
          "yref": "y"
         },
         {
          "font": {
           "color": "white"
          },
          "showarrow": false,
          "text": "6.8 - 42",
          "x": 3,
          "xref": "x",
          "y": 1,
          "yref": "y"
         },
         {
          "font": {
           "color": "white"
          },
          "showarrow": false,
          "text": "23.3 - 144",
          "x": 4,
          "xref": "x",
          "y": 1,
          "yref": "y"
         },
         {
          "font": {
           "color": "white"
          },
          "showarrow": false,
          "text": "0.1 - 1",
          "x": 0,
          "xref": "x",
          "y": 2,
          "yref": "y"
         },
         {
          "font": {
           "color": "white"
          },
          "showarrow": false,
          "text": "22.3 - 180",
          "x": 1,
          "xref": "x",
          "y": 2,
          "yref": "y"
         },
         {
          "font": {
           "color": "white"
          },
          "showarrow": false,
          "text": "38.3 - 309",
          "x": 2,
          "xref": "x",
          "y": 2,
          "yref": "y"
         },
         {
          "font": {
           "color": "white"
          },
          "showarrow": false,
          "text": "11.8 - 95",
          "x": 3,
          "xref": "x",
          "y": 2,
          "yref": "y"
         },
         {
          "font": {
           "color": "white"
          },
          "showarrow": false,
          "text": "27.5 - 222",
          "x": 4,
          "xref": "x",
          "y": 2,
          "yref": "y"
         },
         {
          "font": {
           "color": "white"
          },
          "showarrow": false,
          "text": "0.2 - 1",
          "x": 0,
          "xref": "x",
          "y": 3,
          "yref": "y"
         },
         {
          "font": {
           "color": "white"
          },
          "showarrow": false,
          "text": "16.3 - 106",
          "x": 1,
          "xref": "x",
          "y": 3,
          "yref": "y"
         },
         {
          "font": {
           "color": "white"
          },
          "showarrow": false,
          "text": "34.4 - 224",
          "x": 2,
          "xref": "x",
          "y": 3,
          "yref": "y"
         },
         {
          "font": {
           "color": "white"
          },
          "showarrow": false,
          "text": "23.2 - 151",
          "x": 3,
          "xref": "x",
          "y": 3,
          "yref": "y"
         },
         {
          "font": {
           "color": "white"
          },
          "showarrow": false,
          "text": "26.1 - 170",
          "x": 4,
          "xref": "x",
          "y": 3,
          "yref": "y"
         },
         {
          "font": {
           "color": "white"
          },
          "showarrow": false,
          "text": "0.1 - 1",
          "x": 0,
          "xref": "x",
          "y": 4,
          "yref": "y"
         },
         {
          "font": {
           "color": "white"
          },
          "showarrow": false,
          "text": "10.5 - 88",
          "x": 1,
          "xref": "x",
          "y": 4,
          "yref": "y"
         },
         {
          "font": {
           "color": "white"
          },
          "showarrow": false,
          "text": "17.1 - 144",
          "x": 2,
          "xref": "x",
          "y": 4,
          "yref": "y"
         },
         {
          "font": {
           "color": "white"
          },
          "showarrow": false,
          "text": "6.1 - 51",
          "x": 3,
          "xref": "x",
          "y": 4,
          "yref": "y"
         },
         {
          "font": {
           "color": "white"
          },
          "showarrow": false,
          "text": "66.2 - 556",
          "x": 4,
          "xref": "x",
          "y": 4,
          "yref": "y"
         }
        ],
        "height": 800,
        "template": {
         "data": {
          "bar": [
           {
            "error_x": {
             "color": "#2a3f5f"
            },
            "error_y": {
             "color": "#2a3f5f"
            },
            "marker": {
             "line": {
              "color": "#E5ECF6",
              "width": 0.5
             },
             "pattern": {
              "fillmode": "overlay",
              "size": 10,
              "solidity": 0.2
             }
            },
            "type": "bar"
           }
          ],
          "barpolar": [
           {
            "marker": {
             "line": {
              "color": "#E5ECF6",
              "width": 0.5
             },
             "pattern": {
              "fillmode": "overlay",
              "size": 10,
              "solidity": 0.2
             }
            },
            "type": "barpolar"
           }
          ],
          "carpet": [
           {
            "aaxis": {
             "endlinecolor": "#2a3f5f",
             "gridcolor": "white",
             "linecolor": "white",
             "minorgridcolor": "white",
             "startlinecolor": "#2a3f5f"
            },
            "baxis": {
             "endlinecolor": "#2a3f5f",
             "gridcolor": "white",
             "linecolor": "white",
             "minorgridcolor": "white",
             "startlinecolor": "#2a3f5f"
            },
            "type": "carpet"
           }
          ],
          "choropleth": [
           {
            "colorbar": {
             "outlinewidth": 0,
             "ticks": ""
            },
            "type": "choropleth"
           }
          ],
          "contour": [
           {
            "colorbar": {
             "outlinewidth": 0,
             "ticks": ""
            },
            "colorscale": [
             [
              0,
              "#0d0887"
             ],
             [
              0.1111111111111111,
              "#46039f"
             ],
             [
              0.2222222222222222,
              "#7201a8"
             ],
             [
              0.3333333333333333,
              "#9c179e"
             ],
             [
              0.4444444444444444,
              "#bd3786"
             ],
             [
              0.5555555555555556,
              "#d8576b"
             ],
             [
              0.6666666666666666,
              "#ed7953"
             ],
             [
              0.7777777777777778,
              "#fb9f3a"
             ],
             [
              0.8888888888888888,
              "#fdca26"
             ],
             [
              1,
              "#f0f921"
             ]
            ],
            "type": "contour"
           }
          ],
          "contourcarpet": [
           {
            "colorbar": {
             "outlinewidth": 0,
             "ticks": ""
            },
            "type": "contourcarpet"
           }
          ],
          "heatmap": [
           {
            "colorbar": {
             "outlinewidth": 0,
             "ticks": ""
            },
            "colorscale": [
             [
              0,
              "#0d0887"
             ],
             [
              0.1111111111111111,
              "#46039f"
             ],
             [
              0.2222222222222222,
              "#7201a8"
             ],
             [
              0.3333333333333333,
              "#9c179e"
             ],
             [
              0.4444444444444444,
              "#bd3786"
             ],
             [
              0.5555555555555556,
              "#d8576b"
             ],
             [
              0.6666666666666666,
              "#ed7953"
             ],
             [
              0.7777777777777778,
              "#fb9f3a"
             ],
             [
              0.8888888888888888,
              "#fdca26"
             ],
             [
              1,
              "#f0f921"
             ]
            ],
            "type": "heatmap"
           }
          ],
          "histogram": [
           {
            "marker": {
             "pattern": {
              "fillmode": "overlay",
              "size": 10,
              "solidity": 0.2
             }
            },
            "type": "histogram"
           }
          ],
          "histogram2d": [
           {
            "colorbar": {
             "outlinewidth": 0,
             "ticks": ""
            },
            "colorscale": [
             [
              0,
              "#0d0887"
             ],
             [
              0.1111111111111111,
              "#46039f"
             ],
             [
              0.2222222222222222,
              "#7201a8"
             ],
             [
              0.3333333333333333,
              "#9c179e"
             ],
             [
              0.4444444444444444,
              "#bd3786"
             ],
             [
              0.5555555555555556,
              "#d8576b"
             ],
             [
              0.6666666666666666,
              "#ed7953"
             ],
             [
              0.7777777777777778,
              "#fb9f3a"
             ],
             [
              0.8888888888888888,
              "#fdca26"
             ],
             [
              1,
              "#f0f921"
             ]
            ],
            "type": "histogram2d"
           }
          ],
          "histogram2dcontour": [
           {
            "colorbar": {
             "outlinewidth": 0,
             "ticks": ""
            },
            "colorscale": [
             [
              0,
              "#0d0887"
             ],
             [
              0.1111111111111111,
              "#46039f"
             ],
             [
              0.2222222222222222,
              "#7201a8"
             ],
             [
              0.3333333333333333,
              "#9c179e"
             ],
             [
              0.4444444444444444,
              "#bd3786"
             ],
             [
              0.5555555555555556,
              "#d8576b"
             ],
             [
              0.6666666666666666,
              "#ed7953"
             ],
             [
              0.7777777777777778,
              "#fb9f3a"
             ],
             [
              0.8888888888888888,
              "#fdca26"
             ],
             [
              1,
              "#f0f921"
             ]
            ],
            "type": "histogram2dcontour"
           }
          ],
          "mesh3d": [
           {
            "colorbar": {
             "outlinewidth": 0,
             "ticks": ""
            },
            "type": "mesh3d"
           }
          ],
          "parcoords": [
           {
            "line": {
             "colorbar": {
              "outlinewidth": 0,
              "ticks": ""
             }
            },
            "type": "parcoords"
           }
          ],
          "pie": [
           {
            "automargin": true,
            "type": "pie"
           }
          ],
          "scatter": [
           {
            "fillpattern": {
             "fillmode": "overlay",
             "size": 10,
             "solidity": 0.2
            },
            "type": "scatter"
           }
          ],
          "scatter3d": [
           {
            "line": {
             "colorbar": {
              "outlinewidth": 0,
              "ticks": ""
             }
            },
            "marker": {
             "colorbar": {
              "outlinewidth": 0,
              "ticks": ""
             }
            },
            "type": "scatter3d"
           }
          ],
          "scattercarpet": [
           {
            "marker": {
             "colorbar": {
              "outlinewidth": 0,
              "ticks": ""
             }
            },
            "type": "scattercarpet"
           }
          ],
          "scattergeo": [
           {
            "marker": {
             "colorbar": {
              "outlinewidth": 0,
              "ticks": ""
             }
            },
            "type": "scattergeo"
           }
          ],
          "scattergl": [
           {
            "marker": {
             "colorbar": {
              "outlinewidth": 0,
              "ticks": ""
             }
            },
            "type": "scattergl"
           }
          ],
          "scattermap": [
           {
            "marker": {
             "colorbar": {
              "outlinewidth": 0,
              "ticks": ""
             }
            },
            "type": "scattermap"
           }
          ],
          "scattermapbox": [
           {
            "marker": {
             "colorbar": {
              "outlinewidth": 0,
              "ticks": ""
             }
            },
            "type": "scattermapbox"
           }
          ],
          "scatterpolar": [
           {
            "marker": {
             "colorbar": {
              "outlinewidth": 0,
              "ticks": ""
             }
            },
            "type": "scatterpolar"
           }
          ],
          "scatterpolargl": [
           {
            "marker": {
             "colorbar": {
              "outlinewidth": 0,
              "ticks": ""
             }
            },
            "type": "scatterpolargl"
           }
          ],
          "scatterternary": [
           {
            "marker": {
             "colorbar": {
              "outlinewidth": 0,
              "ticks": ""
             }
            },
            "type": "scatterternary"
           }
          ],
          "surface": [
           {
            "colorbar": {
             "outlinewidth": 0,
             "ticks": ""
            },
            "colorscale": [
             [
              0,
              "#0d0887"
             ],
             [
              0.1111111111111111,
              "#46039f"
             ],
             [
              0.2222222222222222,
              "#7201a8"
             ],
             [
              0.3333333333333333,
              "#9c179e"
             ],
             [
              0.4444444444444444,
              "#bd3786"
             ],
             [
              0.5555555555555556,
              "#d8576b"
             ],
             [
              0.6666666666666666,
              "#ed7953"
             ],
             [
              0.7777777777777778,
              "#fb9f3a"
             ],
             [
              0.8888888888888888,
              "#fdca26"
             ],
             [
              1,
              "#f0f921"
             ]
            ],
            "type": "surface"
           }
          ],
          "table": [
           {
            "cells": {
             "fill": {
              "color": "#EBF0F8"
             },
             "line": {
              "color": "white"
             }
            },
            "header": {
             "fill": {
              "color": "#C8D4E3"
             },
             "line": {
              "color": "white"
             }
            },
            "type": "table"
           }
          ]
         },
         "layout": {
          "annotationdefaults": {
           "arrowcolor": "#2a3f5f",
           "arrowhead": 0,
           "arrowwidth": 1
          },
          "autotypenumbers": "strict",
          "coloraxis": {
           "colorbar": {
            "outlinewidth": 0,
            "ticks": ""
           }
          },
          "colorscale": {
           "diverging": [
            [
             0,
             "#8e0152"
            ],
            [
             0.1,
             "#c51b7d"
            ],
            [
             0.2,
             "#de77ae"
            ],
            [
             0.3,
             "#f1b6da"
            ],
            [
             0.4,
             "#fde0ef"
            ],
            [
             0.5,
             "#f7f7f7"
            ],
            [
             0.6,
             "#e6f5d0"
            ],
            [
             0.7,
             "#b8e186"
            ],
            [
             0.8,
             "#7fbc41"
            ],
            [
             0.9,
             "#4d9221"
            ],
            [
             1,
             "#276419"
            ]
           ],
           "sequential": [
            [
             0,
             "#0d0887"
            ],
            [
             0.1111111111111111,
             "#46039f"
            ],
            [
             0.2222222222222222,
             "#7201a8"
            ],
            [
             0.3333333333333333,
             "#9c179e"
            ],
            [
             0.4444444444444444,
             "#bd3786"
            ],
            [
             0.5555555555555556,
             "#d8576b"
            ],
            [
             0.6666666666666666,
             "#ed7953"
            ],
            [
             0.7777777777777778,
             "#fb9f3a"
            ],
            [
             0.8888888888888888,
             "#fdca26"
            ],
            [
             1,
             "#f0f921"
            ]
           ],
           "sequentialminus": [
            [
             0,
             "#0d0887"
            ],
            [
             0.1111111111111111,
             "#46039f"
            ],
            [
             0.2222222222222222,
             "#7201a8"
            ],
            [
             0.3333333333333333,
             "#9c179e"
            ],
            [
             0.4444444444444444,
             "#bd3786"
            ],
            [
             0.5555555555555556,
             "#d8576b"
            ],
            [
             0.6666666666666666,
             "#ed7953"
            ],
            [
             0.7777777777777778,
             "#fb9f3a"
            ],
            [
             0.8888888888888888,
             "#fdca26"
            ],
            [
             1,
             "#f0f921"
            ]
           ]
          },
          "colorway": [
           "#636efa",
           "#EF553B",
           "#00cc96",
           "#ab63fa",
           "#FFA15A",
           "#19d3f3",
           "#FF6692",
           "#B6E880",
           "#FF97FF",
           "#FECB52"
          ],
          "font": {
           "color": "#2a3f5f"
          },
          "geo": {
           "bgcolor": "white",
           "lakecolor": "white",
           "landcolor": "#E5ECF6",
           "showlakes": true,
           "showland": true,
           "subunitcolor": "white"
          },
          "hoverlabel": {
           "align": "left"
          },
          "hovermode": "closest",
          "mapbox": {
           "style": "light"
          },
          "paper_bgcolor": "white",
          "plot_bgcolor": "#E5ECF6",
          "polar": {
           "angularaxis": {
            "gridcolor": "white",
            "linecolor": "white",
            "ticks": ""
           },
           "bgcolor": "#E5ECF6",
           "radialaxis": {
            "gridcolor": "white",
            "linecolor": "white",
            "ticks": ""
           }
          },
          "scene": {
           "xaxis": {
            "backgroundcolor": "#E5ECF6",
            "gridcolor": "white",
            "gridwidth": 2,
            "linecolor": "white",
            "showbackground": true,
            "ticks": "",
            "zerolinecolor": "white"
           },
           "yaxis": {
            "backgroundcolor": "#E5ECF6",
            "gridcolor": "white",
            "gridwidth": 2,
            "linecolor": "white",
            "showbackground": true,
            "ticks": "",
            "zerolinecolor": "white"
           },
           "zaxis": {
            "backgroundcolor": "#E5ECF6",
            "gridcolor": "white",
            "gridwidth": 2,
            "linecolor": "white",
            "showbackground": true,
            "ticks": "",
            "zerolinecolor": "white"
           }
          },
          "shapedefaults": {
           "line": {
            "color": "#2a3f5f"
           }
          },
          "ternary": {
           "aaxis": {
            "gridcolor": "white",
            "linecolor": "white",
            "ticks": ""
           },
           "baxis": {
            "gridcolor": "white",
            "linecolor": "white",
            "ticks": ""
           },
           "bgcolor": "#E5ECF6",
           "caxis": {
            "gridcolor": "white",
            "linecolor": "white",
            "ticks": ""
           }
          },
          "title": {
           "x": 0.05
          },
          "xaxis": {
           "automargin": true,
           "gridcolor": "white",
           "linecolor": "white",
           "ticks": "",
           "title": {
            "standoff": 15
           },
           "zerolinecolor": "white",
           "zerolinewidth": 2
          },
          "yaxis": {
           "automargin": true,
           "gridcolor": "white",
           "linecolor": "white",
           "ticks": "",
           "title": {
            "standoff": 15
           },
           "zerolinecolor": "white",
           "zerolinewidth": 2
          }
         }
        },
        "title": {
         "text": "Conf Matrix"
        },
        "width": 800,
        "xaxis": {
         "title": {
          "text": "Predicted value"
         }
        },
        "yaxis": {
         "title": {
          "text": "Real value"
         }
        }
       }
      }
     },
     "metadata": {},
     "output_type": "display_data"
    },
    {
     "data": {
      "text/plain": [
       "{'kappa': 0.3343069622440521,\n",
       " 'accuracy': 0.40913637879293097,\n",
       " 'balanced_accuracy': 0.33837248464385344}"
      ]
     },
     "execution_count": 31,
     "metadata": {},
     "output_type": "execute_result"
    }
   ],
   "source": [
    "#MAtriz de confusion y Kappa dfe OVA\n",
    "y_pred = lgb_model.predict(X_test).argmax(axis=1)\n",
    "\n",
    "display(plot_confusion_matrix(y_test,y_pred))\n",
    "\n",
    "{'kappa':cohen_kappa_score(y_test,\n",
    "                y_pred,\n",
    "                weights = 'quadratic'),\n",
    " 'accuracy':accuracy_score(y_test,y_pred),\n",
    " 'balanced_accuracy':balanced_accuracy_score(y_test,y_pred)}\n",
    "\n",
    "\n"
   ]
  },
  {
   "cell_type": "markdown",
   "id": "1c25546a",
   "metadata": {},
   "source": [
    "## Optimizacion de hyperparametros modelo train/test\n",
    " "
   ]
  },
  {
   "cell_type": "code",
   "execution_count": null,
   "id": "a361b6aa",
   "metadata": {},
   "outputs": [],
   "source": [
    "\n",
    "#Funcion que vamos a optimizar. Optuna requiere que usemos el objeto trial para generar los parametros a optimizar\n",
    "def lgb_objective(trial):\n",
    "    #PArametros para LightGBM\n",
    "    lgb_params = {      \n",
    "                        #PArametros fijos\n",
    "                        'objective': 'multiclass',\n",
    "                        'verbosity':-1,\n",
    "                        'num_class': len(y_train.unique()),\n",
    "                        #Hiperparametros a optimizar utilizando suggest_float o suggest_int segun el tipo de dato\n",
    "                        #Se indica el nombre del parametro, valor minimo, valor maximo \n",
    "                        #en elgunos casos el parametro log=True para parametros que requieren buscar en esa escala\n",
    "                        'lambda_l1': trial.suggest_float('lambda_l1', 1e-8, 10.0, log=True),\n",
    "                        'lambda_l2': trial.suggest_float('lambda_l2', 1e-8, 10.0, log=True),\n",
    "                        'num_leaves': trial.suggest_int('num_leaves', 2, 256),\n",
    "                        'feature_fraction': trial.suggest_float('feature_fraction', 0.4, 1.0),\n",
    "                        'bagging_fraction': trial.suggest_float('bagging_fraction', 0.4, 1.0),\n",
    "                        'bagging_freq': trial.suggest_int('bagging_freq', 1, 7),\n",
    "                        'min_child_samples': trial.suggest_int('min_child_samples', 5, 100),\n",
    "                        } \n",
    "\n",
    "    #Genero objeto dataset de entrenamiento\n",
    "    lgb_train_dataset = lgb.Dataset(data=X_train,\n",
    "                                    label=y_train)\n",
    "\n",
    "    #ajuste de modelo\n",
    "    lgb_model = lgb.train(lgb_params,\n",
    "                        lgb_train_dataset)\n",
    "    \n",
    "    #Devuelvo el score en test\n",
    "    return(cohen_kappa_score(y_test,lgb_model.predict(X_test).argmax(axis=1),\n",
    "                             weights = 'quadratic'))"
   ]
  },
  {
   "cell_type": "code",
   "execution_count": 60,
   "id": "6868b58c",
   "metadata": {},
   "outputs": [
    {
     "name": "stderr",
     "output_type": "stream",
     "text": [
      "[I 2025-07-25 17:16:08,254] Using an existing study with name '04 - LGB Multiclass G2' instead of creating a new one.\n",
      "[I 2025-07-25 17:16:15,203] Trial 100 finished with value: 0.29618241096183695 and parameters: {'lambda_l1': 0.06627046428575126, 'lambda_l2': 6.07051584427789e-07, 'num_leaves': 286, 'feature_fraction': 0.4680316817718708, 'bagging_fraction': 0.7040499633206639, 'bagging_freq': 7, 'min_child_samples': 42}. Best is trial 97 with value: 0.3433236690052913.\n",
      "[I 2025-07-25 17:16:34,916] Trial 101 finished with value: 0.2872296297598148 and parameters: {'lambda_l1': 0.004995392708077501, 'lambda_l2': 5.990182189842035e-06, 'num_leaves': 387, 'feature_fraction': 0.9439728457307385, 'bagging_fraction': 0.6827217418062578, 'bagging_freq': 7, 'min_child_samples': 18}. Best is trial 97 with value: 0.3433236690052913.\n",
      "[I 2025-07-25 17:16:41,589] Trial 102 finished with value: 0.29606711482127757 and parameters: {'lambda_l1': 0.0072289865528711245, 'lambda_l2': 7.615869730750793e-05, 'num_leaves': 83, 'feature_fraction': 0.8705606367554146, 'bagging_fraction': 0.6584947267995912, 'bagging_freq': 7, 'min_child_samples': 37}. Best is trial 97 with value: 0.3433236690052913.\n",
      "[I 2025-07-25 17:17:06,064] Trial 103 finished with value: 0.2877058064717021 and parameters: {'lambda_l1': 1.5663626636939401e-06, 'lambda_l2': 1.576136612934168e-05, 'num_leaves': 334, 'feature_fraction': 0.9608522672118162, 'bagging_fraction': 0.6144653637415842, 'bagging_freq': 7, 'min_child_samples': 5}. Best is trial 97 with value: 0.3433236690052913.\n",
      "[I 2025-07-25 17:17:27,893] Trial 104 finished with value: 0.2959158060611974 and parameters: {'lambda_l1': 0.011106856805950697, 'lambda_l2': 1.3393172275322766e-07, 'num_leaves': 441, 'feature_fraction': 0.9266657438742544, 'bagging_fraction': 0.5931988050421769, 'bagging_freq': 6, 'min_child_samples': 14}. Best is trial 97 with value: 0.3433236690052913.\n",
      "[I 2025-07-25 17:17:38,362] Trial 105 finished with value: 0.29879786762821403 and parameters: {'lambda_l1': 0.0027841818618066384, 'lambda_l2': 3.605048136003007e-06, 'num_leaves': 112, 'feature_fraction': 0.9909618036488091, 'bagging_fraction': 0.6357449454532105, 'bagging_freq': 7, 'min_child_samples': 23}. Best is trial 97 with value: 0.3433236690052913.\n",
      "[I 2025-07-25 17:17:46,247] Trial 106 finished with value: 0.31106084148796653 and parameters: {'lambda_l1': 8.27784649500144e-06, 'lambda_l2': 3.255996563585801e-07, 'num_leaves': 95, 'feature_fraction': 0.9041466507478242, 'bagging_fraction': 0.7185786692600642, 'bagging_freq': 6, 'min_child_samples': 12}. Best is trial 97 with value: 0.3433236690052913.\n",
      "[I 2025-07-25 17:17:50,968] Trial 107 finished with value: 0.3213957763062123 and parameters: {'lambda_l1': 9.163143030979413e-07, 'lambda_l2': 2.9709353605182427e-05, 'num_leaves': 77, 'feature_fraction': 0.9223115485844725, 'bagging_fraction': 0.671459227178849, 'bagging_freq': 7, 'min_child_samples': 98}. Best is trial 97 with value: 0.3433236690052913.\n",
      "[I 2025-07-25 17:17:51,357] Trial 108 finished with value: 0.2631991851862632 and parameters: {'lambda_l1': 0.00042867562762056625, 'lambda_l2': 2.0612440857609075e-06, 'num_leaves': 2, 'feature_fraction': 0.8877921864321058, 'bagging_fraction': 0.6880194462044295, 'bagging_freq': 6, 'min_child_samples': 33}. Best is trial 97 with value: 0.3433236690052913.\n",
      "[I 2025-07-25 17:18:06,510] Trial 109 finished with value: 0.28733681501222996 and parameters: {'lambda_l1': 1.5155018612079014e-05, 'lambda_l2': 4.636633699139569e-08, 'num_leaves': 507, 'feature_fraction': 0.9486708870013298, 'bagging_fraction': 0.6470308633730721, 'bagging_freq': 7, 'min_child_samples': 29}. Best is trial 97 with value: 0.3433236690052913.\n",
      "[I 2025-07-25 17:18:12,109] Trial 110 finished with value: 0.3058847119628516 and parameters: {'lambda_l1': 2.9740044500055155e-06, 'lambda_l2': 0.00038005931142707356, 'num_leaves': 68, 'feature_fraction': 0.9719088920173558, 'bagging_fraction': 0.7073142137431234, 'bagging_freq': 4, 'min_child_samples': 53}. Best is trial 97 with value: 0.3433236690052913.\n",
      "[I 2025-07-25 17:18:17,713] Trial 111 finished with value: 0.3180317278487659 and parameters: {'lambda_l1': 4.219849402106699e-07, 'lambda_l2': 1.2181580926269182e-06, 'num_leaves': 62, 'feature_fraction': 0.959016387277196, 'bagging_fraction': 0.6923147838401565, 'bagging_freq': 6, 'min_child_samples': 41}. Best is trial 97 with value: 0.3433236690052913.\n",
      "[I 2025-07-25 17:18:18,016] Trial 112 finished with value: 0.2663696255198281 and parameters: {'lambda_l1': 9.511305098313509e-07, 'lambda_l2': 4.926561743200175e-07, 'num_leaves': 2, 'feature_fraction': 0.9350332947786967, 'bagging_fraction': 0.6797573374517591, 'bagging_freq': 6, 'min_child_samples': 44}. Best is trial 97 with value: 0.3433236690052913.\n",
      "[I 2025-07-25 17:18:26,207] Trial 113 finished with value: 0.30907454475464446 and parameters: {'lambda_l1': 1.2817179291510987e-06, 'lambda_l2': 7.773738677842482e-06, 'num_leaves': 226, 'feature_fraction': 0.9143180742551741, 'bagging_fraction': 0.660120632092878, 'bagging_freq': 6, 'min_child_samples': 49}. Best is trial 97 with value: 0.3433236690052913.\n",
      "[I 2025-07-25 17:18:32,739] Trial 114 finished with value: 0.30843678196443824 and parameters: {'lambda_l1': 4.572915366631419e-06, 'lambda_l2': 7.978970616080122e-07, 'num_leaves': 89, 'feature_fraction': 0.9900830416276004, 'bagging_fraction': 0.7341170114476111, 'bagging_freq': 6, 'min_child_samples': 40}. Best is trial 97 with value: 0.3433236690052913.\n",
      "[I 2025-07-25 17:18:37,251] Trial 115 finished with value: 0.3178696119045543 and parameters: {'lambda_l1': 1.8044831500563217e-07, 'lambda_l2': 1.4111456094835848e-06, 'num_leaves': 54, 'feature_fraction': 0.9977556593442563, 'bagging_fraction': 0.7515628597752172, 'bagging_freq': 5, 'min_child_samples': 36}. Best is trial 97 with value: 0.3433236690052913.\n",
      "[I 2025-07-25 17:18:43,308] Trial 116 finished with value: 0.3326937650253997 and parameters: {'lambda_l1': 2.5227151224169744e-06, 'lambda_l2': 2.654883251597516e-06, 'num_leaves': 74, 'feature_fraction': 0.9497020770127603, 'bagging_fraction': 0.7175692838702687, 'bagging_freq': 7, 'min_child_samples': 18}. Best is trial 97 with value: 0.3433236690052913.\n",
      "[I 2025-07-25 17:18:49,283] Trial 117 finished with value: 0.32114579090254336 and parameters: {'lambda_l1': 0.00012390543843314493, 'lambda_l2': 1.2732752166204093e-05, 'num_leaves': 71, 'feature_fraction': 0.8970881585807462, 'bagging_fraction': 0.7181065303806203, 'bagging_freq': 7, 'min_child_samples': 17}. Best is trial 97 with value: 0.3433236690052913.\n",
      "[I 2025-07-25 17:18:56,759] Trial 118 finished with value: 0.3155813165587793 and parameters: {'lambda_l1': 6.176055375685666e-06, 'lambda_l2': 2.6225668388770237e-06, 'num_leaves': 101, 'feature_fraction': 0.8780401899657245, 'bagging_fraction': 0.6699862154851793, 'bagging_freq': 7, 'min_child_samples': 21}. Best is trial 97 with value: 0.3433236690052913.\n",
      "[I 2025-07-25 17:18:59,679] Trial 119 finished with value: 0.34009643691689784 and parameters: {'lambda_l1': 1.988235954486479e-05, 'lambda_l2': 9.285926402502318e-08, 'num_leaves': 39, 'feature_fraction': 0.9737569787919158, 'bagging_fraction': 0.7005962338507318, 'bagging_freq': 7, 'min_child_samples': 10}. Best is trial 97 with value: 0.3433236690052913.\n",
      "[I 2025-07-25 17:19:01,574] Trial 120 finished with value: 0.3222272022954309 and parameters: {'lambda_l1': 3.862484986108105e-05, 'lambda_l2': 9.742439926520325e-08, 'num_leaves': 17, 'feature_fraction': 0.9690433357450386, 'bagging_fraction': 0.7741415626718993, 'bagging_freq': 7, 'min_child_samples': 11}. Best is trial 97 with value: 0.3433236690052913.\n",
      "[I 2025-07-25 17:19:04,502] Trial 121 finished with value: 0.3330305726753793 and parameters: {'lambda_l1': 2.211823088853419e-05, 'lambda_l2': 2.7182411992888497e-08, 'num_leaves': 37, 'feature_fraction': 0.9783222204986788, 'bagging_fraction': 0.6977688959224999, 'bagging_freq': 7, 'min_child_samples': 14}. Best is trial 97 with value: 0.3433236690052913.\n",
      "[I 2025-07-25 17:19:07,425] Trial 122 finished with value: 0.3285835413783452 and parameters: {'lambda_l1': 1.8969199343460498e-05, 'lambda_l2': 7.656783481789323e-08, 'num_leaves': 35, 'feature_fraction': 0.9846215705382497, 'bagging_fraction': 0.699535259345897, 'bagging_freq': 7, 'min_child_samples': 7}. Best is trial 97 with value: 0.3433236690052913.\n",
      "[I 2025-07-25 17:19:11,597] Trial 123 finished with value: 0.3120160738016373 and parameters: {'lambda_l1': 1.1949089132262836e-05, 'lambda_l2': 6.030696586728077e-08, 'num_leaves': 51, 'feature_fraction': 0.9792873715166953, 'bagging_fraction': 0.7278360962452722, 'bagging_freq': 7, 'min_child_samples': 7}. Best is trial 97 with value: 0.3433236690052913.\n",
      "[I 2025-07-25 17:19:14,692] Trial 124 finished with value: 0.32712084861449786 and parameters: {'lambda_l1': 2.124967046871948e-05, 'lambda_l2': 2.985374101982725e-08, 'num_leaves': 34, 'feature_fraction': 0.9568289897130544, 'bagging_fraction': 0.7059304110675859, 'bagging_freq': 7, 'min_child_samples': 14}. Best is trial 97 with value: 0.3433236690052913.\n",
      "[I 2025-07-25 17:19:17,592] Trial 125 finished with value: 0.33367332120598037 and parameters: {'lambda_l1': 2.2546437653708803e-05, 'lambda_l2': 3.465776374264234e-08, 'num_leaves': 36, 'feature_fraction': 0.9595223047578082, 'bagging_fraction': 0.702699082152534, 'bagging_freq': 7, 'min_child_samples': 8}. Best is trial 97 with value: 0.3433236690052913.\n",
      "[I 2025-07-25 17:19:20,181] Trial 126 finished with value: 0.30077507137971526 and parameters: {'lambda_l1': 2.5750717366215732e-05, 'lambda_l2': 2.5725670099263403e-08, 'num_leaves': 22, 'feature_fraction': 0.9823436001734794, 'bagging_fraction': 0.5051999325201124, 'bagging_freq': 7, 'min_child_samples': 9}. Best is trial 97 with value: 0.3433236690052913.\n",
      "[I 2025-07-25 17:19:25,911] Trial 127 finished with value: 0.31224346315235707 and parameters: {'lambda_l1': 7.298925995300617e-05, 'lambda_l2': 1.4989564320124082e-08, 'num_leaves': 78, 'feature_fraction': 0.9967676096722734, 'bagging_fraction': 0.7436015251170838, 'bagging_freq': 7, 'min_child_samples': 5}. Best is trial 97 with value: 0.3433236690052913.\n",
      "[I 2025-07-25 17:19:30,399] Trial 128 finished with value: 0.31915239366887316 and parameters: {'lambda_l1': 8.060476737500292e-06, 'lambda_l2': 8.962753540823411e-08, 'num_leaves': 61, 'feature_fraction': 0.9713858096926162, 'bagging_fraction': 0.6975051411619961, 'bagging_freq': 7, 'min_child_samples': 7}. Best is trial 97 with value: 0.3433236690052913.\n",
      "[I 2025-07-25 17:19:34,510] Trial 129 finished with value: 0.31963189514583257 and parameters: {'lambda_l1': 3.8208017651687137e-05, 'lambda_l2': 1.704587591420287e-08, 'num_leaves': 42, 'feature_fraction': 0.9509474256320277, 'bagging_fraction': 0.7608567293361804, 'bagging_freq': 7, 'min_child_samples': 12}. Best is trial 97 with value: 0.3433236690052913.\n",
      "[I 2025-07-25 17:19:37,143] Trial 130 finished with value: 0.3273315265159409 and parameters: {'lambda_l1': 1.5542805040653787e-05, 'lambda_l2': 1.8189916853916769e-07, 'num_leaves': 29, 'feature_fraction': 0.9627222711559762, 'bagging_fraction': 0.7179281247088402, 'bagging_freq': 7, 'min_child_samples': 9}. Best is trial 97 with value: 0.3433236690052913.\n",
      "[I 2025-07-25 17:19:38,477] Trial 131 finished with value: 0.32202420490548556 and parameters: {'lambda_l1': 1.4980649280422618e-05, 'lambda_l2': 2.2275318447532026e-07, 'num_leaves': 15, 'feature_fraction': 0.9831277329443124, 'bagging_fraction': 0.7229040522583323, 'bagging_freq': 7, 'min_child_samples': 10}. Best is trial 97 with value: 0.3433236690052913.\n",
      "[I 2025-07-25 17:19:40,758] Trial 132 finished with value: 0.3316972968598978 and parameters: {'lambda_l1': 5.730868688966689e-05, 'lambda_l2': 4.4929903992657517e-08, 'num_leaves': 31, 'feature_fraction': 0.9650615153629558, 'bagging_fraction': 0.7170880747020718, 'bagging_freq': 7, 'min_child_samples': 14}. Best is trial 97 with value: 0.3433236690052913.\n",
      "[I 2025-07-25 17:19:44,618] Trial 133 finished with value: 0.31731809263348376 and parameters: {'lambda_l1': 6.106786124644329e-05, 'lambda_l2': 3.484307586708436e-08, 'num_leaves': 53, 'feature_fraction': 0.946267828240427, 'bagging_fraction': 0.7034618596373786, 'bagging_freq': 7, 'min_child_samples': 13}. Best is trial 97 with value: 0.3433236690052913.\n",
      "[I 2025-07-25 17:19:47,219] Trial 134 finished with value: 0.3218798310667217 and parameters: {'lambda_l1': 0.00015995667950127084, 'lambda_l2': 6.553662168133818e-08, 'num_leaves': 35, 'feature_fraction': 0.9326666913616313, 'bagging_fraction': 0.7358913972307755, 'bagging_freq': 7, 'min_child_samples': 15}. Best is trial 97 with value: 0.3433236690052913.\n",
      "[I 2025-07-25 17:19:48,899] Trial 135 finished with value: 0.3274457388851605 and parameters: {'lambda_l1': 0.00021822345701063203, 'lambda_l2': 5.161727512089719e-08, 'num_leaves': 22, 'feature_fraction': 0.9748054074521592, 'bagging_fraction': 0.690890842851415, 'bagging_freq': 7, 'min_child_samples': 18}. Best is trial 97 with value: 0.3433236690052913.\n",
      "[I 2025-07-25 17:19:54,496] Trial 136 finished with value: 0.31393653940585176 and parameters: {'lambda_l1': 8.653588122861151e-05, 'lambda_l2': 1.0065258327562904e-08, 'num_leaves': 66, 'feature_fraction': 0.959326996131539, 'bagging_fraction': 0.7110702876786034, 'bagging_freq': 7, 'min_child_samples': 15}. Best is trial 97 with value: 0.3433236690052913.\n",
      "[I 2025-07-25 17:19:58,546] Trial 137 finished with value: 0.3253127707617425 and parameters: {'lambda_l1': 3.813322222764011e-05, 'lambda_l2': 2.4101898888002585e-08, 'num_leaves': 43, 'feature_fraction': 0.9975705360989836, 'bagging_fraction': 0.7543678515040612, 'bagging_freq': 7, 'min_child_samples': 7}. Best is trial 97 with value: 0.3433236690052913.\n",
      "[I 2025-07-25 17:19:59,441] Trial 138 finished with value: 0.30536322871986776 and parameters: {'lambda_l1': 5.4862774627455324e-05, 'lambda_l2': 9.594197629473404e-08, 'num_leaves': 7, 'feature_fraction': 0.9412351227057588, 'bagging_fraction': 0.6961652899734364, 'bagging_freq': 4, 'min_child_samples': 10}. Best is trial 97 with value: 0.3433236690052913.\n",
      "[I 2025-07-25 17:20:03,665] Trial 139 finished with value: 0.31347745748709943 and parameters: {'lambda_l1': 9.13945823059674e-06, 'lambda_l2': 3.6025170661970773e-07, 'num_leaves': 54, 'feature_fraction': 0.9655206721590477, 'bagging_fraction': 0.6788509761503138, 'bagging_freq': 7, 'min_child_samples': 19}. Best is trial 97 with value: 0.3433236690052913.\n",
      "[I 2025-07-25 17:20:06,357] Trial 140 finished with value: 0.3215188596821048 and parameters: {'lambda_l1': 2.387420756540031e-05, 'lambda_l2': 3.785493439861617e-08, 'num_leaves': 36, 'feature_fraction': 0.6570256199102539, 'bagging_fraction': 0.7218809208905788, 'bagging_freq': 7, 'min_child_samples': 16}. Best is trial 97 with value: 0.3433236690052913.\n",
      "[I 2025-07-25 17:20:08,050] Trial 141 finished with value: 0.32804995326630704 and parameters: {'lambda_l1': 0.0002783366205148116, 'lambda_l2': 1.5596408475969985e-07, 'num_leaves': 22, 'feature_fraction': 0.9770807700778876, 'bagging_fraction': 0.6924275502636144, 'bagging_freq': 7, 'min_child_samples': 13}. Best is trial 97 with value: 0.3433236690052913.\n",
      "[I 2025-07-25 17:20:20,462] Trial 142 finished with value: 0.3073823582660309 and parameters: {'lambda_l1': 2.9298853862544557e-06, 'lambda_l2': 1.5541351689682642e-07, 'num_leaves': 188, 'feature_fraction': 0.9756517854863012, 'bagging_fraction': 0.7096924194521893, 'bagging_freq': 7, 'min_child_samples': 13}. Best is trial 97 with value: 0.3433236690052913.\n",
      "[I 2025-07-25 17:20:21,780] Trial 143 finished with value: 0.3189723348585042 and parameters: {'lambda_l1': 5.325300542403807e-06, 'lambda_l2': 2.472220239272798e-07, 'num_leaves': 14, 'feature_fraction': 0.9867187123896537, 'bagging_fraction': 0.6858770720587217, 'bagging_freq': 7, 'min_child_samples': 11}. Best is trial 97 with value: 0.3433236690052913.\n",
      "[I 2025-07-25 17:20:23,638] Trial 144 finished with value: 0.3228898336779793 and parameters: {'lambda_l1': 0.0003517339594090211, 'lambda_l2': 6.170592272387818e-07, 'num_leaves': 24, 'feature_fraction': 0.9507917573908145, 'bagging_fraction': 0.6711220678795419, 'bagging_freq': 7, 'min_child_samples': 8}. Best is trial 97 with value: 0.3433236690052913.\n",
      "[I 2025-07-25 17:20:26,816] Trial 145 finished with value: 0.3228434836400693 and parameters: {'lambda_l1': 0.00018329133679898923, 'lambda_l2': 1.0233847532597133e-06, 'num_leaves': 44, 'feature_fraction': 0.9339749968197193, 'bagging_fraction': 0.7357717093888525, 'bagging_freq': 7, 'min_child_samples': 5}. Best is trial 97 with value: 0.3433236690052913.\n",
      "[I 2025-07-25 17:20:29,088] Trial 146 finished with value: 0.3070002050120504 and parameters: {'lambda_l1': 0.00012149933714031891, 'lambda_l2': 7.469794052937893e-08, 'num_leaves': 29, 'feature_fraction': 0.9856498074945204, 'bagging_fraction': 0.9996343777447765, 'bagging_freq': 7, 'min_child_samples': 60}. Best is trial 97 with value: 0.3433236690052913.\n",
      "[I 2025-07-25 17:20:30,152] Trial 147 finished with value: 0.3186389691762157 and parameters: {'lambda_l1': 2.0843551143888863e-06, 'lambda_l2': 1.804180128006475e-08, 'num_leaves': 12, 'feature_fraction': 0.9622547937809599, 'bagging_fraction': 0.701542863099883, 'bagging_freq': 7, 'min_child_samples': 13}. Best is trial 97 with value: 0.3433236690052913.\n",
      "[I 2025-07-25 17:20:33,129] Trial 148 finished with value: 0.33070780310516035 and parameters: {'lambda_l1': 1.4787078541806051, 'lambda_l2': 3.432314405542532e-07, 'num_leaves': 36, 'feature_fraction': 0.9735894158905789, 'bagging_fraction': 0.7144357106952014, 'bagging_freq': 6, 'min_child_samples': 17}. Best is trial 97 with value: 0.3433236690052913.\n",
      "[I 2025-07-25 17:20:36,017] Trial 149 finished with value: 0.3192266466296868 and parameters: {'lambda_l1': 1.8012097098934023, 'lambda_l2': 1.2181585166073252e-07, 'num_leaves': 37, 'feature_fraction': 0.9757204739276801, 'bagging_fraction': 0.666685462686303, 'bagging_freq': 6, 'min_child_samples': 17}. Best is trial 97 with value: 0.3433236690052913.\n",
      "[I 2025-07-25 17:20:36,398] Trial 150 finished with value: 0.28343279463499993 and parameters: {'lambda_l1': 0.11426020949055213, 'lambda_l2': 3.4724169630282597e-07, 'num_leaves': 3, 'feature_fraction': 0.9988409858764368, 'bagging_fraction': 0.6822686075527671, 'bagging_freq': 6, 'min_child_samples': 20}. Best is trial 97 with value: 0.3433236690052913.\n",
      "[I 2025-07-25 17:20:40,091] Trial 151 finished with value: 0.331632112240158 and parameters: {'lambda_l1': 3.1909576767582244e-05, 'lambda_l2': 1.9422731258692606e-06, 'num_leaves': 50, 'feature_fraction': 0.9471772032568375, 'bagging_fraction': 0.724763747165538, 'bagging_freq': 6, 'min_child_samples': 15}. Best is trial 97 with value: 0.3433236690052913.\n",
      "[I 2025-07-25 17:20:45,540] Trial 152 finished with value: 0.3205102463330042 and parameters: {'lambda_l1': 0.3420899568988404, 'lambda_l2': 5.306882742657783e-07, 'num_leaves': 59, 'feature_fraction': 0.9523607157421321, 'bagging_fraction': 0.713825507314605, 'bagging_freq': 6, 'min_child_samples': 15}. Best is trial 97 with value: 0.3433236690052913.\n",
      "[I 2025-07-25 17:20:49,249] Trial 153 finished with value: 0.33641716906842445 and parameters: {'lambda_l1': 5.016213822309e-05, 'lambda_l2': 2.2491682844138274e-06, 'num_leaves': 30, 'feature_fraction': 0.9656238014451323, 'bagging_fraction': 0.6938648457924388, 'bagging_freq': 6, 'min_child_samples': 11}. Best is trial 97 with value: 0.3433236690052913.\n",
      "[I 2025-07-25 17:20:51,110] Trial 154 finished with value: 0.30965849364782516 and parameters: {'lambda_l1': 4.192206590377167e-05, 'lambda_l2': 2.0334474652789466e-06, 'num_leaves': 23, 'feature_fraction': 0.7256217417529978, 'bagging_fraction': 0.6904905096797733, 'bagging_freq': 6, 'min_child_samples': 10}. Best is trial 97 with value: 0.3433236690052913.\n",
      "[I 2025-07-25 17:20:54,115] Trial 155 finished with value: 0.3188259811727123 and parameters: {'lambda_l1': 9.10421762637452e-05, 'lambda_l2': 4.017389223738721e-06, 'num_leaves': 30, 'feature_fraction': 0.9663788717055922, 'bagging_fraction': 0.7006923943263479, 'bagging_freq': 6, 'min_child_samples': 8}. Best is trial 97 with value: 0.3433236690052913.\n",
      "[I 2025-07-25 17:20:57,707] Trial 156 finished with value: 0.3240808169076296 and parameters: {'lambda_l1': 2.5963103632072283e-05, 'lambda_l2': 6.035356930950953e-06, 'num_leaves': 50, 'feature_fraction': 0.9456793754615247, 'bagging_fraction': 0.7250555013356152, 'bagging_freq': 6, 'min_child_samples': 11}. Best is trial 97 with value: 0.3433236690052913.\n",
      "[I 2025-07-25 17:21:01,600] Trial 157 finished with value: 0.32126354693812453 and parameters: {'lambda_l1': 4.360099947031356, 'lambda_l2': 3.000037993833706e-06, 'num_leaves': 69, 'feature_fraction': 0.9234611337121836, 'bagging_fraction': 0.7122565972221346, 'bagging_freq': 6, 'min_child_samples': 14}. Best is trial 97 with value: 0.3433236690052913.\n",
      "[I 2025-07-25 17:21:02,682] Trial 158 finished with value: 0.3246895022912294 and parameters: {'lambda_l1': 6.451255173050066e-05, 'lambda_l2': 4.4263277675292984e-08, 'num_leaves': 13, 'feature_fraction': 0.9860654695748013, 'bagging_fraction': 0.6814041259576847, 'bagging_freq': 6, 'min_child_samples': 81}. Best is trial 97 with value: 0.3433236690052913.\n",
      "[I 2025-07-25 17:21:05,655] Trial 159 finished with value: 0.3301723115652203 and parameters: {'lambda_l1': 1.876575603439487e-05, 'lambda_l2': 1.3660812962841093e-07, 'num_leaves': 38, 'feature_fraction': 0.9591623849120184, 'bagging_fraction': 0.6954474936034728, 'bagging_freq': 6, 'min_child_samples': 16}. Best is trial 97 with value: 0.3433236690052913.\n",
      "[I 2025-07-25 17:21:09,227] Trial 160 finished with value: 0.31424893149910205 and parameters: {'lambda_l1': 1.862080145508857e-05, 'lambda_l2': 7.837346310420385e-07, 'num_leaves': 51, 'feature_fraction': 0.9581562647602493, 'bagging_fraction': 0.9581739602674719, 'bagging_freq': 6, 'min_child_samples': 18}. Best is trial 97 with value: 0.3433236690052913.\n",
      "[I 2025-07-25 17:21:11,951] Trial 161 finished with value: 0.3315331042334754 and parameters: {'lambda_l1': 3.2783745595220615e-05, 'lambda_l2': 6.833804094680167e-08, 'num_leaves': 37, 'feature_fraction': 0.9710687145988891, 'bagging_fraction': 0.6902212206254411, 'bagging_freq': 6, 'min_child_samples': 16}. Best is trial 97 with value: 0.3433236690052913.\n",
      "[I 2025-07-25 17:21:14,742] Trial 162 finished with value: 0.33171662779128397 and parameters: {'lambda_l1': 1.1799767717867312e-05, 'lambda_l2': 6.79120333050386e-08, 'num_leaves': 37, 'feature_fraction': 0.965766289260304, 'bagging_fraction': 0.6709010328169943, 'bagging_freq': 6, 'min_child_samples': 16}. Best is trial 97 with value: 0.3433236690052913.\n",
      "[I 2025-07-25 17:21:17,968] Trial 163 finished with value: 0.3170803187958041 and parameters: {'lambda_l1': 3.0864361987355504e-05, 'lambda_l2': 2.691439309729039e-08, 'num_leaves': 42, 'feature_fraction': 0.9404184498419697, 'bagging_fraction': 0.6623199401208935, 'bagging_freq': 6, 'min_child_samples': 16}. Best is trial 97 with value: 0.3433236690052913.\n",
      "[I 2025-07-25 17:21:21,979] Trial 164 finished with value: 0.31144421624715757 and parameters: {'lambda_l1': 1.12677053136009e-05, 'lambda_l2': 1.6849899325759962e-06, 'num_leaves': 58, 'feature_fraction': 0.9640558436165956, 'bagging_fraction': 0.6686981663787956, 'bagging_freq': 6, 'min_child_samples': 22}. Best is trial 97 with value: 0.3433236690052913.\n",
      "[I 2025-07-25 17:21:38,416] Trial 165 finished with value: 0.30613625928141497 and parameters: {'lambda_l1': 4.365300389147618e-05, 'lambda_l2': 4.504282588230779e-08, 'num_leaves': 286, 'feature_fraction': 0.9291213616398356, 'bagging_fraction': 0.6446758689613088, 'bagging_freq': 6, 'min_child_samples': 19}. Best is trial 97 with value: 0.3433236690052913.\n",
      "[I 2025-07-25 17:21:40,712] Trial 166 finished with value: 0.3192542509549171 and parameters: {'lambda_l1': 9.663890699378759e-05, 'lambda_l2': 1.1585086531857318e-07, 'num_leaves': 30, 'feature_fraction': 0.9513089356366221, 'bagging_fraction': 0.6764224862783401, 'bagging_freq': 6, 'min_child_samples': 16}. Best is trial 97 with value: 0.3433236690052913.\n",
      "[I 2025-07-25 17:21:45,883] Trial 167 finished with value: 0.3241860662273043 and parameters: {'lambda_l1': 0.4780392272962217, 'lambda_l2': 2.5853377125279083e-06, 'num_leaves': 73, 'feature_fraction': 0.972045027437466, 'bagging_fraction': 0.7076836581084126, 'bagging_freq': 6, 'min_child_samples': 17}. Best is trial 97 with value: 0.3433236690052913.\n",
      "[I 2025-07-25 17:21:49,503] Trial 168 finished with value: 0.3234502745948148 and parameters: {'lambda_l1': 5.2555633160459305e-05, 'lambda_l2': 0.0024185458918890555, 'num_leaves': 45, 'feature_fraction': 0.9185745113863604, 'bagging_fraction': 0.7236620446313724, 'bagging_freq': 6, 'min_child_samples': 20}. Best is trial 97 with value: 0.3433236690052913.\n",
      "[I 2025-07-25 17:21:51,033] Trial 169 finished with value: 0.3174611981651102 and parameters: {'lambda_l1': 1.2666536967421193e-05, 'lambda_l2': 1.3973259279665979e-06, 'num_leaves': 19, 'feature_fraction': 0.9442299719883106, 'bagging_fraction': 0.688073364298419, 'bagging_freq': 6, 'min_child_samples': 12}. Best is trial 97 with value: 0.3433236690052913.\n",
      "[I 2025-07-25 17:21:55,244] Trial 170 finished with value: 0.3105491490229524 and parameters: {'lambda_l1': 2.92062790131625e-05, 'lambda_l2': 2.520171091336539e-07, 'num_leaves': 62, 'feature_fraction': 0.5369492955185102, 'bagging_fraction': 0.741507541887751, 'bagging_freq': 6, 'min_child_samples': 68}. Best is trial 97 with value: 0.3433236690052913.\n",
      "[I 2025-07-25 17:21:57,908] Trial 171 finished with value: 0.31425803351267734 and parameters: {'lambda_l1': 1.930947687380009e-05, 'lambda_l2': 7.057383159448427e-08, 'num_leaves': 36, 'feature_fraction': 0.9885489824920789, 'bagging_fraction': 0.7032038159875259, 'bagging_freq': 6, 'min_child_samples': 14}. Best is trial 97 with value: 0.3433236690052913.\n",
      "[I 2025-07-25 17:22:00,748] Trial 172 finished with value: 0.3302461962999561 and parameters: {'lambda_l1': 2.125536396144911e-05, 'lambda_l2': 5.522438455673278e-08, 'num_leaves': 36, 'feature_fraction': 0.9628374802095898, 'bagging_fraction': 0.6955354107907655, 'bagging_freq': 6, 'min_child_samples': 10}. Best is trial 97 with value: 0.3433236690052913.\n",
      "[I 2025-07-25 17:22:02,699] Trial 173 finished with value: 0.3219508984896493 and parameters: {'lambda_l1': 3.068397785219587e-05, 'lambda_l2': 3.568068112913336e-08, 'num_leaves': 25, 'feature_fraction': 0.959733216929329, 'bagging_fraction': 0.541591577731319, 'bagging_freq': 6, 'min_child_samples': 11}. Best is trial 97 with value: 0.3433236690052913.\n",
      "[I 2025-07-25 17:22:06,337] Trial 174 finished with value: 0.3195749704249905 and parameters: {'lambda_l1': 1.2304610814754734e-05, 'lambda_l2': 6.615270124610223e-08, 'num_leaves': 49, 'feature_fraction': 0.9686738151285506, 'bagging_fraction': 0.42616618495102143, 'bagging_freq': 6, 'min_child_samples': 9}. Best is trial 97 with value: 0.3433236690052913.\n",
      "[I 2025-07-25 17:22:09,137] Trial 175 finished with value: 0.3319923963792365 and parameters: {'lambda_l1': 7.017795332474043e-06, 'lambda_l2': 2.2362659734866773e-08, 'num_leaves': 37, 'feature_fraction': 0.9356809767512644, 'bagging_fraction': 0.6922608044718221, 'bagging_freq': 6, 'min_child_samples': 15}. Best is trial 97 with value: 0.3433236690052913.\n",
      "[I 2025-07-25 17:22:10,855] Trial 176 finished with value: 0.3241160465667611 and parameters: {'lambda_l1': 6.526248121097807e-05, 'lambda_l2': 1.500838042897668e-08, 'num_leaves': 17, 'feature_fraction': 0.92962774252421, 'bagging_fraction': 0.676018910197336, 'bagging_freq': 6, 'min_child_samples': 13}. Best is trial 97 with value: 0.3433236690052913.\n",
      "[I 2025-07-25 17:22:13,097] Trial 177 finished with value: 0.3226938402803463 and parameters: {'lambda_l1': 4.509117547277522e-06, 'lambda_l2': 2.2748206871326056e-08, 'num_leaves': 30, 'feature_fraction': 0.9442668662305649, 'bagging_fraction': 0.714362278653812, 'bagging_freq': 6, 'min_child_samples': 11}. Best is trial 97 with value: 0.3433236690052913.\n",
      "[I 2025-07-25 17:22:16,657] Trial 178 finished with value: 0.32353712728470874 and parameters: {'lambda_l1': 7.3067429576887925e-06, 'lambda_l2': 3.140641309864203e-08, 'num_leaves': 51, 'feature_fraction': 0.9993822516112073, 'bagging_fraction': 0.6525384443264007, 'bagging_freq': 6, 'min_child_samples': 15}. Best is trial 97 with value: 0.3433236690052913.\n",
      "[I 2025-07-25 17:22:19,704] Trial 179 finished with value: 0.33369453364780133 and parameters: {'lambda_l1': 9.621372219961447e-06, 'lambda_l2': 4.869920639795784e-06, 'num_leaves': 42, 'feature_fraction': 0.9747060754108449, 'bagging_fraction': 0.6861792243745086, 'bagging_freq': 6, 'min_child_samples': 9}. Best is trial 97 with value: 0.3433236690052913.\n",
      "[I 2025-07-25 17:22:24,110] Trial 180 finished with value: 0.3148426965906863 and parameters: {'lambda_l1': 3.5963167491913683e-06, 'lambda_l2': 5.185280929338818e-06, 'num_leaves': 62, 'feature_fraction': 0.98198626157241, 'bagging_fraction': 0.660708148495854, 'bagging_freq': 6, 'min_child_samples': 18}. Best is trial 97 with value: 0.3433236690052913.\n",
      "[I 2025-07-25 17:22:27,314] Trial 181 finished with value: 0.3413650277151643 and parameters: {'lambda_l1': 6.72941319547365e-06, 'lambda_l2': 8.623699876907407e-06, 'num_leaves': 41, 'feature_fraction': 0.9735005300387174, 'bagging_fraction': 0.6899434913392035, 'bagging_freq': 6, 'min_child_samples': 8}. Best is trial 97 with value: 0.3433236690052913.\n",
      "[I 2025-07-25 17:22:30,587] Trial 182 finished with value: 0.33583121870237786 and parameters: {'lambda_l1': 7.512253356435331e-06, 'lambda_l2': 9.719498623109827e-06, 'num_leaves': 45, 'feature_fraction': 0.9726659480801347, 'bagging_fraction': 0.6824523013852827, 'bagging_freq': 6, 'min_child_samples': 6}. Best is trial 97 with value: 0.3433236690052913.\n",
      "[I 2025-07-25 17:22:34,107] Trial 183 finished with value: 0.318403781008183 and parameters: {'lambda_l1': 6.170413936899709e-06, 'lambda_l2': 8.760163939685223e-06, 'num_leaves': 45, 'feature_fraction': 0.9715299008028597, 'bagging_fraction': 0.6835543877542006, 'bagging_freq': 6, 'min_child_samples': 6}. Best is trial 97 with value: 0.3433236690052913.\n",
      "[I 2025-07-25 17:22:38,066] Trial 184 finished with value: 0.3099056771888917 and parameters: {'lambda_l1': 7.518719837501239e-06, 'lambda_l2': 4.0688684836743045e-06, 'num_leaves': 55, 'feature_fraction': 0.9897190205910271, 'bagging_fraction': 0.6720372228270447, 'bagging_freq': 6, 'min_child_samples': 8}. Best is trial 97 with value: 0.3433236690052913.\n",
      "[I 2025-07-25 17:22:40,955] Trial 185 finished with value: 0.3281384454411894 and parameters: {'lambda_l1': 1.095567772936486e-05, 'lambda_l2': 7.206851375697751e-06, 'num_leaves': 39, 'feature_fraction': 0.9760755597698022, 'bagging_fraction': 0.686775886257574, 'bagging_freq': 6, 'min_child_samples': 6}. Best is trial 97 with value: 0.3433236690052913.\n",
      "[I 2025-07-25 17:22:43,049] Trial 186 finished with value: 0.3225998666919795 and parameters: {'lambda_l1': 2.7779454067846272e-06, 'lambda_l2': 9.66645914497562e-06, 'num_leaves': 27, 'feature_fraction': 0.950786255813895, 'bagging_fraction': 0.7134008410307083, 'bagging_freq': 6, 'min_child_samples': 12}. Best is trial 97 with value: 0.3433236690052913.\n",
      "[I 2025-07-25 17:22:49,331] Trial 187 finished with value: 0.3303214001971828 and parameters: {'lambda_l1': 5.795396797455335e-06, 'lambda_l2': 2.370506633177975e-06, 'num_leaves': 79, 'feature_fraction': 0.9710759811640348, 'bagging_fraction': 0.7262676326466687, 'bagging_freq': 6, 'min_child_samples': 5}. Best is trial 97 with value: 0.3433236690052913.\n",
      "[I 2025-07-25 17:22:53,988] Trial 188 finished with value: 0.32431208739557493 and parameters: {'lambda_l1': 9.80419265973755e-06, 'lambda_l2': 1.7301807913865355e-05, 'num_leaves': 65, 'feature_fraction': 0.9552983069596896, 'bagging_fraction': 0.7008740772419373, 'bagging_freq': 6, 'min_child_samples': 9}. Best is trial 97 with value: 0.3433236690052913.\n",
      "[I 2025-07-25 17:22:55,207] Trial 189 finished with value: 0.31925842134532756 and parameters: {'lambda_l1': 1.540060952438986e-05, 'lambda_l2': 4.636892063514578e-06, 'num_leaves': 12, 'feature_fraction': 0.988765767631979, 'bagging_fraction': 0.6363402069727753, 'bagging_freq': 6, 'min_child_samples': 7}. Best is trial 97 with value: 0.3433236690052913.\n",
      "[I 2025-07-25 17:22:58,589] Trial 190 finished with value: 0.3293993574159425 and parameters: {'lambda_l1': 4.303012422598814e-06, 'lambda_l2': 1.358488903228142e-08, 'num_leaves': 46, 'feature_fraction': 0.9351896753239264, 'bagging_fraction': 0.675794114084168, 'bagging_freq': 6, 'min_child_samples': 14}. Best is trial 97 with value: 0.3433236690052913.\n",
      "[I 2025-07-25 17:23:00,863] Trial 191 finished with value: 0.3269990422321256 and parameters: {'lambda_l1': 4.887449946057085e-05, 'lambda_l2': 3.1782843608948506e-06, 'num_leaves': 28, 'feature_fraction': 0.9486837408634649, 'bagging_fraction': 0.6897603140398514, 'bagging_freq': 6, 'min_child_samples': 9}. Best is trial 97 with value: 0.3433236690052913.\n",
      "[I 2025-07-25 17:23:03,648] Trial 192 finished with value: 0.3224204492320455 and parameters: {'lambda_l1': 1.5829172770302628e-06, 'lambda_l2': 1.880725373575459e-06, 'num_leaves': 20, 'feature_fraction': 0.9776169578402245, 'bagging_fraction': 0.7047796875624889, 'bagging_freq': 6, 'min_child_samples': 12}. Best is trial 97 with value: 0.3433236690052913.\n",
      "[I 2025-07-25 17:23:05,878] Trial 193 finished with value: 0.30078644545456745 and parameters: {'lambda_l1': 8.85287482959531, 'lambda_l2': 1.2876709489589462e-06, 'num_leaves': 37, 'feature_fraction': 0.9614287637169948, 'bagging_fraction': 0.663824586456496, 'bagging_freq': 6, 'min_child_samples': 45}. Best is trial 97 with value: 0.3433236690052913.\n",
      "[I 2025-07-25 17:23:06,511] Trial 194 finished with value: 0.2844108443859741 and parameters: {'lambda_l1': 0.00014044941715380944, 'lambda_l2': 1.236988989589685e-05, 'num_leaves': 3, 'feature_fraction': 0.933636546224889, 'bagging_fraction': 0.7172491285053496, 'bagging_freq': 6, 'min_child_samples': 14}. Best is trial 97 with value: 0.3433236690052913.\n",
      "[I 2025-07-25 17:23:12,273] Trial 195 finished with value: 0.3206329794074342 and parameters: {'lambda_l1': 3.2250807694229354e-05, 'lambda_l2': 0.017138210044020108, 'num_leaves': 52, 'feature_fraction': 0.968028883110699, 'bagging_fraction': 0.6856787005888157, 'bagging_freq': 7, 'min_child_samples': 17}. Best is trial 97 with value: 0.3433236690052913.\n",
      "[I 2025-07-25 17:23:14,621] Trial 196 finished with value: 0.3176235264326731 and parameters: {'lambda_l1': 9.983655126792503e-06, 'lambda_l2': 2.978399616712959e-06, 'num_leaves': 30, 'feature_fraction': 0.918105749183574, 'bagging_fraction': 0.6969380066813141, 'bagging_freq': 6, 'min_child_samples': 10}. Best is trial 97 with value: 0.3433236690052913.\n",
      "[I 2025-07-25 17:23:17,620] Trial 197 finished with value: 0.31652727504887646 and parameters: {'lambda_l1': 1.4718793869441339e-05, 'lambda_l2': 8.748256883390853e-07, 'num_leaves': 43, 'feature_fraction': 0.985756198615333, 'bagging_fraction': 0.7066330361682163, 'bagging_freq': 3, 'min_child_samples': 20}. Best is trial 97 with value: 0.3433236690052913.\n",
      "[I 2025-07-25 17:23:19,070] Trial 198 finished with value: 0.3138171749992603 and parameters: {'lambda_l1': 7.202309835035658e-05, 'lambda_l2': 2.251753524687724e-08, 'num_leaves': 18, 'feature_fraction': 0.9992412530022833, 'bagging_fraction': 0.7310303390647039, 'bagging_freq': 7, 'min_child_samples': 8}. Best is trial 97 with value: 0.3433236690052913.\n",
      "[I 2025-07-25 17:23:23,260] Trial 199 finished with value: 0.3137456345862779 and parameters: {'lambda_l1': 4.056652116155406e-06, 'lambda_l2': 5.61424382481311e-06, 'num_leaves': 56, 'feature_fraction': 0.9543174276336545, 'bagging_fraction': 0.6762471962947946, 'bagging_freq': 6, 'min_child_samples': 11}. Best is trial 97 with value: 0.3433236690052913.\n"
     ]
    }
   ],
   "source": [
    "#Defino el estudio a optimizar\n",
    "study = optuna.create_study(direction='maximize', #buscamos maximizar la metrica\n",
    "                            storage=\"sqlite:///../work/db.sqlite3\",  # Specify the storage URL here.\n",
    "                            study_name=\"04 - LGB Multiclass G2\", #nombre del experimento\n",
    "                            load_if_exists=True) #continuar si ya existe\n",
    "\n",
    "#Corremos 100 trials para buscar mejores parametros\n",
    "study.optimize(lgb_objective, n_trials=100)"
   ]
  },
  {
   "cell_type": "code",
   "execution_count": 64,
   "id": "b9ed9431",
   "metadata": {},
   "outputs": [
    {
     "data": {
      "text/plain": [
       "{'lambda_l1': 0.012516996228054654,\n",
       " 'lambda_l2': 1.5886349475239832e-06,\n",
       " 'num_leaves': 36,\n",
       " 'feature_fraction': 0.9663689722295274,\n",
       " 'bagging_fraction': 0.6861211012982429,\n",
       " 'bagging_freq': 7,\n",
       " 'min_child_samples': 17}"
      ]
     },
     "execution_count": 64,
     "metadata": {},
     "output_type": "execute_result"
    }
   ],
   "source": [
    "#Obtenemos mejor resultado\n",
    "study.best_params"
   ]
  },
  {
   "cell_type": "code",
   "execution_count": 65,
   "id": "0537f645",
   "metadata": {},
   "outputs": [
    {
     "data": {
      "application/vnd.plotly.v1+json": {
       "config": {
        "plotlyServerURL": "https://plot.ly"
       },
       "data": [
        {
         "type": "heatmap",
         "x": {
          "bdata": "AAECAwQ=",
          "dtype": "i1"
         },
         "y": {
          "bdata": "AAECAwQ=",
          "dtype": "i1"
         },
         "z": {
          "bdata": "RO1K1K5EHUC7ErUrUbtEQETtStSuRD1ARO1K1K5EHUBE7UrUrkQtQA/2W20MTfc/KxwmylxQQUDLP0dC8CZBQI2h6Q72WyVA7LfaGJruMkAyN17RtMrXPxPKRTzuBzlA+gYGy4CGQkClGnQeYEcpQMmhLks16DhACMmAeqZy3T+zGkUcOmkwQOTFluDbfEBAQT1Tue54NUAhGVDPVK48QJ/neZ7neb4/6Hme53meJkAAAAAAAAA0QKqqqqqqqiBA53me53keTkA=",
          "dtype": "f8",
          "shape": "5, 5"
         }
        }
       ],
       "layout": {
        "annotations": [
         {
          "font": {
           "color": "white"
          },
          "showarrow": false,
          "text": "7.3 - 6",
          "x": 0,
          "xref": "x",
          "y": 0,
          "yref": "y"
         },
         {
          "font": {
           "color": "white"
          },
          "showarrow": false,
          "text": "41.5 - 34",
          "x": 1,
          "xref": "x",
          "y": 0,
          "yref": "y"
         },
         {
          "font": {
           "color": "white"
          },
          "showarrow": false,
          "text": "29.3 - 24",
          "x": 2,
          "xref": "x",
          "y": 0,
          "yref": "y"
         },
         {
          "font": {
           "color": "white"
          },
          "showarrow": false,
          "text": "7.3 - 6",
          "x": 3,
          "xref": "x",
          "y": 0,
          "yref": "y"
         },
         {
          "font": {
           "color": "white"
          },
          "showarrow": false,
          "text": "14.6 - 12",
          "x": 4,
          "xref": "x",
          "y": 0,
          "yref": "y"
         },
         {
          "font": {
           "color": "white"
          },
          "showarrow": false,
          "text": "1.5 - 9",
          "x": 0,
          "xref": "x",
          "y": 1,
          "yref": "y"
         },
         {
          "font": {
           "color": "white"
          },
          "showarrow": false,
          "text": "34.6 - 214",
          "x": 1,
          "xref": "x",
          "y": 1,
          "yref": "y"
         },
         {
          "font": {
           "color": "white"
          },
          "showarrow": false,
          "text": "34.3 - 212",
          "x": 2,
          "xref": "x",
          "y": 1,
          "yref": "y"
         },
         {
          "font": {
           "color": "white"
          },
          "showarrow": false,
          "text": "10.7 - 66",
          "x": 3,
          "xref": "x",
          "y": 1,
          "yref": "y"
         },
         {
          "font": {
           "color": "white"
          },
          "showarrow": false,
          "text": "18.9 - 117",
          "x": 4,
          "xref": "x",
          "y": 1,
          "yref": "y"
         },
         {
          "font": {
           "color": "white"
          },
          "showarrow": false,
          "text": "0.4 - 3",
          "x": 0,
          "xref": "x",
          "y": 2,
          "yref": "y"
         },
         {
          "font": {
           "color": "white"
          },
          "showarrow": false,
          "text": "25.0 - 202",
          "x": 1,
          "xref": "x",
          "y": 2,
          "yref": "y"
         },
         {
          "font": {
           "color": "white"
          },
          "showarrow": false,
          "text": "37.1 - 299",
          "x": 2,
          "xref": "x",
          "y": 2,
          "yref": "y"
         },
         {
          "font": {
           "color": "white"
          },
          "showarrow": false,
          "text": "12.6 - 102",
          "x": 3,
          "xref": "x",
          "y": 2,
          "yref": "y"
         },
         {
          "font": {
           "color": "white"
          },
          "showarrow": false,
          "text": "24.9 - 201",
          "x": 4,
          "xref": "x",
          "y": 2,
          "yref": "y"
         },
         {
          "font": {
           "color": "white"
          },
          "showarrow": false,
          "text": "0.5 - 3",
          "x": 0,
          "xref": "x",
          "y": 3,
          "yref": "y"
         },
         {
          "font": {
           "color": "white"
          },
          "showarrow": false,
          "text": "16.4 - 107",
          "x": 1,
          "xref": "x",
          "y": 3,
          "yref": "y"
         },
         {
          "font": {
           "color": "white"
          },
          "showarrow": false,
          "text": "33.0 - 215",
          "x": 2,
          "xref": "x",
          "y": 3,
          "yref": "y"
         },
         {
          "font": {
           "color": "white"
          },
          "showarrow": false,
          "text": "21.5 - 140",
          "x": 3,
          "xref": "x",
          "y": 3,
          "yref": "y"
         },
         {
          "font": {
           "color": "white"
          },
          "showarrow": false,
          "text": "28.7 - 187",
          "x": 4,
          "xref": "x",
          "y": 3,
          "yref": "y"
         },
         {
          "font": {
           "color": "white"
          },
          "showarrow": false,
          "text": "0.1 - 1",
          "x": 0,
          "xref": "x",
          "y": 4,
          "yref": "y"
         },
         {
          "font": {
           "color": "white"
          },
          "showarrow": false,
          "text": "11.3 - 95",
          "x": 1,
          "xref": "x",
          "y": 4,
          "yref": "y"
         },
         {
          "font": {
           "color": "white"
          },
          "showarrow": false,
          "text": "20.0 - 168",
          "x": 2,
          "xref": "x",
          "y": 4,
          "yref": "y"
         },
         {
          "font": {
           "color": "white"
          },
          "showarrow": false,
          "text": "8.3 - 70",
          "x": 3,
          "xref": "x",
          "y": 4,
          "yref": "y"
         },
         {
          "font": {
           "color": "white"
          },
          "showarrow": false,
          "text": "60.2 - 506",
          "x": 4,
          "xref": "x",
          "y": 4,
          "yref": "y"
         }
        ],
        "height": 800,
        "template": {
         "data": {
          "bar": [
           {
            "error_x": {
             "color": "#2a3f5f"
            },
            "error_y": {
             "color": "#2a3f5f"
            },
            "marker": {
             "line": {
              "color": "#E5ECF6",
              "width": 0.5
             },
             "pattern": {
              "fillmode": "overlay",
              "size": 10,
              "solidity": 0.2
             }
            },
            "type": "bar"
           }
          ],
          "barpolar": [
           {
            "marker": {
             "line": {
              "color": "#E5ECF6",
              "width": 0.5
             },
             "pattern": {
              "fillmode": "overlay",
              "size": 10,
              "solidity": 0.2
             }
            },
            "type": "barpolar"
           }
          ],
          "carpet": [
           {
            "aaxis": {
             "endlinecolor": "#2a3f5f",
             "gridcolor": "white",
             "linecolor": "white",
             "minorgridcolor": "white",
             "startlinecolor": "#2a3f5f"
            },
            "baxis": {
             "endlinecolor": "#2a3f5f",
             "gridcolor": "white",
             "linecolor": "white",
             "minorgridcolor": "white",
             "startlinecolor": "#2a3f5f"
            },
            "type": "carpet"
           }
          ],
          "choropleth": [
           {
            "colorbar": {
             "outlinewidth": 0,
             "ticks": ""
            },
            "type": "choropleth"
           }
          ],
          "contour": [
           {
            "colorbar": {
             "outlinewidth": 0,
             "ticks": ""
            },
            "colorscale": [
             [
              0,
              "#0d0887"
             ],
             [
              0.1111111111111111,
              "#46039f"
             ],
             [
              0.2222222222222222,
              "#7201a8"
             ],
             [
              0.3333333333333333,
              "#9c179e"
             ],
             [
              0.4444444444444444,
              "#bd3786"
             ],
             [
              0.5555555555555556,
              "#d8576b"
             ],
             [
              0.6666666666666666,
              "#ed7953"
             ],
             [
              0.7777777777777778,
              "#fb9f3a"
             ],
             [
              0.8888888888888888,
              "#fdca26"
             ],
             [
              1,
              "#f0f921"
             ]
            ],
            "type": "contour"
           }
          ],
          "contourcarpet": [
           {
            "colorbar": {
             "outlinewidth": 0,
             "ticks": ""
            },
            "type": "contourcarpet"
           }
          ],
          "heatmap": [
           {
            "colorbar": {
             "outlinewidth": 0,
             "ticks": ""
            },
            "colorscale": [
             [
              0,
              "#0d0887"
             ],
             [
              0.1111111111111111,
              "#46039f"
             ],
             [
              0.2222222222222222,
              "#7201a8"
             ],
             [
              0.3333333333333333,
              "#9c179e"
             ],
             [
              0.4444444444444444,
              "#bd3786"
             ],
             [
              0.5555555555555556,
              "#d8576b"
             ],
             [
              0.6666666666666666,
              "#ed7953"
             ],
             [
              0.7777777777777778,
              "#fb9f3a"
             ],
             [
              0.8888888888888888,
              "#fdca26"
             ],
             [
              1,
              "#f0f921"
             ]
            ],
            "type": "heatmap"
           }
          ],
          "histogram": [
           {
            "marker": {
             "pattern": {
              "fillmode": "overlay",
              "size": 10,
              "solidity": 0.2
             }
            },
            "type": "histogram"
           }
          ],
          "histogram2d": [
           {
            "colorbar": {
             "outlinewidth": 0,
             "ticks": ""
            },
            "colorscale": [
             [
              0,
              "#0d0887"
             ],
             [
              0.1111111111111111,
              "#46039f"
             ],
             [
              0.2222222222222222,
              "#7201a8"
             ],
             [
              0.3333333333333333,
              "#9c179e"
             ],
             [
              0.4444444444444444,
              "#bd3786"
             ],
             [
              0.5555555555555556,
              "#d8576b"
             ],
             [
              0.6666666666666666,
              "#ed7953"
             ],
             [
              0.7777777777777778,
              "#fb9f3a"
             ],
             [
              0.8888888888888888,
              "#fdca26"
             ],
             [
              1,
              "#f0f921"
             ]
            ],
            "type": "histogram2d"
           }
          ],
          "histogram2dcontour": [
           {
            "colorbar": {
             "outlinewidth": 0,
             "ticks": ""
            },
            "colorscale": [
             [
              0,
              "#0d0887"
             ],
             [
              0.1111111111111111,
              "#46039f"
             ],
             [
              0.2222222222222222,
              "#7201a8"
             ],
             [
              0.3333333333333333,
              "#9c179e"
             ],
             [
              0.4444444444444444,
              "#bd3786"
             ],
             [
              0.5555555555555556,
              "#d8576b"
             ],
             [
              0.6666666666666666,
              "#ed7953"
             ],
             [
              0.7777777777777778,
              "#fb9f3a"
             ],
             [
              0.8888888888888888,
              "#fdca26"
             ],
             [
              1,
              "#f0f921"
             ]
            ],
            "type": "histogram2dcontour"
           }
          ],
          "mesh3d": [
           {
            "colorbar": {
             "outlinewidth": 0,
             "ticks": ""
            },
            "type": "mesh3d"
           }
          ],
          "parcoords": [
           {
            "line": {
             "colorbar": {
              "outlinewidth": 0,
              "ticks": ""
             }
            },
            "type": "parcoords"
           }
          ],
          "pie": [
           {
            "automargin": true,
            "type": "pie"
           }
          ],
          "scatter": [
           {
            "fillpattern": {
             "fillmode": "overlay",
             "size": 10,
             "solidity": 0.2
            },
            "type": "scatter"
           }
          ],
          "scatter3d": [
           {
            "line": {
             "colorbar": {
              "outlinewidth": 0,
              "ticks": ""
             }
            },
            "marker": {
             "colorbar": {
              "outlinewidth": 0,
              "ticks": ""
             }
            },
            "type": "scatter3d"
           }
          ],
          "scattercarpet": [
           {
            "marker": {
             "colorbar": {
              "outlinewidth": 0,
              "ticks": ""
             }
            },
            "type": "scattercarpet"
           }
          ],
          "scattergeo": [
           {
            "marker": {
             "colorbar": {
              "outlinewidth": 0,
              "ticks": ""
             }
            },
            "type": "scattergeo"
           }
          ],
          "scattergl": [
           {
            "marker": {
             "colorbar": {
              "outlinewidth": 0,
              "ticks": ""
             }
            },
            "type": "scattergl"
           }
          ],
          "scattermap": [
           {
            "marker": {
             "colorbar": {
              "outlinewidth": 0,
              "ticks": ""
             }
            },
            "type": "scattermap"
           }
          ],
          "scattermapbox": [
           {
            "marker": {
             "colorbar": {
              "outlinewidth": 0,
              "ticks": ""
             }
            },
            "type": "scattermapbox"
           }
          ],
          "scatterpolar": [
           {
            "marker": {
             "colorbar": {
              "outlinewidth": 0,
              "ticks": ""
             }
            },
            "type": "scatterpolar"
           }
          ],
          "scatterpolargl": [
           {
            "marker": {
             "colorbar": {
              "outlinewidth": 0,
              "ticks": ""
             }
            },
            "type": "scatterpolargl"
           }
          ],
          "scatterternary": [
           {
            "marker": {
             "colorbar": {
              "outlinewidth": 0,
              "ticks": ""
             }
            },
            "type": "scatterternary"
           }
          ],
          "surface": [
           {
            "colorbar": {
             "outlinewidth": 0,
             "ticks": ""
            },
            "colorscale": [
             [
              0,
              "#0d0887"
             ],
             [
              0.1111111111111111,
              "#46039f"
             ],
             [
              0.2222222222222222,
              "#7201a8"
             ],
             [
              0.3333333333333333,
              "#9c179e"
             ],
             [
              0.4444444444444444,
              "#bd3786"
             ],
             [
              0.5555555555555556,
              "#d8576b"
             ],
             [
              0.6666666666666666,
              "#ed7953"
             ],
             [
              0.7777777777777778,
              "#fb9f3a"
             ],
             [
              0.8888888888888888,
              "#fdca26"
             ],
             [
              1,
              "#f0f921"
             ]
            ],
            "type": "surface"
           }
          ],
          "table": [
           {
            "cells": {
             "fill": {
              "color": "#EBF0F8"
             },
             "line": {
              "color": "white"
             }
            },
            "header": {
             "fill": {
              "color": "#C8D4E3"
             },
             "line": {
              "color": "white"
             }
            },
            "type": "table"
           }
          ]
         },
         "layout": {
          "annotationdefaults": {
           "arrowcolor": "#2a3f5f",
           "arrowhead": 0,
           "arrowwidth": 1
          },
          "autotypenumbers": "strict",
          "coloraxis": {
           "colorbar": {
            "outlinewidth": 0,
            "ticks": ""
           }
          },
          "colorscale": {
           "diverging": [
            [
             0,
             "#8e0152"
            ],
            [
             0.1,
             "#c51b7d"
            ],
            [
             0.2,
             "#de77ae"
            ],
            [
             0.3,
             "#f1b6da"
            ],
            [
             0.4,
             "#fde0ef"
            ],
            [
             0.5,
             "#f7f7f7"
            ],
            [
             0.6,
             "#e6f5d0"
            ],
            [
             0.7,
             "#b8e186"
            ],
            [
             0.8,
             "#7fbc41"
            ],
            [
             0.9,
             "#4d9221"
            ],
            [
             1,
             "#276419"
            ]
           ],
           "sequential": [
            [
             0,
             "#0d0887"
            ],
            [
             0.1111111111111111,
             "#46039f"
            ],
            [
             0.2222222222222222,
             "#7201a8"
            ],
            [
             0.3333333333333333,
             "#9c179e"
            ],
            [
             0.4444444444444444,
             "#bd3786"
            ],
            [
             0.5555555555555556,
             "#d8576b"
            ],
            [
             0.6666666666666666,
             "#ed7953"
            ],
            [
             0.7777777777777778,
             "#fb9f3a"
            ],
            [
             0.8888888888888888,
             "#fdca26"
            ],
            [
             1,
             "#f0f921"
            ]
           ],
           "sequentialminus": [
            [
             0,
             "#0d0887"
            ],
            [
             0.1111111111111111,
             "#46039f"
            ],
            [
             0.2222222222222222,
             "#7201a8"
            ],
            [
             0.3333333333333333,
             "#9c179e"
            ],
            [
             0.4444444444444444,
             "#bd3786"
            ],
            [
             0.5555555555555556,
             "#d8576b"
            ],
            [
             0.6666666666666666,
             "#ed7953"
            ],
            [
             0.7777777777777778,
             "#fb9f3a"
            ],
            [
             0.8888888888888888,
             "#fdca26"
            ],
            [
             1,
             "#f0f921"
            ]
           ]
          },
          "colorway": [
           "#636efa",
           "#EF553B",
           "#00cc96",
           "#ab63fa",
           "#FFA15A",
           "#19d3f3",
           "#FF6692",
           "#B6E880",
           "#FF97FF",
           "#FECB52"
          ],
          "font": {
           "color": "#2a3f5f"
          },
          "geo": {
           "bgcolor": "white",
           "lakecolor": "white",
           "landcolor": "#E5ECF6",
           "showlakes": true,
           "showland": true,
           "subunitcolor": "white"
          },
          "hoverlabel": {
           "align": "left"
          },
          "hovermode": "closest",
          "mapbox": {
           "style": "light"
          },
          "paper_bgcolor": "white",
          "plot_bgcolor": "#E5ECF6",
          "polar": {
           "angularaxis": {
            "gridcolor": "white",
            "linecolor": "white",
            "ticks": ""
           },
           "bgcolor": "#E5ECF6",
           "radialaxis": {
            "gridcolor": "white",
            "linecolor": "white",
            "ticks": ""
           }
          },
          "scene": {
           "xaxis": {
            "backgroundcolor": "#E5ECF6",
            "gridcolor": "white",
            "gridwidth": 2,
            "linecolor": "white",
            "showbackground": true,
            "ticks": "",
            "zerolinecolor": "white"
           },
           "yaxis": {
            "backgroundcolor": "#E5ECF6",
            "gridcolor": "white",
            "gridwidth": 2,
            "linecolor": "white",
            "showbackground": true,
            "ticks": "",
            "zerolinecolor": "white"
           },
           "zaxis": {
            "backgroundcolor": "#E5ECF6",
            "gridcolor": "white",
            "gridwidth": 2,
            "linecolor": "white",
            "showbackground": true,
            "ticks": "",
            "zerolinecolor": "white"
           }
          },
          "shapedefaults": {
           "line": {
            "color": "#2a3f5f"
           }
          },
          "ternary": {
           "aaxis": {
            "gridcolor": "white",
            "linecolor": "white",
            "ticks": ""
           },
           "baxis": {
            "gridcolor": "white",
            "linecolor": "white",
            "ticks": ""
           },
           "bgcolor": "#E5ECF6",
           "caxis": {
            "gridcolor": "white",
            "linecolor": "white",
            "ticks": ""
           }
          },
          "title": {
           "x": 0.05
          },
          "xaxis": {
           "automargin": true,
           "gridcolor": "white",
           "linecolor": "white",
           "ticks": "",
           "title": {
            "standoff": 15
           },
           "zerolinecolor": "white",
           "zerolinewidth": 2
          },
          "yaxis": {
           "automargin": true,
           "gridcolor": "white",
           "linecolor": "white",
           "ticks": "",
           "title": {
            "standoff": 15
           },
           "zerolinecolor": "white",
           "zerolinewidth": 2
          }
         }
        },
        "title": {
         "text": "Conf Matrix"
        },
        "width": 800,
        "xaxis": {
         "title": {
          "text": "Predicted value"
         }
        },
        "yaxis": {
         "title": {
          "text": "Real value"
         }
        }
       }
      }
     },
     "metadata": {},
     "output_type": "display_data"
    },
    {
     "data": {
      "text/plain": [
       "0.3433236690052913"
      ]
     },
     "execution_count": 65,
     "metadata": {},
     "output_type": "execute_result"
    }
   ],
   "source": [
    "#Vamos a replicar el resultado de la optimizacion reentrenando el modelo con el mejor conjunto de hiperparametros\n",
    "#Generamos parametros incluyendo los fijos y la mejor solución que encontro optuna\n",
    "lgb_params =  {      \n",
    "                        'objective': 'multiclass',\n",
    "                        'verbosity':-1,\n",
    "                        'num_class': len(y_train.unique())} | study.best_params\n",
    "\n",
    "lgb_train_dataset = lgb.Dataset(data=X_train,\n",
    "                                label=y_train)\n",
    "\n",
    "\n",
    "#Entreno\n",
    "lgb_model = lgb.train(lgb_params,\n",
    "                    lgb_train_dataset)\n",
    "\n",
    "#Muestro matriz de confusion y kappa\n",
    "display(plot_confusion_matrix(y_test,lgb_model.predict(X_test).argmax(axis=1)))\n",
    "\n",
    "cohen_kappa_score(y_test,lgb_model.predict(X_test).argmax(axis=1),\n",
    "                             weights = 'quadratic')\n"
   ]
  },
  {
   "cell_type": "markdown",
   "id": "bb5ac38b",
   "metadata": {},
   "source": [
    "## Modelo con cross validation y conjunto de test\n"
   ]
  },
  {
   "cell_type": "code",
   "execution_count": 58,
   "id": "ed39dfcb",
   "metadata": {},
   "outputs": [],
   "source": [
    "#Genero una metrica para que lightGBM haga la evaluación y pueda hacer early_stopping en el cross validation\n",
    "def lgb_custom_metric_kappa(dy_pred, dy_true):\n",
    "    metric_name = 'kappa'\n",
    "    value = cohen_kappa_score(dy_true.get_label(),dy_pred.argmax(axis=1),weights = 'quadratic')\n",
    "    is_higher_better = True\n",
    "    return(metric_name, value, is_higher_better)\n",
    "\n",
    "#Funcion objetivo a optimizar. En este caso vamos a hacer 5fold cv sobre el conjunto de train. \n",
    "# El score de CV es el objetivo a optimizar. Ademas vamos a usar los 5 modelos del CV para estimar el conjunto de test,\n",
    "# registraremos en optuna las predicciones, matriz de confusion y el score en test.\n",
    "# CV Score -> Se usa para determinar el rendimiento de los hiperparametros con precision \n",
    "# Test Score -> Nos permite testear que esta todo OK, no use (ni debo usar) esos datos para nada en el entrenamiento \n",
    "# o la optimizacion de hiperparametros\n",
    "\n",
    "def cv_es_lgb_objective(trial):\n",
    "\n",
    "    #PArametros para LightGBM\n",
    "    lgb_params = {      \n",
    "                        #PArametros fijos\n",
    "                        'objective': 'multiclass',\n",
    "                        'verbosity':-1,\n",
    "                        'num_class': len(y_train.unique()),\n",
    "                        #Hiperparametros a optimizar utilizando suggest_float o suggest_int segun el tipo de dato\n",
    "                        #Se indica el nombre del parametro, valor minimo, valor maximo \n",
    "                        #en elgunos casos el parametro log=True para parametros que requieren buscar en esa escala\n",
    "                        'lambda_l1': trial.suggest_float('lambda_l1', 1e-8, 10.0, log=True),\n",
    "                        'lambda_l2': trial.suggest_float('lambda_l2', 1e-8, 10.0, log=True),\n",
    "                        'num_leaves': trial.suggest_int('num_leaves', 2, 256),\n",
    "                        'feature_fraction': trial.suggest_float('feature_fraction', 0.4, 1.0),\n",
    "                        'bagging_fraction': trial.suggest_float('bagging_fraction', 0.4, 1.0),\n",
    "                        'bagging_freq': trial.suggest_int('bagging_freq', 1, 7),\n",
    "                        'min_child_samples': trial.suggest_int('min_child_samples', 5, 100),\n",
    "                        'learning_rate': trial.suggest_float('learning_rate', 0.003, 0.1, log=True),\n",
    "                        'n_estimators':5000\n",
    "                        } \n",
    "\n",
    "    #Voy a generar estimaciones de los 5 modelos del CV sobre los datos test y los acumulo en la matriz scores_ensemble\n",
    "    scores_ensemble = np.zeros((len(y_test),len(y_train.unique())))\n",
    "\n",
    "    #Score del 5 fold CV inicializado en 0\n",
    "    score_folds = 0\n",
    "\n",
    "    #Numero de splits del CV\n",
    "    n_splits = 5\n",
    "\n",
    "    #Objeto para hacer el split estratificado de CV\n",
    "    skf = StratifiedKFold(n_splits=n_splits)\n",
    "\n",
    "    for i, (if_index, oof_index) in enumerate(skf.split(X_train, y_train)):\n",
    "        \n",
    "        #Dataset in fold (donde entreno) \n",
    "        lgb_if_dataset = lgb.Dataset(data=X_train.iloc[if_index],\n",
    "                                        label=y_train.iloc[if_index],\n",
    "                                        free_raw_data=False)\n",
    "        \n",
    "        #Dataset Out of fold (donde mido la performance del CV)\n",
    "        lgb_oof_dataset = lgb.Dataset(data=X_train.iloc[oof_index],\n",
    "                                        label=y_train.iloc[oof_index],\n",
    "                                        free_raw_data=False)\n",
    "\n",
    "        #Entreno el modelo\n",
    "        lgb_model = lgb.train(lgb_params,\n",
    "                                lgb_if_dataset,\n",
    "                                valid_sets=lgb_oof_dataset,\n",
    "                                callbacks=[lgb.early_stopping(10, verbose=False)],\n",
    "                                feval = lgb_custom_metric_kappa\n",
    "                                )\n",
    "        \n",
    "        #Acumulo los scores (probabilidades) de cada clase para cada uno de los modelos que determino en los folds\n",
    "        #Se predice el 20% de los datos que separe para tes y no uso para entrenar en ningun fold\n",
    "        scores_ensemble = scores_ensemble + lgb_model.predict(X_test)\n",
    "        \n",
    "        #Score del fold (registros de dataset train que en este fold quedan out of fold)\n",
    "        score_folds = score_folds + cohen_kappa_score(y_train.iloc[oof_index], \n",
    "                                                            lgb_model.predict(X_train.iloc[oof_index]).argmax(axis=1),weights = 'quadratic')/n_splits\n",
    "\n",
    "\n",
    "    #Guardo prediccion del trial sobre el conjunto de test\n",
    "    # Genero nombre de archivo\n",
    "    predicted_filename = os.path.join(PATH_TO_TEMP_FILES,f'test_{trial.study.study_name}_{trial.number}.joblib')\n",
    "    # Copia del dataset para guardar la prediccion\n",
    "    predicted_df = test.copy()\n",
    "    # Genero columna pred con predicciones sumadas de los 5 folds\n",
    "    predicted_df['pred'] = [scores_ensemble[p,:] for p in range(scores_ensemble.shape[0])]\n",
    "    # Grabo dataframe en temp_artifacts\n",
    "    dump(predicted_df, predicted_filename)\n",
    "    # Indico a optuna que asocie el archivo generado al trial\n",
    "    upload_artifact(trial, predicted_filename, artifact_store)    \n",
    "\n",
    "    #Grabo natriz de confusion\n",
    "    #Nombre de archivo\n",
    "    cm_filename = os.path.join(PATH_TO_TEMP_FILES,f'cm_{trial.study.study_name}_{trial.number}.jpg')\n",
    "    fi_filename = os.path.join(PATH_TO_TEMP_FILES,f'fi_{trial.study.study_name}_{trial.number}.png')\n",
    "    #Grabo archivo\n",
    "    plot_confusion_matrix(y_test,scores_ensemble.argmax(axis=1)).write_image(cm_filename)\n",
    "    # feature importance\n",
    "    ax = lgb.plot_importance(lgb_model, importance_type=\"gain\", figsize=(10, 7))\n",
    "    ax.figure.savefig(fi_filename)\n",
    "    #Asocio al trial\n",
    "    upload_artifact(trial, cm_filename, artifact_store)\n",
    "    upload_artifact(trial, fi_filename, artifact_store)\n",
    "\n",
    "    #Determino score en conjunto de test y asocio como metrica adicional en optuna\n",
    "    test_score = cohen_kappa_score(y_test,scores_ensemble.argmax(axis=1),weights = 'quadratic')\n",
    "    trial.set_user_attr(\"test_score\", test_score)\n",
    "\n",
    "    #Devuelvo score del 5fold cv a optuna para que optimice en base a eso\n",
    "    return(score_folds)"
   ]
  },
  {
   "cell_type": "code",
   "execution_count": null,
   "id": "d5b067cb",
   "metadata": {},
   "outputs": [
    {
     "name": "stderr",
     "output_type": "stream",
     "text": [
      "[I 2025-07-26 12:09:17,510] Using an existing study with name '04 - LGB Multiclass CV G2_04' instead of creating a new one.\n",
      "/var/folders/tx/rstdr46s2ng5_qbbc6p67xv40000gn/T/ipykernel_48489/3809418348.py:88: FutureWarning:\n",
      "\n",
      "upload_artifact() got {'file_path', 'study_or_trial', 'artifact_store'} as positional arguments but they were expected to be given as keyword arguments.\n",
      "Positional arguments ['study_or_trial', 'file_path', 'artifact_store'] in upload_artifact() have been deprecated since v4.0.0. They will be replaced with the corresponding keyword arguments in v6.0.0, so please use the keyword specification instead. See https://github.com/optuna/optuna/releases/tag/v4.0.0 for details.\n",
      "\n",
      "/var/folders/tx/rstdr46s2ng5_qbbc6p67xv40000gn/T/ipykernel_48489/3809418348.py:100: FutureWarning:\n",
      "\n",
      "upload_artifact() got {'file_path', 'study_or_trial', 'artifact_store'} as positional arguments but they were expected to be given as keyword arguments.\n",
      "Positional arguments ['study_or_trial', 'file_path', 'artifact_store'] in upload_artifact() have been deprecated since v4.0.0. They will be replaced with the corresponding keyword arguments in v6.0.0, so please use the keyword specification instead. See https://github.com/optuna/optuna/releases/tag/v4.0.0 for details.\n",
      "\n",
      "/var/folders/tx/rstdr46s2ng5_qbbc6p67xv40000gn/T/ipykernel_48489/3809418348.py:101: FutureWarning:\n",
      "\n",
      "upload_artifact() got {'file_path', 'study_or_trial', 'artifact_store'} as positional arguments but they were expected to be given as keyword arguments.\n",
      "Positional arguments ['study_or_trial', 'file_path', 'artifact_store'] in upload_artifact() have been deprecated since v4.0.0. They will be replaced with the corresponding keyword arguments in v6.0.0, so please use the keyword specification instead. See https://github.com/optuna/optuna/releases/tag/v4.0.0 for details.\n",
      "\n",
      "[I 2025-07-26 12:09:43,494] Trial 37 finished with value: 0.36256935636750476 and parameters: {'lambda_l1': 0.02167357739292989, 'lambda_l2': 1.5610537169551533e-08, 'num_leaves': 166, 'feature_fraction': 0.4628016079054189, 'bagging_fraction': 0.7853847260888672, 'bagging_freq': 2, 'min_child_samples': 67, 'learning_rate': 0.03690359244809663}. Best is trial 26 with value: 0.3776140545054506.\n",
      "/var/folders/tx/rstdr46s2ng5_qbbc6p67xv40000gn/T/ipykernel_48489/3809418348.py:88: FutureWarning:\n",
      "\n",
      "upload_artifact() got {'file_path', 'study_or_trial', 'artifact_store'} as positional arguments but they were expected to be given as keyword arguments.\n",
      "Positional arguments ['study_or_trial', 'file_path', 'artifact_store'] in upload_artifact() have been deprecated since v4.0.0. They will be replaced with the corresponding keyword arguments in v6.0.0, so please use the keyword specification instead. See https://github.com/optuna/optuna/releases/tag/v4.0.0 for details.\n",
      "\n",
      "/var/folders/tx/rstdr46s2ng5_qbbc6p67xv40000gn/T/ipykernel_48489/3809418348.py:100: FutureWarning:\n",
      "\n",
      "upload_artifact() got {'file_path', 'study_or_trial', 'artifact_store'} as positional arguments but they were expected to be given as keyword arguments.\n",
      "Positional arguments ['study_or_trial', 'file_path', 'artifact_store'] in upload_artifact() have been deprecated since v4.0.0. They will be replaced with the corresponding keyword arguments in v6.0.0, so please use the keyword specification instead. See https://github.com/optuna/optuna/releases/tag/v4.0.0 for details.\n",
      "\n",
      "/var/folders/tx/rstdr46s2ng5_qbbc6p67xv40000gn/T/ipykernel_48489/3809418348.py:101: FutureWarning:\n",
      "\n",
      "upload_artifact() got {'file_path', 'study_or_trial', 'artifact_store'} as positional arguments but they were expected to be given as keyword arguments.\n",
      "Positional arguments ['study_or_trial', 'file_path', 'artifact_store'] in upload_artifact() have been deprecated since v4.0.0. They will be replaced with the corresponding keyword arguments in v6.0.0, so please use the keyword specification instead. See https://github.com/optuna/optuna/releases/tag/v4.0.0 for details.\n",
      "\n",
      "[I 2025-07-26 12:10:22,549] Trial 38 finished with value: 0.3649944448687896 and parameters: {'lambda_l1': 0.015283342148999022, 'lambda_l2': 1.0694334019487183e-08, 'num_leaves': 173, 'feature_fraction': 0.4000759976418493, 'bagging_fraction': 0.7203941292185602, 'bagging_freq': 2, 'min_child_samples': 19, 'learning_rate': 0.051117895793675594}. Best is trial 26 with value: 0.3776140545054506.\n",
      "/var/folders/tx/rstdr46s2ng5_qbbc6p67xv40000gn/T/ipykernel_48489/3809418348.py:88: FutureWarning:\n",
      "\n",
      "upload_artifact() got {'file_path', 'study_or_trial', 'artifact_store'} as positional arguments but they were expected to be given as keyword arguments.\n",
      "Positional arguments ['study_or_trial', 'file_path', 'artifact_store'] in upload_artifact() have been deprecated since v4.0.0. They will be replaced with the corresponding keyword arguments in v6.0.0, so please use the keyword specification instead. See https://github.com/optuna/optuna/releases/tag/v4.0.0 for details.\n",
      "\n",
      "/var/folders/tx/rstdr46s2ng5_qbbc6p67xv40000gn/T/ipykernel_48489/3809418348.py:100: FutureWarning:\n",
      "\n",
      "upload_artifact() got {'file_path', 'study_or_trial', 'artifact_store'} as positional arguments but they were expected to be given as keyword arguments.\n",
      "Positional arguments ['study_or_trial', 'file_path', 'artifact_store'] in upload_artifact() have been deprecated since v4.0.0. They will be replaced with the corresponding keyword arguments in v6.0.0, so please use the keyword specification instead. See https://github.com/optuna/optuna/releases/tag/v4.0.0 for details.\n",
      "\n",
      "/var/folders/tx/rstdr46s2ng5_qbbc6p67xv40000gn/T/ipykernel_48489/3809418348.py:101: FutureWarning:\n",
      "\n",
      "upload_artifact() got {'file_path', 'study_or_trial', 'artifact_store'} as positional arguments but they were expected to be given as keyword arguments.\n",
      "Positional arguments ['study_or_trial', 'file_path', 'artifact_store'] in upload_artifact() have been deprecated since v4.0.0. They will be replaced with the corresponding keyword arguments in v6.0.0, so please use the keyword specification instead. See https://github.com/optuna/optuna/releases/tag/v4.0.0 for details.\n",
      "\n",
      "[I 2025-07-26 12:11:06,784] Trial 39 finished with value: 0.36871156264009974 and parameters: {'lambda_l1': 0.0008351677847253168, 'lambda_l2': 8.724488977149164e-08, 'num_leaves': 201, 'feature_fraction': 0.5339340092192637, 'bagging_fraction': 0.8053866338261052, 'bagging_freq': 2, 'min_child_samples': 10, 'learning_rate': 0.035195524174871345}. Best is trial 26 with value: 0.3776140545054506.\n",
      "/var/folders/tx/rstdr46s2ng5_qbbc6p67xv40000gn/T/ipykernel_48489/3809418348.py:88: FutureWarning:\n",
      "\n",
      "upload_artifact() got {'file_path', 'study_or_trial', 'artifact_store'} as positional arguments but they were expected to be given as keyword arguments.\n",
      "Positional arguments ['study_or_trial', 'file_path', 'artifact_store'] in upload_artifact() have been deprecated since v4.0.0. They will be replaced with the corresponding keyword arguments in v6.0.0, so please use the keyword specification instead. See https://github.com/optuna/optuna/releases/tag/v4.0.0 for details.\n",
      "\n",
      "/var/folders/tx/rstdr46s2ng5_qbbc6p67xv40000gn/T/ipykernel_48489/3809418348.py:100: FutureWarning:\n",
      "\n",
      "upload_artifact() got {'file_path', 'study_or_trial', 'artifact_store'} as positional arguments but they were expected to be given as keyword arguments.\n",
      "Positional arguments ['study_or_trial', 'file_path', 'artifact_store'] in upload_artifact() have been deprecated since v4.0.0. They will be replaced with the corresponding keyword arguments in v6.0.0, so please use the keyword specification instead. See https://github.com/optuna/optuna/releases/tag/v4.0.0 for details.\n",
      "\n",
      "/var/folders/tx/rstdr46s2ng5_qbbc6p67xv40000gn/T/ipykernel_48489/3809418348.py:101: FutureWarning:\n",
      "\n",
      "upload_artifact() got {'file_path', 'study_or_trial', 'artifact_store'} as positional arguments but they were expected to be given as keyword arguments.\n",
      "Positional arguments ['study_or_trial', 'file_path', 'artifact_store'] in upload_artifact() have been deprecated since v4.0.0. They will be replaced with the corresponding keyword arguments in v6.0.0, so please use the keyword specification instead. See https://github.com/optuna/optuna/releases/tag/v4.0.0 for details.\n",
      "\n",
      "[I 2025-07-26 12:11:23,130] Trial 40 finished with value: 0.3538363982870953 and parameters: {'lambda_l1': 2.438630934499453e-07, 'lambda_l2': 6.029039762343098e-08, 'num_leaves': 186, 'feature_fraction': 0.6080447604211455, 'bagging_fraction': 0.8302841445779772, 'bagging_freq': 1, 'min_child_samples': 88, 'learning_rate': 0.024898222661749618}. Best is trial 26 with value: 0.3776140545054506.\n",
      "/var/folders/tx/rstdr46s2ng5_qbbc6p67xv40000gn/T/ipykernel_48489/3809418348.py:88: FutureWarning:\n",
      "\n",
      "upload_artifact() got {'file_path', 'study_or_trial', 'artifact_store'} as positional arguments but they were expected to be given as keyword arguments.\n",
      "Positional arguments ['study_or_trial', 'file_path', 'artifact_store'] in upload_artifact() have been deprecated since v4.0.0. They will be replaced with the corresponding keyword arguments in v6.0.0, so please use the keyword specification instead. See https://github.com/optuna/optuna/releases/tag/v4.0.0 for details.\n",
      "\n",
      "/var/folders/tx/rstdr46s2ng5_qbbc6p67xv40000gn/T/ipykernel_48489/3809418348.py:100: FutureWarning:\n",
      "\n",
      "upload_artifact() got {'file_path', 'study_or_trial', 'artifact_store'} as positional arguments but they were expected to be given as keyword arguments.\n",
      "Positional arguments ['study_or_trial', 'file_path', 'artifact_store'] in upload_artifact() have been deprecated since v4.0.0. They will be replaced with the corresponding keyword arguments in v6.0.0, so please use the keyword specification instead. See https://github.com/optuna/optuna/releases/tag/v4.0.0 for details.\n",
      "\n",
      "/var/folders/tx/rstdr46s2ng5_qbbc6p67xv40000gn/T/ipykernel_48489/3809418348.py:101: FutureWarning:\n",
      "\n",
      "upload_artifact() got {'file_path', 'study_or_trial', 'artifact_store'} as positional arguments but they were expected to be given as keyword arguments.\n",
      "Positional arguments ['study_or_trial', 'file_path', 'artifact_store'] in upload_artifact() have been deprecated since v4.0.0. They will be replaced with the corresponding keyword arguments in v6.0.0, so please use the keyword specification instead. See https://github.com/optuna/optuna/releases/tag/v4.0.0 for details.\n",
      "\n",
      "[I 2025-07-26 12:11:50,328] Trial 41 finished with value: 0.3721402949940884 and parameters: {'lambda_l1': 0.004112796995356312, 'lambda_l2': 2.9210850305139993e-07, 'num_leaves': 139, 'feature_fraction': 0.5278251409186706, 'bagging_fraction': 0.7688991685919733, 'bagging_freq': 2, 'min_child_samples': 27, 'learning_rate': 0.044141566495620364}. Best is trial 26 with value: 0.3776140545054506.\n",
      "/var/folders/tx/rstdr46s2ng5_qbbc6p67xv40000gn/T/ipykernel_48489/3809418348.py:88: FutureWarning:\n",
      "\n",
      "upload_artifact() got {'file_path', 'study_or_trial', 'artifact_store'} as positional arguments but they were expected to be given as keyword arguments.\n",
      "Positional arguments ['study_or_trial', 'file_path', 'artifact_store'] in upload_artifact() have been deprecated since v4.0.0. They will be replaced with the corresponding keyword arguments in v6.0.0, so please use the keyword specification instead. See https://github.com/optuna/optuna/releases/tag/v4.0.0 for details.\n",
      "\n",
      "/var/folders/tx/rstdr46s2ng5_qbbc6p67xv40000gn/T/ipykernel_48489/3809418348.py:100: FutureWarning:\n",
      "\n",
      "upload_artifact() got {'file_path', 'study_or_trial', 'artifact_store'} as positional arguments but they were expected to be given as keyword arguments.\n",
      "Positional arguments ['study_or_trial', 'file_path', 'artifact_store'] in upload_artifact() have been deprecated since v4.0.0. They will be replaced with the corresponding keyword arguments in v6.0.0, so please use the keyword specification instead. See https://github.com/optuna/optuna/releases/tag/v4.0.0 for details.\n",
      "\n",
      "/var/folders/tx/rstdr46s2ng5_qbbc6p67xv40000gn/T/ipykernel_48489/3809418348.py:101: FutureWarning:\n",
      "\n",
      "upload_artifact() got {'file_path', 'study_or_trial', 'artifact_store'} as positional arguments but they were expected to be given as keyword arguments.\n",
      "Positional arguments ['study_or_trial', 'file_path', 'artifact_store'] in upload_artifact() have been deprecated since v4.0.0. They will be replaced with the corresponding keyword arguments in v6.0.0, so please use the keyword specification instead. See https://github.com/optuna/optuna/releases/tag/v4.0.0 for details.\n",
      "\n",
      "[I 2025-07-26 12:12:31,174] Trial 42 finished with value: 0.36533812175987923 and parameters: {'lambda_l1': 0.05252917087667748, 'lambda_l2': 0.003200777858937696, 'num_leaves': 166, 'feature_fraction': 0.5054683966289973, 'bagging_fraction': 0.9620642324451114, 'bagging_freq': 3, 'min_child_samples': 11, 'learning_rate': 0.03210059588692938}. Best is trial 26 with value: 0.3776140545054506.\n",
      "/var/folders/tx/rstdr46s2ng5_qbbc6p67xv40000gn/T/ipykernel_48489/3809418348.py:88: FutureWarning:\n",
      "\n",
      "upload_artifact() got {'file_path', 'study_or_trial', 'artifact_store'} as positional arguments but they were expected to be given as keyword arguments.\n",
      "Positional arguments ['study_or_trial', 'file_path', 'artifact_store'] in upload_artifact() have been deprecated since v4.0.0. They will be replaced with the corresponding keyword arguments in v6.0.0, so please use the keyword specification instead. See https://github.com/optuna/optuna/releases/tag/v4.0.0 for details.\n",
      "\n",
      "/var/folders/tx/rstdr46s2ng5_qbbc6p67xv40000gn/T/ipykernel_48489/3809418348.py:100: FutureWarning:\n",
      "\n",
      "upload_artifact() got {'file_path', 'study_or_trial', 'artifact_store'} as positional arguments but they were expected to be given as keyword arguments.\n",
      "Positional arguments ['study_or_trial', 'file_path', 'artifact_store'] in upload_artifact() have been deprecated since v4.0.0. They will be replaced with the corresponding keyword arguments in v6.0.0, so please use the keyword specification instead. See https://github.com/optuna/optuna/releases/tag/v4.0.0 for details.\n",
      "\n",
      "/var/folders/tx/rstdr46s2ng5_qbbc6p67xv40000gn/T/ipykernel_48489/3809418348.py:101: FutureWarning:\n",
      "\n",
      "upload_artifact() got {'file_path', 'study_or_trial', 'artifact_store'} as positional arguments but they were expected to be given as keyword arguments.\n",
      "Positional arguments ['study_or_trial', 'file_path', 'artifact_store'] in upload_artifact() have been deprecated since v4.0.0. They will be replaced with the corresponding keyword arguments in v6.0.0, so please use the keyword specification instead. See https://github.com/optuna/optuna/releases/tag/v4.0.0 for details.\n",
      "\n",
      "[I 2025-07-26 12:13:08,120] Trial 43 finished with value: 0.3634467847803152 and parameters: {'lambda_l1': 0.00040587865293267394, 'lambda_l2': 0.001017920671891423, 'num_leaves': 139, 'feature_fraction': 0.45343972117086856, 'bagging_fraction': 0.8715897550823113, 'bagging_freq': 2, 'min_child_samples': 18, 'learning_rate': 0.026924405471262985}. Best is trial 26 with value: 0.3776140545054506.\n",
      "/var/folders/tx/rstdr46s2ng5_qbbc6p67xv40000gn/T/ipykernel_48489/3809418348.py:88: FutureWarning:\n",
      "\n",
      "upload_artifact() got {'file_path', 'study_or_trial', 'artifact_store'} as positional arguments but they were expected to be given as keyword arguments.\n",
      "Positional arguments ['study_or_trial', 'file_path', 'artifact_store'] in upload_artifact() have been deprecated since v4.0.0. They will be replaced with the corresponding keyword arguments in v6.0.0, so please use the keyword specification instead. See https://github.com/optuna/optuna/releases/tag/v4.0.0 for details.\n",
      "\n",
      "/var/folders/tx/rstdr46s2ng5_qbbc6p67xv40000gn/T/ipykernel_48489/3809418348.py:100: FutureWarning:\n",
      "\n",
      "upload_artifact() got {'file_path', 'study_or_trial', 'artifact_store'} as positional arguments but they were expected to be given as keyword arguments.\n",
      "Positional arguments ['study_or_trial', 'file_path', 'artifact_store'] in upload_artifact() have been deprecated since v4.0.0. They will be replaced with the corresponding keyword arguments in v6.0.0, so please use the keyword specification instead. See https://github.com/optuna/optuna/releases/tag/v4.0.0 for details.\n",
      "\n",
      "/var/folders/tx/rstdr46s2ng5_qbbc6p67xv40000gn/T/ipykernel_48489/3809418348.py:101: FutureWarning:\n",
      "\n",
      "upload_artifact() got {'file_path', 'study_or_trial', 'artifact_store'} as positional arguments but they were expected to be given as keyword arguments.\n",
      "Positional arguments ['study_or_trial', 'file_path', 'artifact_store'] in upload_artifact() have been deprecated since v4.0.0. They will be replaced with the corresponding keyword arguments in v6.0.0, so please use the keyword specification instead. See https://github.com/optuna/optuna/releases/tag/v4.0.0 for details.\n",
      "\n",
      "[I 2025-07-26 12:13:57,076] Trial 44 finished with value: 0.36876681645868603 and parameters: {'lambda_l1': 0.001923085336108721, 'lambda_l2': 0.00012812804836309958, 'num_leaves': 151, 'feature_fraction': 0.5226681500954845, 'bagging_fraction': 0.9129775676742794, 'bagging_freq': 2, 'min_child_samples': 8, 'learning_rate': 0.019766317180178145}. Best is trial 26 with value: 0.3776140545054506.\n",
      "/var/folders/tx/rstdr46s2ng5_qbbc6p67xv40000gn/T/ipykernel_48489/3809418348.py:88: FutureWarning:\n",
      "\n",
      "upload_artifact() got {'file_path', 'study_or_trial', 'artifact_store'} as positional arguments but they were expected to be given as keyword arguments.\n",
      "Positional arguments ['study_or_trial', 'file_path', 'artifact_store'] in upload_artifact() have been deprecated since v4.0.0. They will be replaced with the corresponding keyword arguments in v6.0.0, so please use the keyword specification instead. See https://github.com/optuna/optuna/releases/tag/v4.0.0 for details.\n",
      "\n",
      "/var/folders/tx/rstdr46s2ng5_qbbc6p67xv40000gn/T/ipykernel_48489/3809418348.py:100: FutureWarning:\n",
      "\n",
      "upload_artifact() got {'file_path', 'study_or_trial', 'artifact_store'} as positional arguments but they were expected to be given as keyword arguments.\n",
      "Positional arguments ['study_or_trial', 'file_path', 'artifact_store'] in upload_artifact() have been deprecated since v4.0.0. They will be replaced with the corresponding keyword arguments in v6.0.0, so please use the keyword specification instead. See https://github.com/optuna/optuna/releases/tag/v4.0.0 for details.\n",
      "\n",
      "/var/folders/tx/rstdr46s2ng5_qbbc6p67xv40000gn/T/ipykernel_48489/3809418348.py:101: FutureWarning:\n",
      "\n",
      "upload_artifact() got {'file_path', 'study_or_trial', 'artifact_store'} as positional arguments but they were expected to be given as keyword arguments.\n",
      "Positional arguments ['study_or_trial', 'file_path', 'artifact_store'] in upload_artifact() have been deprecated since v4.0.0. They will be replaced with the corresponding keyword arguments in v6.0.0, so please use the keyword specification instead. See https://github.com/optuna/optuna/releases/tag/v4.0.0 for details.\n",
      "\n",
      "[I 2025-07-26 12:14:51,894] Trial 45 finished with value: 0.34145641520165826 and parameters: {'lambda_l1': 1.3346020895682624e-08, 'lambda_l2': 0.32668220280689914, 'num_leaves': 162, 'feature_fraction': 0.43187890995404415, 'bagging_fraction': 0.8519014566652714, 'bagging_freq': 3, 'min_child_samples': 16, 'learning_rate': 0.012630591796601129}. Best is trial 26 with value: 0.3776140545054506.\n",
      "/var/folders/tx/rstdr46s2ng5_qbbc6p67xv40000gn/T/ipykernel_48489/3809418348.py:88: FutureWarning:\n",
      "\n",
      "upload_artifact() got {'file_path', 'study_or_trial', 'artifact_store'} as positional arguments but they were expected to be given as keyword arguments.\n",
      "Positional arguments ['study_or_trial', 'file_path', 'artifact_store'] in upload_artifact() have been deprecated since v4.0.0. They will be replaced with the corresponding keyword arguments in v6.0.0, so please use the keyword specification instead. See https://github.com/optuna/optuna/releases/tag/v4.0.0 for details.\n",
      "\n",
      "/var/folders/tx/rstdr46s2ng5_qbbc6p67xv40000gn/T/ipykernel_48489/3809418348.py:100: FutureWarning:\n",
      "\n",
      "upload_artifact() got {'file_path', 'study_or_trial', 'artifact_store'} as positional arguments but they were expected to be given as keyword arguments.\n",
      "Positional arguments ['study_or_trial', 'file_path', 'artifact_store'] in upload_artifact() have been deprecated since v4.0.0. They will be replaced with the corresponding keyword arguments in v6.0.0, so please use the keyword specification instead. See https://github.com/optuna/optuna/releases/tag/v4.0.0 for details.\n",
      "\n",
      "/var/folders/tx/rstdr46s2ng5_qbbc6p67xv40000gn/T/ipykernel_48489/3809418348.py:101: FutureWarning:\n",
      "\n",
      "upload_artifact() got {'file_path', 'study_or_trial', 'artifact_store'} as positional arguments but they were expected to be given as keyword arguments.\n",
      "Positional arguments ['study_or_trial', 'file_path', 'artifact_store'] in upload_artifact() have been deprecated since v4.0.0. They will be replaced with the corresponding keyword arguments in v6.0.0, so please use the keyword specification instead. See https://github.com/optuna/optuna/releases/tag/v4.0.0 for details.\n",
      "\n",
      "[I 2025-07-26 12:15:21,819] Trial 46 finished with value: 0.3562740009788872 and parameters: {'lambda_l1': 1.3537047826658533e-05, 'lambda_l2': 9.992759786464702e-06, 'num_leaves': 179, 'feature_fraction': 0.47504623842448696, 'bagging_fraction': 0.6892475626798308, 'bagging_freq': 4, 'min_child_samples': 5, 'learning_rate': 0.060971853520688984}. Best is trial 26 with value: 0.3776140545054506.\n",
      "/var/folders/tx/rstdr46s2ng5_qbbc6p67xv40000gn/T/ipykernel_48489/3809418348.py:88: FutureWarning:\n",
      "\n",
      "upload_artifact() got {'file_path', 'study_or_trial', 'artifact_store'} as positional arguments but they were expected to be given as keyword arguments.\n",
      "Positional arguments ['study_or_trial', 'file_path', 'artifact_store'] in upload_artifact() have been deprecated since v4.0.0. They will be replaced with the corresponding keyword arguments in v6.0.0, so please use the keyword specification instead. See https://github.com/optuna/optuna/releases/tag/v4.0.0 for details.\n",
      "\n",
      "/var/folders/tx/rstdr46s2ng5_qbbc6p67xv40000gn/T/ipykernel_48489/3809418348.py:100: FutureWarning:\n",
      "\n",
      "upload_artifact() got {'file_path', 'study_or_trial', 'artifact_store'} as positional arguments but they were expected to be given as keyword arguments.\n",
      "Positional arguments ['study_or_trial', 'file_path', 'artifact_store'] in upload_artifact() have been deprecated since v4.0.0. They will be replaced with the corresponding keyword arguments in v6.0.0, so please use the keyword specification instead. See https://github.com/optuna/optuna/releases/tag/v4.0.0 for details.\n",
      "\n",
      "/var/folders/tx/rstdr46s2ng5_qbbc6p67xv40000gn/T/ipykernel_48489/3809418348.py:101: FutureWarning:\n",
      "\n",
      "upload_artifact() got {'file_path', 'study_or_trial', 'artifact_store'} as positional arguments but they were expected to be given as keyword arguments.\n",
      "Positional arguments ['study_or_trial', 'file_path', 'artifact_store'] in upload_artifact() have been deprecated since v4.0.0. They will be replaced with the corresponding keyword arguments in v6.0.0, so please use the keyword specification instead. See https://github.com/optuna/optuna/releases/tag/v4.0.0 for details.\n",
      "\n",
      "[I 2025-07-26 12:15:56,912] Trial 47 finished with value: 0.3692167883308134 and parameters: {'lambda_l1': 0.058208744609239145, 'lambda_l2': 7.464810090757215e-05, 'num_leaves': 136, 'feature_fraction': 0.5662047477188468, 'bagging_fraction': 0.9656904195306036, 'bagging_freq': 1, 'min_child_samples': 12, 'learning_rate': 0.038254442409027464}. Best is trial 26 with value: 0.3776140545054506.\n",
      "/var/folders/tx/rstdr46s2ng5_qbbc6p67xv40000gn/T/ipykernel_48489/3809418348.py:88: FutureWarning:\n",
      "\n",
      "upload_artifact() got {'file_path', 'study_or_trial', 'artifact_store'} as positional arguments but they were expected to be given as keyword arguments.\n",
      "Positional arguments ['study_or_trial', 'file_path', 'artifact_store'] in upload_artifact() have been deprecated since v4.0.0. They will be replaced with the corresponding keyword arguments in v6.0.0, so please use the keyword specification instead. See https://github.com/optuna/optuna/releases/tag/v4.0.0 for details.\n",
      "\n",
      "/var/folders/tx/rstdr46s2ng5_qbbc6p67xv40000gn/T/ipykernel_48489/3809418348.py:100: FutureWarning:\n",
      "\n",
      "upload_artifact() got {'file_path', 'study_or_trial', 'artifact_store'} as positional arguments but they were expected to be given as keyword arguments.\n",
      "Positional arguments ['study_or_trial', 'file_path', 'artifact_store'] in upload_artifact() have been deprecated since v4.0.0. They will be replaced with the corresponding keyword arguments in v6.0.0, so please use the keyword specification instead. See https://github.com/optuna/optuna/releases/tag/v4.0.0 for details.\n",
      "\n",
      "/var/folders/tx/rstdr46s2ng5_qbbc6p67xv40000gn/T/ipykernel_48489/3809418348.py:101: FutureWarning:\n",
      "\n",
      "upload_artifact() got {'file_path', 'study_or_trial', 'artifact_store'} as positional arguments but they were expected to be given as keyword arguments.\n",
      "Positional arguments ['study_or_trial', 'file_path', 'artifact_store'] in upload_artifact() have been deprecated since v4.0.0. They will be replaced with the corresponding keyword arguments in v6.0.0, so please use the keyword specification instead. See https://github.com/optuna/optuna/releases/tag/v4.0.0 for details.\n",
      "\n",
      "[I 2025-07-26 12:16:28,166] Trial 48 finished with value: 0.3581215353237437 and parameters: {'lambda_l1': 0.006926059081269695, 'lambda_l2': 7.690534265078297, 'num_leaves': 112, 'feature_fraction': 0.5548950011158125, 'bagging_fraction': 0.8107981336670336, 'bagging_freq': 4, 'min_child_samples': 21, 'learning_rate': 0.022189845938711962}. Best is trial 26 with value: 0.3776140545054506.\n",
      "/var/folders/tx/rstdr46s2ng5_qbbc6p67xv40000gn/T/ipykernel_48489/3809418348.py:88: FutureWarning:\n",
      "\n",
      "upload_artifact() got {'file_path', 'study_or_trial', 'artifact_store'} as positional arguments but they were expected to be given as keyword arguments.\n",
      "Positional arguments ['study_or_trial', 'file_path', 'artifact_store'] in upload_artifact() have been deprecated since v4.0.0. They will be replaced with the corresponding keyword arguments in v6.0.0, so please use the keyword specification instead. See https://github.com/optuna/optuna/releases/tag/v4.0.0 for details.\n",
      "\n",
      "/var/folders/tx/rstdr46s2ng5_qbbc6p67xv40000gn/T/ipykernel_48489/3809418348.py:100: FutureWarning:\n",
      "\n",
      "upload_artifact() got {'file_path', 'study_or_trial', 'artifact_store'} as positional arguments but they were expected to be given as keyword arguments.\n",
      "Positional arguments ['study_or_trial', 'file_path', 'artifact_store'] in upload_artifact() have been deprecated since v4.0.0. They will be replaced with the corresponding keyword arguments in v6.0.0, so please use the keyword specification instead. See https://github.com/optuna/optuna/releases/tag/v4.0.0 for details.\n",
      "\n",
      "/var/folders/tx/rstdr46s2ng5_qbbc6p67xv40000gn/T/ipykernel_48489/3809418348.py:101: FutureWarning:\n",
      "\n",
      "upload_artifact() got {'file_path', 'study_or_trial', 'artifact_store'} as positional arguments but they were expected to be given as keyword arguments.\n",
      "Positional arguments ['study_or_trial', 'file_path', 'artifact_store'] in upload_artifact() have been deprecated since v4.0.0. They will be replaced with the corresponding keyword arguments in v6.0.0, so please use the keyword specification instead. See https://github.com/optuna/optuna/releases/tag/v4.0.0 for details.\n",
      "\n",
      "[I 2025-07-26 12:17:02,697] Trial 49 finished with value: 0.3723362475485503 and parameters: {'lambda_l1': 0.000209871500366405, 'lambda_l2': 0.010575556575762151, 'num_leaves': 201, 'feature_fraction': 0.588423571518537, 'bagging_fraction': 0.6286768270519986, 'bagging_freq': 3, 'min_child_samples': 33, 'learning_rate': 0.02940199890579882}. Best is trial 26 with value: 0.3776140545054506.\n",
      "/var/folders/tx/rstdr46s2ng5_qbbc6p67xv40000gn/T/ipykernel_48489/3809418348.py:88: FutureWarning:\n",
      "\n",
      "upload_artifact() got {'file_path', 'study_or_trial', 'artifact_store'} as positional arguments but they were expected to be given as keyword arguments.\n",
      "Positional arguments ['study_or_trial', 'file_path', 'artifact_store'] in upload_artifact() have been deprecated since v4.0.0. They will be replaced with the corresponding keyword arguments in v6.0.0, so please use the keyword specification instead. See https://github.com/optuna/optuna/releases/tag/v4.0.0 for details.\n",
      "\n",
      "/var/folders/tx/rstdr46s2ng5_qbbc6p67xv40000gn/T/ipykernel_48489/3809418348.py:100: FutureWarning:\n",
      "\n",
      "upload_artifact() got {'file_path', 'study_or_trial', 'artifact_store'} as positional arguments but they were expected to be given as keyword arguments.\n",
      "Positional arguments ['study_or_trial', 'file_path', 'artifact_store'] in upload_artifact() have been deprecated since v4.0.0. They will be replaced with the corresponding keyword arguments in v6.0.0, so please use the keyword specification instead. See https://github.com/optuna/optuna/releases/tag/v4.0.0 for details.\n",
      "\n",
      "/var/folders/tx/rstdr46s2ng5_qbbc6p67xv40000gn/T/ipykernel_48489/3809418348.py:101: FutureWarning:\n",
      "\n",
      "upload_artifact() got {'file_path', 'study_or_trial', 'artifact_store'} as positional arguments but they were expected to be given as keyword arguments.\n",
      "Positional arguments ['study_or_trial', 'file_path', 'artifact_store'] in upload_artifact() have been deprecated since v4.0.0. They will be replaced with the corresponding keyword arguments in v6.0.0, so please use the keyword specification instead. See https://github.com/optuna/optuna/releases/tag/v4.0.0 for details.\n",
      "\n",
      "[I 2025-07-26 12:17:27,772] Trial 50 finished with value: 0.37022138037173363 and parameters: {'lambda_l1': 0.0014664155581453262, 'lambda_l2': 2.007193995219813e-08, 'num_leaves': 78, 'feature_fraction': 0.4790576960788293, 'bagging_fraction': 0.7647471404592037, 'bagging_freq': 2, 'min_child_samples': 10, 'learning_rate': 0.04039595671386044}. Best is trial 26 with value: 0.3776140545054506.\n",
      "/var/folders/tx/rstdr46s2ng5_qbbc6p67xv40000gn/T/ipykernel_48489/3809418348.py:88: FutureWarning:\n",
      "\n",
      "upload_artifact() got {'file_path', 'study_or_trial', 'artifact_store'} as positional arguments but they were expected to be given as keyword arguments.\n",
      "Positional arguments ['study_or_trial', 'file_path', 'artifact_store'] in upload_artifact() have been deprecated since v4.0.0. They will be replaced with the corresponding keyword arguments in v6.0.0, so please use the keyword specification instead. See https://github.com/optuna/optuna/releases/tag/v4.0.0 for details.\n",
      "\n",
      "/var/folders/tx/rstdr46s2ng5_qbbc6p67xv40000gn/T/ipykernel_48489/3809418348.py:100: FutureWarning:\n",
      "\n",
      "upload_artifact() got {'file_path', 'study_or_trial', 'artifact_store'} as positional arguments but they were expected to be given as keyword arguments.\n",
      "Positional arguments ['study_or_trial', 'file_path', 'artifact_store'] in upload_artifact() have been deprecated since v4.0.0. They will be replaced with the corresponding keyword arguments in v6.0.0, so please use the keyword specification instead. See https://github.com/optuna/optuna/releases/tag/v4.0.0 for details.\n",
      "\n",
      "/var/folders/tx/rstdr46s2ng5_qbbc6p67xv40000gn/T/ipykernel_48489/3809418348.py:101: FutureWarning:\n",
      "\n",
      "upload_artifact() got {'file_path', 'study_or_trial', 'artifact_store'} as positional arguments but they were expected to be given as keyword arguments.\n",
      "Positional arguments ['study_or_trial', 'file_path', 'artifact_store'] in upload_artifact() have been deprecated since v4.0.0. They will be replaced with the corresponding keyword arguments in v6.0.0, so please use the keyword specification instead. See https://github.com/optuna/optuna/releases/tag/v4.0.0 for details.\n",
      "\n",
      "[I 2025-07-26 12:17:48,017] Trial 51 finished with value: 0.352335237183907 and parameters: {'lambda_l1': 1.3305903388276925, 'lambda_l2': 4.342341869559532e-06, 'num_leaves': 96, 'feature_fraction': 0.6280902135272324, 'bagging_fraction': 0.4118417166152059, 'bagging_freq': 2, 'min_child_samples': 26, 'learning_rate': 0.024152681607694397}. Best is trial 26 with value: 0.3776140545054506.\n",
      "/var/folders/tx/rstdr46s2ng5_qbbc6p67xv40000gn/T/ipykernel_48489/3809418348.py:88: FutureWarning:\n",
      "\n",
      "upload_artifact() got {'file_path', 'study_or_trial', 'artifact_store'} as positional arguments but they were expected to be given as keyword arguments.\n",
      "Positional arguments ['study_or_trial', 'file_path', 'artifact_store'] in upload_artifact() have been deprecated since v4.0.0. They will be replaced with the corresponding keyword arguments in v6.0.0, so please use the keyword specification instead. See https://github.com/optuna/optuna/releases/tag/v4.0.0 for details.\n",
      "\n",
      "/var/folders/tx/rstdr46s2ng5_qbbc6p67xv40000gn/T/ipykernel_48489/3809418348.py:100: FutureWarning:\n",
      "\n",
      "upload_artifact() got {'file_path', 'study_or_trial', 'artifact_store'} as positional arguments but they were expected to be given as keyword arguments.\n",
      "Positional arguments ['study_or_trial', 'file_path', 'artifact_store'] in upload_artifact() have been deprecated since v4.0.0. They will be replaced with the corresponding keyword arguments in v6.0.0, so please use the keyword specification instead. See https://github.com/optuna/optuna/releases/tag/v4.0.0 for details.\n",
      "\n",
      "/var/folders/tx/rstdr46s2ng5_qbbc6p67xv40000gn/T/ipykernel_48489/3809418348.py:101: FutureWarning:\n",
      "\n",
      "upload_artifact() got {'file_path', 'study_or_trial', 'artifact_store'} as positional arguments but they were expected to be given as keyword arguments.\n",
      "Positional arguments ['study_or_trial', 'file_path', 'artifact_store'] in upload_artifact() have been deprecated since v4.0.0. They will be replaced with the corresponding keyword arguments in v6.0.0, so please use the keyword specification instead. See https://github.com/optuna/optuna/releases/tag/v4.0.0 for details.\n",
      "\n",
      "[I 2025-07-26 12:18:16,276] Trial 52 finished with value: 0.3674850134027362 and parameters: {'lambda_l1': 0.00022997915921133623, 'lambda_l2': 0.010644896746701837, 'num_leaves': 201, 'feature_fraction': 0.5803840466155125, 'bagging_fraction': 0.5640871626896523, 'bagging_freq': 3, 'min_child_samples': 32, 'learning_rate': 0.028991234876858188}. Best is trial 26 with value: 0.3776140545054506.\n",
      "/var/folders/tx/rstdr46s2ng5_qbbc6p67xv40000gn/T/ipykernel_48489/3809418348.py:88: FutureWarning:\n",
      "\n",
      "upload_artifact() got {'file_path', 'study_or_trial', 'artifact_store'} as positional arguments but they were expected to be given as keyword arguments.\n",
      "Positional arguments ['study_or_trial', 'file_path', 'artifact_store'] in upload_artifact() have been deprecated since v4.0.0. They will be replaced with the corresponding keyword arguments in v6.0.0, so please use the keyword specification instead. See https://github.com/optuna/optuna/releases/tag/v4.0.0 for details.\n",
      "\n",
      "/var/folders/tx/rstdr46s2ng5_qbbc6p67xv40000gn/T/ipykernel_48489/3809418348.py:100: FutureWarning:\n",
      "\n",
      "upload_artifact() got {'file_path', 'study_or_trial', 'artifact_store'} as positional arguments but they were expected to be given as keyword arguments.\n",
      "Positional arguments ['study_or_trial', 'file_path', 'artifact_store'] in upload_artifact() have been deprecated since v4.0.0. They will be replaced with the corresponding keyword arguments in v6.0.0, so please use the keyword specification instead. See https://github.com/optuna/optuna/releases/tag/v4.0.0 for details.\n",
      "\n",
      "/var/folders/tx/rstdr46s2ng5_qbbc6p67xv40000gn/T/ipykernel_48489/3809418348.py:101: FutureWarning:\n",
      "\n",
      "upload_artifact() got {'file_path', 'study_or_trial', 'artifact_store'} as positional arguments but they were expected to be given as keyword arguments.\n",
      "Positional arguments ['study_or_trial', 'file_path', 'artifact_store'] in upload_artifact() have been deprecated since v4.0.0. They will be replaced with the corresponding keyword arguments in v6.0.0, so please use the keyword specification instead. See https://github.com/optuna/optuna/releases/tag/v4.0.0 for details.\n",
      "\n",
      "[I 2025-07-26 12:18:36,520] Trial 53 finished with value: 0.35917745166575277 and parameters: {'lambda_l1': 1.976431920928629e-06, 'lambda_l2': 2.3924510143604243, 'num_leaves': 233, 'feature_fraction': 0.5452099393516354, 'bagging_fraction': 0.6207934446714265, 'bagging_freq': 3, 'min_child_samples': 53, 'learning_rate': 0.03440276586107877}. Best is trial 26 with value: 0.3776140545054506.\n",
      "/var/folders/tx/rstdr46s2ng5_qbbc6p67xv40000gn/T/ipykernel_48489/3809418348.py:88: FutureWarning:\n",
      "\n",
      "upload_artifact() got {'file_path', 'study_or_trial', 'artifact_store'} as positional arguments but they were expected to be given as keyword arguments.\n",
      "Positional arguments ['study_or_trial', 'file_path', 'artifact_store'] in upload_artifact() have been deprecated since v4.0.0. They will be replaced with the corresponding keyword arguments in v6.0.0, so please use the keyword specification instead. See https://github.com/optuna/optuna/releases/tag/v4.0.0 for details.\n",
      "\n",
      "/var/folders/tx/rstdr46s2ng5_qbbc6p67xv40000gn/T/ipykernel_48489/3809418348.py:100: FutureWarning:\n",
      "\n",
      "upload_artifact() got {'file_path', 'study_or_trial', 'artifact_store'} as positional arguments but they were expected to be given as keyword arguments.\n",
      "Positional arguments ['study_or_trial', 'file_path', 'artifact_store'] in upload_artifact() have been deprecated since v4.0.0. They will be replaced with the corresponding keyword arguments in v6.0.0, so please use the keyword specification instead. See https://github.com/optuna/optuna/releases/tag/v4.0.0 for details.\n",
      "\n",
      "/var/folders/tx/rstdr46s2ng5_qbbc6p67xv40000gn/T/ipykernel_48489/3809418348.py:101: FutureWarning:\n",
      "\n",
      "upload_artifact() got {'file_path', 'study_or_trial', 'artifact_store'} as positional arguments but they were expected to be given as keyword arguments.\n",
      "Positional arguments ['study_or_trial', 'file_path', 'artifact_store'] in upload_artifact() have been deprecated since v4.0.0. They will be replaced with the corresponding keyword arguments in v6.0.0, so please use the keyword specification instead. See https://github.com/optuna/optuna/releases/tag/v4.0.0 for details.\n",
      "\n",
      "[I 2025-07-26 12:19:06,431] Trial 54 finished with value: 0.361958745776358 and parameters: {'lambda_l1': 0.004334396660579915, 'lambda_l2': 0.10513049499069153, 'num_leaves': 212, 'feature_fraction': 0.5146158337103344, 'bagging_fraction': 0.6341183904889275, 'bagging_freq': 4, 'min_child_samples': 42, 'learning_rate': 0.018234890988719974}. Best is trial 26 with value: 0.3776140545054506.\n",
      "/var/folders/tx/rstdr46s2ng5_qbbc6p67xv40000gn/T/ipykernel_48489/3809418348.py:88: FutureWarning:\n",
      "\n",
      "upload_artifact() got {'file_path', 'study_or_trial', 'artifact_store'} as positional arguments but they were expected to be given as keyword arguments.\n",
      "Positional arguments ['study_or_trial', 'file_path', 'artifact_store'] in upload_artifact() have been deprecated since v4.0.0. They will be replaced with the corresponding keyword arguments in v6.0.0, so please use the keyword specification instead. See https://github.com/optuna/optuna/releases/tag/v4.0.0 for details.\n",
      "\n",
      "/var/folders/tx/rstdr46s2ng5_qbbc6p67xv40000gn/T/ipykernel_48489/3809418348.py:100: FutureWarning:\n",
      "\n",
      "upload_artifact() got {'file_path', 'study_or_trial', 'artifact_store'} as positional arguments but they were expected to be given as keyword arguments.\n",
      "Positional arguments ['study_or_trial', 'file_path', 'artifact_store'] in upload_artifact() have been deprecated since v4.0.0. They will be replaced with the corresponding keyword arguments in v6.0.0, so please use the keyword specification instead. See https://github.com/optuna/optuna/releases/tag/v4.0.0 for details.\n",
      "\n",
      "/var/folders/tx/rstdr46s2ng5_qbbc6p67xv40000gn/T/ipykernel_48489/3809418348.py:101: FutureWarning:\n",
      "\n",
      "upload_artifact() got {'file_path', 'study_or_trial', 'artifact_store'} as positional arguments but they were expected to be given as keyword arguments.\n",
      "Positional arguments ['study_or_trial', 'file_path', 'artifact_store'] in upload_artifact() have been deprecated since v4.0.0. They will be replaced with the corresponding keyword arguments in v6.0.0, so please use the keyword specification instead. See https://github.com/optuna/optuna/releases/tag/v4.0.0 for details.\n",
      "\n",
      "[I 2025-07-26 12:19:33,959] Trial 55 finished with value: 0.36542940718324374 and parameters: {'lambda_l1': 0.0005291947327420072, 'lambda_l2': 0.0006580502948275104, 'num_leaves': 188, 'feature_fraction': 0.5826875170878413, 'bagging_fraction': 0.5864946868434734, 'bagging_freq': 6, 'min_child_samples': 18, 'learning_rate': 0.046504047226368146}. Best is trial 26 with value: 0.3776140545054506.\n",
      "/var/folders/tx/rstdr46s2ng5_qbbc6p67xv40000gn/T/ipykernel_48489/3809418348.py:88: FutureWarning:\n",
      "\n",
      "upload_artifact() got {'file_path', 'study_or_trial', 'artifact_store'} as positional arguments but they were expected to be given as keyword arguments.\n",
      "Positional arguments ['study_or_trial', 'file_path', 'artifact_store'] in upload_artifact() have been deprecated since v4.0.0. They will be replaced with the corresponding keyword arguments in v6.0.0, so please use the keyword specification instead. See https://github.com/optuna/optuna/releases/tag/v4.0.0 for details.\n",
      "\n",
      "/var/folders/tx/rstdr46s2ng5_qbbc6p67xv40000gn/T/ipykernel_48489/3809418348.py:100: FutureWarning:\n",
      "\n",
      "upload_artifact() got {'file_path', 'study_or_trial', 'artifact_store'} as positional arguments but they were expected to be given as keyword arguments.\n",
      "Positional arguments ['study_or_trial', 'file_path', 'artifact_store'] in upload_artifact() have been deprecated since v4.0.0. They will be replaced with the corresponding keyword arguments in v6.0.0, so please use the keyword specification instead. See https://github.com/optuna/optuna/releases/tag/v4.0.0 for details.\n",
      "\n",
      "/var/folders/tx/rstdr46s2ng5_qbbc6p67xv40000gn/T/ipykernel_48489/3809418348.py:101: FutureWarning:\n",
      "\n",
      "upload_artifact() got {'file_path', 'study_or_trial', 'artifact_store'} as positional arguments but they were expected to be given as keyword arguments.\n",
      "Positional arguments ['study_or_trial', 'file_path', 'artifact_store'] in upload_artifact() have been deprecated since v4.0.0. They will be replaced with the corresponding keyword arguments in v6.0.0, so please use the keyword specification instead. See https://github.com/optuna/optuna/releases/tag/v4.0.0 for details.\n",
      "\n",
      "[I 2025-07-26 12:19:58,466] Trial 56 finished with value: 0.36767389212046264 and parameters: {'lambda_l1': 0.00012524926402115994, 'lambda_l2': 0.004380726475401885, 'num_leaves': 147, 'feature_fraction': 0.6411081819564289, 'bagging_fraction': 0.5189038563311157, 'bagging_freq': 1, 'min_child_samples': 36, 'learning_rate': 0.02770521431876427}. Best is trial 26 with value: 0.3776140545054506.\n",
      "/var/folders/tx/rstdr46s2ng5_qbbc6p67xv40000gn/T/ipykernel_48489/3809418348.py:88: FutureWarning:\n",
      "\n",
      "upload_artifact() got {'file_path', 'study_or_trial', 'artifact_store'} as positional arguments but they were expected to be given as keyword arguments.\n",
      "Positional arguments ['study_or_trial', 'file_path', 'artifact_store'] in upload_artifact() have been deprecated since v4.0.0. They will be replaced with the corresponding keyword arguments in v6.0.0, so please use the keyword specification instead. See https://github.com/optuna/optuna/releases/tag/v4.0.0 for details.\n",
      "\n",
      "/Users/noeliarey/Library/Caches/pypoetry/virtualenvs/codigo-5eSLDjlw-py3.12/lib/python3.12/site-packages/lightgbm/plotting.py:137: RuntimeWarning:\n",
      "\n",
      "More than 20 figures have been opened. Figures created through the pyplot interface (`matplotlib.pyplot.figure`) are retained until explicitly closed and may consume too much memory. (To control this warning, see the rcParam `figure.max_open_warning`). Consider using `matplotlib.pyplot.close()`.\n",
      "\n",
      "/var/folders/tx/rstdr46s2ng5_qbbc6p67xv40000gn/T/ipykernel_48489/3809418348.py:100: FutureWarning:\n",
      "\n",
      "upload_artifact() got {'file_path', 'study_or_trial', 'artifact_store'} as positional arguments but they were expected to be given as keyword arguments.\n",
      "Positional arguments ['study_or_trial', 'file_path', 'artifact_store'] in upload_artifact() have been deprecated since v4.0.0. They will be replaced with the corresponding keyword arguments in v6.0.0, so please use the keyword specification instead. See https://github.com/optuna/optuna/releases/tag/v4.0.0 for details.\n",
      "\n",
      "/var/folders/tx/rstdr46s2ng5_qbbc6p67xv40000gn/T/ipykernel_48489/3809418348.py:101: FutureWarning:\n",
      "\n",
      "upload_artifact() got {'file_path', 'study_or_trial', 'artifact_store'} as positional arguments but they were expected to be given as keyword arguments.\n",
      "Positional arguments ['study_or_trial', 'file_path', 'artifact_store'] in upload_artifact() have been deprecated since v4.0.0. They will be replaced with the corresponding keyword arguments in v6.0.0, so please use the keyword specification instead. See https://github.com/optuna/optuna/releases/tag/v4.0.0 for details.\n",
      "\n",
      "[I 2025-07-26 12:20:45,871] Trial 57 finished with value: 0.36523414997962217 and parameters: {'lambda_l1': 0.14294031981479624, 'lambda_l2': 0.08184354672892137, 'num_leaves': 172, 'feature_fraction': 0.6910025322360721, 'bagging_fraction': 0.8835537529179887, 'bagging_freq': 3, 'min_child_samples': 8, 'learning_rate': 0.021533199070847362}. Best is trial 26 with value: 0.3776140545054506.\n",
      "/var/folders/tx/rstdr46s2ng5_qbbc6p67xv40000gn/T/ipykernel_48489/3809418348.py:88: FutureWarning:\n",
      "\n",
      "upload_artifact() got {'file_path', 'study_or_trial', 'artifact_store'} as positional arguments but they were expected to be given as keyword arguments.\n",
      "Positional arguments ['study_or_trial', 'file_path', 'artifact_store'] in upload_artifact() have been deprecated since v4.0.0. They will be replaced with the corresponding keyword arguments in v6.0.0, so please use the keyword specification instead. See https://github.com/optuna/optuna/releases/tag/v4.0.0 for details.\n",
      "\n",
      "/var/folders/tx/rstdr46s2ng5_qbbc6p67xv40000gn/T/ipykernel_48489/3809418348.py:100: FutureWarning:\n",
      "\n",
      "upload_artifact() got {'file_path', 'study_or_trial', 'artifact_store'} as positional arguments but they were expected to be given as keyword arguments.\n",
      "Positional arguments ['study_or_trial', 'file_path', 'artifact_store'] in upload_artifact() have been deprecated since v4.0.0. They will be replaced with the corresponding keyword arguments in v6.0.0, so please use the keyword specification instead. See https://github.com/optuna/optuna/releases/tag/v4.0.0 for details.\n",
      "\n",
      "/var/folders/tx/rstdr46s2ng5_qbbc6p67xv40000gn/T/ipykernel_48489/3809418348.py:101: FutureWarning:\n",
      "\n",
      "upload_artifact() got {'file_path', 'study_or_trial', 'artifact_store'} as positional arguments but they were expected to be given as keyword arguments.\n",
      "Positional arguments ['study_or_trial', 'file_path', 'artifact_store'] in upload_artifact() have been deprecated since v4.0.0. They will be replaced with the corresponding keyword arguments in v6.0.0, so please use the keyword specification instead. See https://github.com/optuna/optuna/releases/tag/v4.0.0 for details.\n",
      "\n",
      "[I 2025-07-26 12:21:22,389] Trial 58 finished with value: 0.364535383699748 and parameters: {'lambda_l1': 0.014342509031858184, 'lambda_l2': 5.772416448472676e-05, 'num_leaves': 132, 'feature_fraction': 0.4416185751590007, 'bagging_fraction': 0.7170905467262639, 'bagging_freq': 2, 'min_child_samples': 22, 'learning_rate': 0.03362300440945797}. Best is trial 26 with value: 0.3776140545054506.\n",
      "/var/folders/tx/rstdr46s2ng5_qbbc6p67xv40000gn/T/ipykernel_48489/3809418348.py:88: FutureWarning:\n",
      "\n",
      "upload_artifact() got {'file_path', 'study_or_trial', 'artifact_store'} as positional arguments but they were expected to be given as keyword arguments.\n",
      "Positional arguments ['study_or_trial', 'file_path', 'artifact_store'] in upload_artifact() have been deprecated since v4.0.0. They will be replaced with the corresponding keyword arguments in v6.0.0, so please use the keyword specification instead. See https://github.com/optuna/optuna/releases/tag/v4.0.0 for details.\n",
      "\n",
      "/var/folders/tx/rstdr46s2ng5_qbbc6p67xv40000gn/T/ipykernel_48489/3809418348.py:100: FutureWarning:\n",
      "\n",
      "upload_artifact() got {'file_path', 'study_or_trial', 'artifact_store'} as positional arguments but they were expected to be given as keyword arguments.\n",
      "Positional arguments ['study_or_trial', 'file_path', 'artifact_store'] in upload_artifact() have been deprecated since v4.0.0. They will be replaced with the corresponding keyword arguments in v6.0.0, so please use the keyword specification instead. See https://github.com/optuna/optuna/releases/tag/v4.0.0 for details.\n",
      "\n",
      "/var/folders/tx/rstdr46s2ng5_qbbc6p67xv40000gn/T/ipykernel_48489/3809418348.py:101: FutureWarning:\n",
      "\n",
      "upload_artifact() got {'file_path', 'study_or_trial', 'artifact_store'} as positional arguments but they were expected to be given as keyword arguments.\n",
      "Positional arguments ['study_or_trial', 'file_path', 'artifact_store'] in upload_artifact() have been deprecated since v4.0.0. They will be replaced with the corresponding keyword arguments in v6.0.0, so please use the keyword specification instead. See https://github.com/optuna/optuna/releases/tag/v4.0.0 for details.\n",
      "\n",
      "[I 2025-07-26 12:21:32,560] Trial 59 finished with value: 0.3713857793913125 and parameters: {'lambda_l1': 0.03558254915756717, 'lambda_l2': 1.6551947082001126e-05, 'num_leaves': 35, 'feature_fraction': 0.6016457318445887, 'bagging_fraction': 0.4993033837078999, 'bagging_freq': 1, 'min_child_samples': 30, 'learning_rate': 0.08713238102441384}. Best is trial 26 with value: 0.3776140545054506.\n",
      "/var/folders/tx/rstdr46s2ng5_qbbc6p67xv40000gn/T/ipykernel_48489/3809418348.py:88: FutureWarning:\n",
      "\n",
      "upload_artifact() got {'file_path', 'study_or_trial', 'artifact_store'} as positional arguments but they were expected to be given as keyword arguments.\n",
      "Positional arguments ['study_or_trial', 'file_path', 'artifact_store'] in upload_artifact() have been deprecated since v4.0.0. They will be replaced with the corresponding keyword arguments in v6.0.0, so please use the keyword specification instead. See https://github.com/optuna/optuna/releases/tag/v4.0.0 for details.\n",
      "\n",
      "/var/folders/tx/rstdr46s2ng5_qbbc6p67xv40000gn/T/ipykernel_48489/3809418348.py:100: FutureWarning:\n",
      "\n",
      "upload_artifact() got {'file_path', 'study_or_trial', 'artifact_store'} as positional arguments but they were expected to be given as keyword arguments.\n",
      "Positional arguments ['study_or_trial', 'file_path', 'artifact_store'] in upload_artifact() have been deprecated since v4.0.0. They will be replaced with the corresponding keyword arguments in v6.0.0, so please use the keyword specification instead. See https://github.com/optuna/optuna/releases/tag/v4.0.0 for details.\n",
      "\n",
      "/var/folders/tx/rstdr46s2ng5_qbbc6p67xv40000gn/T/ipykernel_48489/3809418348.py:101: FutureWarning:\n",
      "\n",
      "upload_artifact() got {'file_path', 'study_or_trial', 'artifact_store'} as positional arguments but they were expected to be given as keyword arguments.\n",
      "Positional arguments ['study_or_trial', 'file_path', 'artifact_store'] in upload_artifact() have been deprecated since v4.0.0. They will be replaced with the corresponding keyword arguments in v6.0.0, so please use the keyword specification instead. See https://github.com/optuna/optuna/releases/tag/v4.0.0 for details.\n",
      "\n",
      "[I 2025-07-26 12:22:02,716] Trial 60 finished with value: 0.36830115180964496 and parameters: {'lambda_l1': 4.098376978140469e-05, 'lambda_l2': 0.0016001616215412912, 'num_leaves': 119, 'feature_fraction': 0.5482908691937971, 'bagging_fraction': 0.658327220611212, 'bagging_freq': 5, 'min_child_samples': 16, 'learning_rate': 0.025287641701282292}. Best is trial 26 with value: 0.3776140545054506.\n",
      "/var/folders/tx/rstdr46s2ng5_qbbc6p67xv40000gn/T/ipykernel_48489/3809418348.py:88: FutureWarning:\n",
      "\n",
      "upload_artifact() got {'file_path', 'study_or_trial', 'artifact_store'} as positional arguments but they were expected to be given as keyword arguments.\n",
      "Positional arguments ['study_or_trial', 'file_path', 'artifact_store'] in upload_artifact() have been deprecated since v4.0.0. They will be replaced with the corresponding keyword arguments in v6.0.0, so please use the keyword specification instead. See https://github.com/optuna/optuna/releases/tag/v4.0.0 for details.\n",
      "\n",
      "/var/folders/tx/rstdr46s2ng5_qbbc6p67xv40000gn/T/ipykernel_48489/3809418348.py:100: FutureWarning:\n",
      "\n",
      "upload_artifact() got {'file_path', 'study_or_trial', 'artifact_store'} as positional arguments but they were expected to be given as keyword arguments.\n",
      "Positional arguments ['study_or_trial', 'file_path', 'artifact_store'] in upload_artifact() have been deprecated since v4.0.0. They will be replaced with the corresponding keyword arguments in v6.0.0, so please use the keyword specification instead. See https://github.com/optuna/optuna/releases/tag/v4.0.0 for details.\n",
      "\n",
      "/var/folders/tx/rstdr46s2ng5_qbbc6p67xv40000gn/T/ipykernel_48489/3809418348.py:101: FutureWarning:\n",
      "\n",
      "upload_artifact() got {'file_path', 'study_or_trial', 'artifact_store'} as positional arguments but they were expected to be given as keyword arguments.\n",
      "Positional arguments ['study_or_trial', 'file_path', 'artifact_store'] in upload_artifact() have been deprecated since v4.0.0. They will be replaced with the corresponding keyword arguments in v6.0.0, so please use the keyword specification instead. See https://github.com/optuna/optuna/releases/tag/v4.0.0 for details.\n",
      "\n",
      "[I 2025-07-26 12:22:46,324] Trial 61 finished with value: 0.3512140359879824 and parameters: {'lambda_l1': 8.370097617650442e-07, 'lambda_l2': 0.0004787288519694942, 'num_leaves': 222, 'feature_fraction': 0.9219505394793536, 'bagging_fraction': 0.9202508846372602, 'bagging_freq': 3, 'min_child_samples': 9, 'learning_rate': 0.014351713970043641}. Best is trial 26 with value: 0.3776140545054506.\n",
      "/var/folders/tx/rstdr46s2ng5_qbbc6p67xv40000gn/T/ipykernel_48489/3809418348.py:88: FutureWarning:\n",
      "\n",
      "upload_artifact() got {'file_path', 'study_or_trial', 'artifact_store'} as positional arguments but they were expected to be given as keyword arguments.\n",
      "Positional arguments ['study_or_trial', 'file_path', 'artifact_store'] in upload_artifact() have been deprecated since v4.0.0. They will be replaced with the corresponding keyword arguments in v6.0.0, so please use the keyword specification instead. See https://github.com/optuna/optuna/releases/tag/v4.0.0 for details.\n",
      "\n",
      "/var/folders/tx/rstdr46s2ng5_qbbc6p67xv40000gn/T/ipykernel_48489/3809418348.py:100: FutureWarning:\n",
      "\n",
      "upload_artifact() got {'file_path', 'study_or_trial', 'artifact_store'} as positional arguments but they were expected to be given as keyword arguments.\n",
      "Positional arguments ['study_or_trial', 'file_path', 'artifact_store'] in upload_artifact() have been deprecated since v4.0.0. They will be replaced with the corresponding keyword arguments in v6.0.0, so please use the keyword specification instead. See https://github.com/optuna/optuna/releases/tag/v4.0.0 for details.\n",
      "\n",
      "/var/folders/tx/rstdr46s2ng5_qbbc6p67xv40000gn/T/ipykernel_48489/3809418348.py:101: FutureWarning:\n",
      "\n",
      "upload_artifact() got {'file_path', 'study_or_trial', 'artifact_store'} as positional arguments but they were expected to be given as keyword arguments.\n",
      "Positional arguments ['study_or_trial', 'file_path', 'artifact_store'] in upload_artifact() have been deprecated since v4.0.0. They will be replaced with the corresponding keyword arguments in v6.0.0, so please use the keyword specification instead. See https://github.com/optuna/optuna/releases/tag/v4.0.0 for details.\n",
      "\n",
      "[I 2025-07-26 12:23:15,175] Trial 62 finished with value: 0.3757109863049618 and parameters: {'lambda_l1': 0.0026671504716640824, 'lambda_l2': 2.325325799148024e-07, 'num_leaves': 144, 'feature_fraction': 0.52210012306672, 'bagging_fraction': 0.7790491612467574, 'bagging_freq': 2, 'min_child_samples': 28, 'learning_rate': 0.04475952924262165}. Best is trial 26 with value: 0.3776140545054506.\n",
      "/var/folders/tx/rstdr46s2ng5_qbbc6p67xv40000gn/T/ipykernel_48489/3809418348.py:88: FutureWarning:\n",
      "\n",
      "upload_artifact() got {'file_path', 'study_or_trial', 'artifact_store'} as positional arguments but they were expected to be given as keyword arguments.\n",
      "Positional arguments ['study_or_trial', 'file_path', 'artifact_store'] in upload_artifact() have been deprecated since v4.0.0. They will be replaced with the corresponding keyword arguments in v6.0.0, so please use the keyword specification instead. See https://github.com/optuna/optuna/releases/tag/v4.0.0 for details.\n",
      "\n",
      "/var/folders/tx/rstdr46s2ng5_qbbc6p67xv40000gn/T/ipykernel_48489/3809418348.py:100: FutureWarning:\n",
      "\n",
      "upload_artifact() got {'file_path', 'study_or_trial', 'artifact_store'} as positional arguments but they were expected to be given as keyword arguments.\n",
      "Positional arguments ['study_or_trial', 'file_path', 'artifact_store'] in upload_artifact() have been deprecated since v4.0.0. They will be replaced with the corresponding keyword arguments in v6.0.0, so please use the keyword specification instead. See https://github.com/optuna/optuna/releases/tag/v4.0.0 for details.\n",
      "\n",
      "/var/folders/tx/rstdr46s2ng5_qbbc6p67xv40000gn/T/ipykernel_48489/3809418348.py:101: FutureWarning:\n",
      "\n",
      "upload_artifact() got {'file_path', 'study_or_trial', 'artifact_store'} as positional arguments but they were expected to be given as keyword arguments.\n",
      "Positional arguments ['study_or_trial', 'file_path', 'artifact_store'] in upload_artifact() have been deprecated since v4.0.0. They will be replaced with the corresponding keyword arguments in v6.0.0, so please use the keyword specification instead. See https://github.com/optuna/optuna/releases/tag/v4.0.0 for details.\n",
      "\n",
      "[I 2025-07-26 12:23:42,737] Trial 63 finished with value: 0.37482710897232896 and parameters: {'lambda_l1': 0.009607180972356072, 'lambda_l2': 1.6344196966954758e-07, 'num_leaves': 143, 'feature_fraction': 0.4867819628498043, 'bagging_fraction': 0.8397385913088238, 'bagging_freq': 2, 'min_child_samples': 46, 'learning_rate': 0.049566089292083455}. Best is trial 26 with value: 0.3776140545054506.\n",
      "/var/folders/tx/rstdr46s2ng5_qbbc6p67xv40000gn/T/ipykernel_48489/3809418348.py:88: FutureWarning:\n",
      "\n",
      "upload_artifact() got {'file_path', 'study_or_trial', 'artifact_store'} as positional arguments but they were expected to be given as keyword arguments.\n",
      "Positional arguments ['study_or_trial', 'file_path', 'artifact_store'] in upload_artifact() have been deprecated since v4.0.0. They will be replaced with the corresponding keyword arguments in v6.0.0, so please use the keyword specification instead. See https://github.com/optuna/optuna/releases/tag/v4.0.0 for details.\n",
      "\n",
      "/var/folders/tx/rstdr46s2ng5_qbbc6p67xv40000gn/T/ipykernel_48489/3809418348.py:100: FutureWarning:\n",
      "\n",
      "upload_artifact() got {'file_path', 'study_or_trial', 'artifact_store'} as positional arguments but they were expected to be given as keyword arguments.\n",
      "Positional arguments ['study_or_trial', 'file_path', 'artifact_store'] in upload_artifact() have been deprecated since v4.0.0. They will be replaced with the corresponding keyword arguments in v6.0.0, so please use the keyword specification instead. See https://github.com/optuna/optuna/releases/tag/v4.0.0 for details.\n",
      "\n",
      "/var/folders/tx/rstdr46s2ng5_qbbc6p67xv40000gn/T/ipykernel_48489/3809418348.py:101: FutureWarning:\n",
      "\n",
      "upload_artifact() got {'file_path', 'study_or_trial', 'artifact_store'} as positional arguments but they were expected to be given as keyword arguments.\n",
      "Positional arguments ['study_or_trial', 'file_path', 'artifact_store'] in upload_artifact() have been deprecated since v4.0.0. They will be replaced with the corresponding keyword arguments in v6.0.0, so please use the keyword specification instead. See https://github.com/optuna/optuna/releases/tag/v4.0.0 for details.\n",
      "\n",
      "[I 2025-07-26 12:24:04,973] Trial 64 finished with value: 0.3620055209811651 and parameters: {'lambda_l1': 0.003084108409535612, 'lambda_l2': 1.6001472546442594e-07, 'num_leaves': 158, 'feature_fraction': 0.48792447260949806, 'bagging_fraction': 0.7863040088941134, 'bagging_freq': 2, 'min_child_samples': 46, 'learning_rate': 0.05096813466489769}. Best is trial 26 with value: 0.3776140545054506.\n",
      "/var/folders/tx/rstdr46s2ng5_qbbc6p67xv40000gn/T/ipykernel_48489/3809418348.py:88: FutureWarning:\n",
      "\n",
      "upload_artifact() got {'file_path', 'study_or_trial', 'artifact_store'} as positional arguments but they were expected to be given as keyword arguments.\n",
      "Positional arguments ['study_or_trial', 'file_path', 'artifact_store'] in upload_artifact() have been deprecated since v4.0.0. They will be replaced with the corresponding keyword arguments in v6.0.0, so please use the keyword specification instead. See https://github.com/optuna/optuna/releases/tag/v4.0.0 for details.\n",
      "\n",
      "/var/folders/tx/rstdr46s2ng5_qbbc6p67xv40000gn/T/ipykernel_48489/3809418348.py:100: FutureWarning:\n",
      "\n",
      "upload_artifact() got {'file_path', 'study_or_trial', 'artifact_store'} as positional arguments but they were expected to be given as keyword arguments.\n",
      "Positional arguments ['study_or_trial', 'file_path', 'artifact_store'] in upload_artifact() have been deprecated since v4.0.0. They will be replaced with the corresponding keyword arguments in v6.0.0, so please use the keyword specification instead. See https://github.com/optuna/optuna/releases/tag/v4.0.0 for details.\n",
      "\n",
      "/var/folders/tx/rstdr46s2ng5_qbbc6p67xv40000gn/T/ipykernel_48489/3809418348.py:101: FutureWarning:\n",
      "\n",
      "upload_artifact() got {'file_path', 'study_or_trial', 'artifact_store'} as positional arguments but they were expected to be given as keyword arguments.\n",
      "Positional arguments ['study_or_trial', 'file_path', 'artifact_store'] in upload_artifact() have been deprecated since v4.0.0. They will be replaced with the corresponding keyword arguments in v6.0.0, so please use the keyword specification instead. See https://github.com/optuna/optuna/releases/tag/v4.0.0 for details.\n",
      "\n",
      "[I 2025-07-26 12:24:29,464] Trial 65 finished with value: 0.37124453976990607 and parameters: {'lambda_l1': 0.009596168783478246, 'lambda_l2': 6.403117451693425e-07, 'num_leaves': 142, 'feature_fraction': 0.4520482647163315, 'bagging_fraction': 0.8443078457301846, 'bagging_freq': 2, 'min_child_samples': 57, 'learning_rate': 0.06088173067438657}. Best is trial 26 with value: 0.3776140545054506.\n",
      "/var/folders/tx/rstdr46s2ng5_qbbc6p67xv40000gn/T/ipykernel_48489/3809418348.py:88: FutureWarning:\n",
      "\n",
      "upload_artifact() got {'file_path', 'study_or_trial', 'artifact_store'} as positional arguments but they were expected to be given as keyword arguments.\n",
      "Positional arguments ['study_or_trial', 'file_path', 'artifact_store'] in upload_artifact() have been deprecated since v4.0.0. They will be replaced with the corresponding keyword arguments in v6.0.0, so please use the keyword specification instead. See https://github.com/optuna/optuna/releases/tag/v4.0.0 for details.\n",
      "\n",
      "/var/folders/tx/rstdr46s2ng5_qbbc6p67xv40000gn/T/ipykernel_48489/3809418348.py:100: FutureWarning:\n",
      "\n",
      "upload_artifact() got {'file_path', 'study_or_trial', 'artifact_store'} as positional arguments but they were expected to be given as keyword arguments.\n",
      "Positional arguments ['study_or_trial', 'file_path', 'artifact_store'] in upload_artifact() have been deprecated since v4.0.0. They will be replaced with the corresponding keyword arguments in v6.0.0, so please use the keyword specification instead. See https://github.com/optuna/optuna/releases/tag/v4.0.0 for details.\n",
      "\n",
      "/var/folders/tx/rstdr46s2ng5_qbbc6p67xv40000gn/T/ipykernel_48489/3809418348.py:101: FutureWarning:\n",
      "\n",
      "upload_artifact() got {'file_path', 'study_or_trial', 'artifact_store'} as positional arguments but they were expected to be given as keyword arguments.\n",
      "Positional arguments ['study_or_trial', 'file_path', 'artifact_store'] in upload_artifact() have been deprecated since v4.0.0. They will be replaced with the corresponding keyword arguments in v6.0.0, so please use the keyword specification instead. See https://github.com/optuna/optuna/releases/tag/v4.0.0 for details.\n",
      "\n",
      "[I 2025-07-26 12:24:47,104] Trial 66 finished with value: 0.3629163740108566 and parameters: {'lambda_l1': 0.12205703470140888, 'lambda_l2': 4.120886929424069e-08, 'num_leaves': 101, 'feature_fraction': 0.4275771396777402, 'bagging_fraction': 0.8205380399250053, 'bagging_freq': 1, 'min_child_samples': 67, 'learning_rate': 0.0690793254313757}. Best is trial 26 with value: 0.3776140545054506.\n",
      "/var/folders/tx/rstdr46s2ng5_qbbc6p67xv40000gn/T/ipykernel_48489/3809418348.py:88: FutureWarning:\n",
      "\n",
      "upload_artifact() got {'file_path', 'study_or_trial', 'artifact_store'} as positional arguments but they were expected to be given as keyword arguments.\n",
      "Positional arguments ['study_or_trial', 'file_path', 'artifact_store'] in upload_artifact() have been deprecated since v4.0.0. They will be replaced with the corresponding keyword arguments in v6.0.0, so please use the keyword specification instead. See https://github.com/optuna/optuna/releases/tag/v4.0.0 for details.\n",
      "\n",
      "/var/folders/tx/rstdr46s2ng5_qbbc6p67xv40000gn/T/ipykernel_48489/3809418348.py:100: FutureWarning:\n",
      "\n",
      "upload_artifact() got {'file_path', 'study_or_trial', 'artifact_store'} as positional arguments but they were expected to be given as keyword arguments.\n",
      "Positional arguments ['study_or_trial', 'file_path', 'artifact_store'] in upload_artifact() have been deprecated since v4.0.0. They will be replaced with the corresponding keyword arguments in v6.0.0, so please use the keyword specification instead. See https://github.com/optuna/optuna/releases/tag/v4.0.0 for details.\n",
      "\n",
      "/var/folders/tx/rstdr46s2ng5_qbbc6p67xv40000gn/T/ipykernel_48489/3809418348.py:101: FutureWarning:\n",
      "\n",
      "upload_artifact() got {'file_path', 'study_or_trial', 'artifact_store'} as positional arguments but they were expected to be given as keyword arguments.\n",
      "Positional arguments ['study_or_trial', 'file_path', 'artifact_store'] in upload_artifact() have been deprecated since v4.0.0. They will be replaced with the corresponding keyword arguments in v6.0.0, so please use the keyword specification instead. See https://github.com/optuna/optuna/releases/tag/v4.0.0 for details.\n",
      "\n",
      "[I 2025-07-26 12:25:16,897] Trial 67 finished with value: 0.37041447312854264 and parameters: {'lambda_l1': 0.0008485724153446696, 'lambda_l2': 4.867178937595605e-07, 'num_leaves': 115, 'feature_fraction': 0.5102265554381046, 'bagging_fraction': 0.8705586953916751, 'bagging_freq': 2, 'min_child_samples': 5, 'learning_rate': 0.04016616532074641}. Best is trial 26 with value: 0.3776140545054506.\n",
      "/var/folders/tx/rstdr46s2ng5_qbbc6p67xv40000gn/T/ipykernel_48489/3809418348.py:88: FutureWarning:\n",
      "\n",
      "upload_artifact() got {'file_path', 'study_or_trial', 'artifact_store'} as positional arguments but they were expected to be given as keyword arguments.\n",
      "Positional arguments ['study_or_trial', 'file_path', 'artifact_store'] in upload_artifact() have been deprecated since v4.0.0. They will be replaced with the corresponding keyword arguments in v6.0.0, so please use the keyword specification instead. See https://github.com/optuna/optuna/releases/tag/v4.0.0 for details.\n",
      "\n",
      "/var/folders/tx/rstdr46s2ng5_qbbc6p67xv40000gn/T/ipykernel_48489/3809418348.py:100: FutureWarning:\n",
      "\n",
      "upload_artifact() got {'file_path', 'study_or_trial', 'artifact_store'} as positional arguments but they were expected to be given as keyword arguments.\n",
      "Positional arguments ['study_or_trial', 'file_path', 'artifact_store'] in upload_artifact() have been deprecated since v4.0.0. They will be replaced with the corresponding keyword arguments in v6.0.0, so please use the keyword specification instead. See https://github.com/optuna/optuna/releases/tag/v4.0.0 for details.\n",
      "\n",
      "/var/folders/tx/rstdr46s2ng5_qbbc6p67xv40000gn/T/ipykernel_48489/3809418348.py:101: FutureWarning:\n",
      "\n",
      "upload_artifact() got {'file_path', 'study_or_trial', 'artifact_store'} as positional arguments but they were expected to be given as keyword arguments.\n",
      "Positional arguments ['study_or_trial', 'file_path', 'artifact_store'] in upload_artifact() have been deprecated since v4.0.0. They will be replaced with the corresponding keyword arguments in v6.0.0, so please use the keyword specification instead. See https://github.com/optuna/optuna/releases/tag/v4.0.0 for details.\n",
      "\n",
      "[I 2025-07-26 12:25:46,245] Trial 68 finished with value: 0.3698957330833826 and parameters: {'lambda_l1': 0.0014883318569903373, 'lambda_l2': 3.347359545865783e-06, 'num_leaves': 130, 'feature_fraction': 0.46430477695290306, 'bagging_fraction': 0.7844813310691879, 'bagging_freq': 1, 'min_child_samples': 13, 'learning_rate': 0.04596495815902184}. Best is trial 26 with value: 0.3776140545054506.\n",
      "/var/folders/tx/rstdr46s2ng5_qbbc6p67xv40000gn/T/ipykernel_48489/3809418348.py:88: FutureWarning:\n",
      "\n",
      "upload_artifact() got {'file_path', 'study_or_trial', 'artifact_store'} as positional arguments but they were expected to be given as keyword arguments.\n",
      "Positional arguments ['study_or_trial', 'file_path', 'artifact_store'] in upload_artifact() have been deprecated since v4.0.0. They will be replaced with the corresponding keyword arguments in v6.0.0, so please use the keyword specification instead. See https://github.com/optuna/optuna/releases/tag/v4.0.0 for details.\n",
      "\n",
      "/var/folders/tx/rstdr46s2ng5_qbbc6p67xv40000gn/T/ipykernel_48489/3809418348.py:100: FutureWarning:\n",
      "\n",
      "upload_artifact() got {'file_path', 'study_or_trial', 'artifact_store'} as positional arguments but they were expected to be given as keyword arguments.\n",
      "Positional arguments ['study_or_trial', 'file_path', 'artifact_store'] in upload_artifact() have been deprecated since v4.0.0. They will be replaced with the corresponding keyword arguments in v6.0.0, so please use the keyword specification instead. See https://github.com/optuna/optuna/releases/tag/v4.0.0 for details.\n",
      "\n",
      "/var/folders/tx/rstdr46s2ng5_qbbc6p67xv40000gn/T/ipykernel_48489/3809418348.py:101: FutureWarning:\n",
      "\n",
      "upload_artifact() got {'file_path', 'study_or_trial', 'artifact_store'} as positional arguments but they were expected to be given as keyword arguments.\n",
      "Positional arguments ['study_or_trial', 'file_path', 'artifact_store'] in upload_artifact() have been deprecated since v4.0.0. They will be replaced with the corresponding keyword arguments in v6.0.0, so please use the keyword specification instead. See https://github.com/optuna/optuna/releases/tag/v4.0.0 for details.\n",
      "\n",
      "[I 2025-07-26 12:26:13,771] Trial 69 finished with value: 0.3714660841178536 and parameters: {'lambda_l1': 0.007694045388935476, 'lambda_l2': 1.0073509331536167e-08, 'num_leaves': 177, 'feature_fraction': 0.490485995983973, 'bagging_fraction': 0.903458698756167, 'bagging_freq': 6, 'min_child_samples': 42, 'learning_rate': 0.05482142501469268}. Best is trial 26 with value: 0.3776140545054506.\n",
      "/var/folders/tx/rstdr46s2ng5_qbbc6p67xv40000gn/T/ipykernel_48489/3809418348.py:88: FutureWarning:\n",
      "\n",
      "upload_artifact() got {'file_path', 'study_or_trial', 'artifact_store'} as positional arguments but they were expected to be given as keyword arguments.\n",
      "Positional arguments ['study_or_trial', 'file_path', 'artifact_store'] in upload_artifact() have been deprecated since v4.0.0. They will be replaced with the corresponding keyword arguments in v6.0.0, so please use the keyword specification instead. See https://github.com/optuna/optuna/releases/tag/v4.0.0 for details.\n",
      "\n",
      "/var/folders/tx/rstdr46s2ng5_qbbc6p67xv40000gn/T/ipykernel_48489/3809418348.py:100: FutureWarning:\n",
      "\n",
      "upload_artifact() got {'file_path', 'study_or_trial', 'artifact_store'} as positional arguments but they were expected to be given as keyword arguments.\n",
      "Positional arguments ['study_or_trial', 'file_path', 'artifact_store'] in upload_artifact() have been deprecated since v4.0.0. They will be replaced with the corresponding keyword arguments in v6.0.0, so please use the keyword specification instead. See https://github.com/optuna/optuna/releases/tag/v4.0.0 for details.\n",
      "\n",
      "/var/folders/tx/rstdr46s2ng5_qbbc6p67xv40000gn/T/ipykernel_48489/3809418348.py:101: FutureWarning:\n",
      "\n",
      "upload_artifact() got {'file_path', 'study_or_trial', 'artifact_store'} as positional arguments but they were expected to be given as keyword arguments.\n",
      "Positional arguments ['study_or_trial', 'file_path', 'artifact_store'] in upload_artifact() have been deprecated since v4.0.0. They will be replaced with the corresponding keyword arguments in v6.0.0, so please use the keyword specification instead. See https://github.com/optuna/optuna/releases/tag/v4.0.0 for details.\n",
      "\n",
      "[I 2025-07-26 12:26:44,601] Trial 70 finished with value: 0.3800510247133257 and parameters: {'lambda_l1': 7.79853416297794e-05, 'lambda_l2': 2.7954259937338194e-08, 'num_leaves': 148, 'feature_fraction': 0.5347843986595477, 'bagging_fraction': 0.9307533942438229, 'bagging_freq': 7, 'min_child_samples': 23, 'learning_rate': 0.039071274189408166}. Best is trial 70 with value: 0.3800510247133257.\n",
      "/var/folders/tx/rstdr46s2ng5_qbbc6p67xv40000gn/T/ipykernel_48489/3809418348.py:88: FutureWarning:\n",
      "\n",
      "upload_artifact() got {'file_path', 'study_or_trial', 'artifact_store'} as positional arguments but they were expected to be given as keyword arguments.\n",
      "Positional arguments ['study_or_trial', 'file_path', 'artifact_store'] in upload_artifact() have been deprecated since v4.0.0. They will be replaced with the corresponding keyword arguments in v6.0.0, so please use the keyword specification instead. See https://github.com/optuna/optuna/releases/tag/v4.0.0 for details.\n",
      "\n",
      "/var/folders/tx/rstdr46s2ng5_qbbc6p67xv40000gn/T/ipykernel_48489/3809418348.py:100: FutureWarning:\n",
      "\n",
      "upload_artifact() got {'file_path', 'study_or_trial', 'artifact_store'} as positional arguments but they were expected to be given as keyword arguments.\n",
      "Positional arguments ['study_or_trial', 'file_path', 'artifact_store'] in upload_artifact() have been deprecated since v4.0.0. They will be replaced with the corresponding keyword arguments in v6.0.0, so please use the keyword specification instead. See https://github.com/optuna/optuna/releases/tag/v4.0.0 for details.\n",
      "\n",
      "/var/folders/tx/rstdr46s2ng5_qbbc6p67xv40000gn/T/ipykernel_48489/3809418348.py:101: FutureWarning:\n",
      "\n",
      "upload_artifact() got {'file_path', 'study_or_trial', 'artifact_store'} as positional arguments but they were expected to be given as keyword arguments.\n",
      "Positional arguments ['study_or_trial', 'file_path', 'artifact_store'] in upload_artifact() have been deprecated since v4.0.0. They will be replaced with the corresponding keyword arguments in v6.0.0, so please use the keyword specification instead. See https://github.com/optuna/optuna/releases/tag/v4.0.0 for details.\n",
      "\n",
      "[I 2025-07-26 12:27:02,291] Trial 71 finished with value: 0.3566345682806322 and parameters: {'lambda_l1': 0.00010054102276769132, 'lambda_l2': 5.8771604121755234e-08, 'num_leaves': 148, 'feature_fraction': 0.8178606945999372, 'bagging_fraction': 0.9782707302753938, 'bagging_freq': 2, 'min_child_samples': 25, 'learning_rate': 0.08285894115431941}. Best is trial 70 with value: 0.3800510247133257.\n",
      "/var/folders/tx/rstdr46s2ng5_qbbc6p67xv40000gn/T/ipykernel_48489/3809418348.py:88: FutureWarning:\n",
      "\n",
      "upload_artifact() got {'file_path', 'study_or_trial', 'artifact_store'} as positional arguments but they were expected to be given as keyword arguments.\n",
      "Positional arguments ['study_or_trial', 'file_path', 'artifact_store'] in upload_artifact() have been deprecated since v4.0.0. They will be replaced with the corresponding keyword arguments in v6.0.0, so please use the keyword specification instead. See https://github.com/optuna/optuna/releases/tag/v4.0.0 for details.\n",
      "\n",
      "/var/folders/tx/rstdr46s2ng5_qbbc6p67xv40000gn/T/ipykernel_48489/3809418348.py:100: FutureWarning:\n",
      "\n",
      "upload_artifact() got {'file_path', 'study_or_trial', 'artifact_store'} as positional arguments but they were expected to be given as keyword arguments.\n",
      "Positional arguments ['study_or_trial', 'file_path', 'artifact_store'] in upload_artifact() have been deprecated since v4.0.0. They will be replaced with the corresponding keyword arguments in v6.0.0, so please use the keyword specification instead. See https://github.com/optuna/optuna/releases/tag/v4.0.0 for details.\n",
      "\n",
      "/var/folders/tx/rstdr46s2ng5_qbbc6p67xv40000gn/T/ipykernel_48489/3809418348.py:101: FutureWarning:\n",
      "\n",
      "upload_artifact() got {'file_path', 'study_or_trial', 'artifact_store'} as positional arguments but they were expected to be given as keyword arguments.\n",
      "Positional arguments ['study_or_trial', 'file_path', 'artifact_store'] in upload_artifact() have been deprecated since v4.0.0. They will be replaced with the corresponding keyword arguments in v6.0.0, so please use the keyword specification instead. See https://github.com/optuna/optuna/releases/tag/v4.0.0 for details.\n",
      "\n",
      "[I 2025-07-26 12:27:37,937] Trial 72 finished with value: 0.3736586609171016 and parameters: {'lambda_l1': 0.000560249412940302, 'lambda_l2': 3.495633454889343e-08, 'num_leaves': 165, 'feature_fraction': 0.540915806830022, 'bagging_fraction': 0.9335368587224802, 'bagging_freq': 7, 'min_child_samples': 15, 'learning_rate': 0.038476034796543726}. Best is trial 70 with value: 0.3800510247133257.\n",
      "/var/folders/tx/rstdr46s2ng5_qbbc6p67xv40000gn/T/ipykernel_48489/3809418348.py:88: FutureWarning:\n",
      "\n",
      "upload_artifact() got {'file_path', 'study_or_trial', 'artifact_store'} as positional arguments but they were expected to be given as keyword arguments.\n",
      "Positional arguments ['study_or_trial', 'file_path', 'artifact_store'] in upload_artifact() have been deprecated since v4.0.0. They will be replaced with the corresponding keyword arguments in v6.0.0, so please use the keyword specification instead. See https://github.com/optuna/optuna/releases/tag/v4.0.0 for details.\n",
      "\n",
      "/var/folders/tx/rstdr46s2ng5_qbbc6p67xv40000gn/T/ipykernel_48489/3809418348.py:100: FutureWarning:\n",
      "\n",
      "upload_artifact() got {'file_path', 'study_or_trial', 'artifact_store'} as positional arguments but they were expected to be given as keyword arguments.\n",
      "Positional arguments ['study_or_trial', 'file_path', 'artifact_store'] in upload_artifact() have been deprecated since v4.0.0. They will be replaced with the corresponding keyword arguments in v6.0.0, so please use the keyword specification instead. See https://github.com/optuna/optuna/releases/tag/v4.0.0 for details.\n",
      "\n",
      "/var/folders/tx/rstdr46s2ng5_qbbc6p67xv40000gn/T/ipykernel_48489/3809418348.py:101: FutureWarning:\n",
      "\n",
      "upload_artifact() got {'file_path', 'study_or_trial', 'artifact_store'} as positional arguments but they were expected to be given as keyword arguments.\n",
      "Positional arguments ['study_or_trial', 'file_path', 'artifact_store'] in upload_artifact() have been deprecated since v4.0.0. They will be replaced with the corresponding keyword arguments in v6.0.0, so please use the keyword specification instead. See https://github.com/optuna/optuna/releases/tag/v4.0.0 for details.\n",
      "\n",
      "[I 2025-07-26 12:28:18,268] Trial 73 finished with value: 0.3738583509858024 and parameters: {'lambda_l1': 0.0006432138498036606, 'lambda_l2': 2.319603495874281e-08, 'num_leaves': 167, 'feature_fraction': 0.5353432782325416, 'bagging_fraction': 0.9603008111827838, 'bagging_freq': 7, 'min_child_samples': 22, 'learning_rate': 0.03249903421303469}. Best is trial 70 with value: 0.3800510247133257.\n",
      "/var/folders/tx/rstdr46s2ng5_qbbc6p67xv40000gn/T/ipykernel_48489/3809418348.py:88: FutureWarning:\n",
      "\n",
      "upload_artifact() got {'file_path', 'study_or_trial', 'artifact_store'} as positional arguments but they were expected to be given as keyword arguments.\n",
      "Positional arguments ['study_or_trial', 'file_path', 'artifact_store'] in upload_artifact() have been deprecated since v4.0.0. They will be replaced with the corresponding keyword arguments in v6.0.0, so please use the keyword specification instead. See https://github.com/optuna/optuna/releases/tag/v4.0.0 for details.\n",
      "\n",
      "/var/folders/tx/rstdr46s2ng5_qbbc6p67xv40000gn/T/ipykernel_48489/3809418348.py:100: FutureWarning:\n",
      "\n",
      "upload_artifact() got {'file_path', 'study_or_trial', 'artifact_store'} as positional arguments but they were expected to be given as keyword arguments.\n",
      "Positional arguments ['study_or_trial', 'file_path', 'artifact_store'] in upload_artifact() have been deprecated since v4.0.0. They will be replaced with the corresponding keyword arguments in v6.0.0, so please use the keyword specification instead. See https://github.com/optuna/optuna/releases/tag/v4.0.0 for details.\n",
      "\n",
      "/var/folders/tx/rstdr46s2ng5_qbbc6p67xv40000gn/T/ipykernel_48489/3809418348.py:101: FutureWarning:\n",
      "\n",
      "upload_artifact() got {'file_path', 'study_or_trial', 'artifact_store'} as positional arguments but they were expected to be given as keyword arguments.\n",
      "Positional arguments ['study_or_trial', 'file_path', 'artifact_store'] in upload_artifact() have been deprecated since v4.0.0. They will be replaced with the corresponding keyword arguments in v6.0.0, so please use the keyword specification instead. See https://github.com/optuna/optuna/releases/tag/v4.0.0 for details.\n",
      "\n",
      "[I 2025-07-26 12:28:48,405] Trial 74 finished with value: 0.3664768761088677 and parameters: {'lambda_l1': 5.6470041438660435e-08, 'lambda_l2': 1.3169284806178295e-07, 'num_leaves': 147, 'feature_fraction': 0.5668125153808184, 'bagging_fraction': 0.9609508473280495, 'bagging_freq': 7, 'min_child_samples': 29, 'learning_rate': 0.03208742675615396}. Best is trial 70 with value: 0.3800510247133257.\n",
      "/var/folders/tx/rstdr46s2ng5_qbbc6p67xv40000gn/T/ipykernel_48489/3809418348.py:88: FutureWarning:\n",
      "\n",
      "upload_artifact() got {'file_path', 'study_or_trial', 'artifact_store'} as positional arguments but they were expected to be given as keyword arguments.\n",
      "Positional arguments ['study_or_trial', 'file_path', 'artifact_store'] in upload_artifact() have been deprecated since v4.0.0. They will be replaced with the corresponding keyword arguments in v6.0.0, so please use the keyword specification instead. See https://github.com/optuna/optuna/releases/tag/v4.0.0 for details.\n",
      "\n",
      "/var/folders/tx/rstdr46s2ng5_qbbc6p67xv40000gn/T/ipykernel_48489/3809418348.py:100: FutureWarning:\n",
      "\n",
      "upload_artifact() got {'file_path', 'study_or_trial', 'artifact_store'} as positional arguments but they were expected to be given as keyword arguments.\n",
      "Positional arguments ['study_or_trial', 'file_path', 'artifact_store'] in upload_artifact() have been deprecated since v4.0.0. They will be replaced with the corresponding keyword arguments in v6.0.0, so please use the keyword specification instead. See https://github.com/optuna/optuna/releases/tag/v4.0.0 for details.\n",
      "\n",
      "/var/folders/tx/rstdr46s2ng5_qbbc6p67xv40000gn/T/ipykernel_48489/3809418348.py:101: FutureWarning:\n",
      "\n",
      "upload_artifact() got {'file_path', 'study_or_trial', 'artifact_store'} as positional arguments but they were expected to be given as keyword arguments.\n",
      "Positional arguments ['study_or_trial', 'file_path', 'artifact_store'] in upload_artifact() have been deprecated since v4.0.0. They will be replaced with the corresponding keyword arguments in v6.0.0, so please use the keyword specification instead. See https://github.com/optuna/optuna/releases/tag/v4.0.0 for details.\n",
      "\n",
      "[I 2025-07-26 12:29:22,745] Trial 75 finished with value: 0.3727456159507937 and parameters: {'lambda_l1': 0.004619164954088019, 'lambda_l2': 1.958924144411754e-08, 'num_leaves': 158, 'feature_fraction': 0.5197445201736399, 'bagging_fraction': 0.8826503095701764, 'bagging_freq': 7, 'min_child_samples': 22, 'learning_rate': 0.043480912938892044}. Best is trial 70 with value: 0.3800510247133257.\n",
      "/var/folders/tx/rstdr46s2ng5_qbbc6p67xv40000gn/T/ipykernel_48489/3809418348.py:88: FutureWarning:\n",
      "\n",
      "upload_artifact() got {'file_path', 'study_or_trial', 'artifact_store'} as positional arguments but they were expected to be given as keyword arguments.\n",
      "Positional arguments ['study_or_trial', 'file_path', 'artifact_store'] in upload_artifact() have been deprecated since v4.0.0. They will be replaced with the corresponding keyword arguments in v6.0.0, so please use the keyword specification instead. See https://github.com/optuna/optuna/releases/tag/v4.0.0 for details.\n",
      "\n",
      "/var/folders/tx/rstdr46s2ng5_qbbc6p67xv40000gn/T/ipykernel_48489/3809418348.py:100: FutureWarning:\n",
      "\n",
      "upload_artifact() got {'file_path', 'study_or_trial', 'artifact_store'} as positional arguments but they were expected to be given as keyword arguments.\n",
      "Positional arguments ['study_or_trial', 'file_path', 'artifact_store'] in upload_artifact() have been deprecated since v4.0.0. They will be replaced with the corresponding keyword arguments in v6.0.0, so please use the keyword specification instead. See https://github.com/optuna/optuna/releases/tag/v4.0.0 for details.\n",
      "\n",
      "/var/folders/tx/rstdr46s2ng5_qbbc6p67xv40000gn/T/ipykernel_48489/3809418348.py:101: FutureWarning:\n",
      "\n",
      "upload_artifact() got {'file_path', 'study_or_trial', 'artifact_store'} as positional arguments but they were expected to be given as keyword arguments.\n",
      "Positional arguments ['study_or_trial', 'file_path', 'artifact_store'] in upload_artifact() have been deprecated since v4.0.0. They will be replaced with the corresponding keyword arguments in v6.0.0, so please use the keyword specification instead. See https://github.com/optuna/optuna/releases/tag/v4.0.0 for details.\n",
      "\n",
      "[I 2025-07-26 12:29:52,670] Trial 76 finished with value: 0.36369587602961384 and parameters: {'lambda_l1': 0.022001453348135382, 'lambda_l2': 1.2726741681116442e-06, 'num_leaves': 171, 'feature_fraction': 0.5211428934123956, 'bagging_fraction': 0.9496627633970044, 'bagging_freq': 6, 'min_child_samples': 18, 'learning_rate': 0.05189560842333771}. Best is trial 70 with value: 0.3800510247133257.\n",
      "/var/folders/tx/rstdr46s2ng5_qbbc6p67xv40000gn/T/ipykernel_48489/3809418348.py:88: FutureWarning:\n",
      "\n",
      "upload_artifact() got {'file_path', 'study_or_trial', 'artifact_store'} as positional arguments but they were expected to be given as keyword arguments.\n",
      "Positional arguments ['study_or_trial', 'file_path', 'artifact_store'] in upload_artifact() have been deprecated since v4.0.0. They will be replaced with the corresponding keyword arguments in v6.0.0, so please use the keyword specification instead. See https://github.com/optuna/optuna/releases/tag/v4.0.0 for details.\n",
      "\n",
      "/var/folders/tx/rstdr46s2ng5_qbbc6p67xv40000gn/T/ipykernel_48489/3809418348.py:100: FutureWarning:\n",
      "\n",
      "upload_artifact() got {'file_path', 'study_or_trial', 'artifact_store'} as positional arguments but they were expected to be given as keyword arguments.\n",
      "Positional arguments ['study_or_trial', 'file_path', 'artifact_store'] in upload_artifact() have been deprecated since v4.0.0. They will be replaced with the corresponding keyword arguments in v6.0.0, so please use the keyword specification instead. See https://github.com/optuna/optuna/releases/tag/v4.0.0 for details.\n",
      "\n",
      "/var/folders/tx/rstdr46s2ng5_qbbc6p67xv40000gn/T/ipykernel_48489/3809418348.py:101: FutureWarning:\n",
      "\n",
      "upload_artifact() got {'file_path', 'study_or_trial', 'artifact_store'} as positional arguments but they were expected to be given as keyword arguments.\n",
      "Positional arguments ['study_or_trial', 'file_path', 'artifact_store'] in upload_artifact() have been deprecated since v4.0.0. They will be replaced with the corresponding keyword arguments in v6.0.0, so please use the keyword specification instead. See https://github.com/optuna/optuna/releases/tag/v4.0.0 for details.\n",
      "\n",
      "[I 2025-07-26 12:30:38,352] Trial 77 finished with value: 0.3767898595484351 and parameters: {'lambda_l1': 1.4471155722487369e-05, 'lambda_l2': 7.157554041711533e-08, 'num_leaves': 154, 'feature_fraction': 0.4994011498243839, 'bagging_fraction': 0.9830412881566037, 'bagging_freq': 7, 'min_child_samples': 10, 'learning_rate': 0.032204484887396315}. Best is trial 70 with value: 0.3800510247133257.\n",
      "/var/folders/tx/rstdr46s2ng5_qbbc6p67xv40000gn/T/ipykernel_48489/3809418348.py:88: FutureWarning:\n",
      "\n",
      "upload_artifact() got {'file_path', 'study_or_trial', 'artifact_store'} as positional arguments but they were expected to be given as keyword arguments.\n",
      "Positional arguments ['study_or_trial', 'file_path', 'artifact_store'] in upload_artifact() have been deprecated since v4.0.0. They will be replaced with the corresponding keyword arguments in v6.0.0, so please use the keyword specification instead. See https://github.com/optuna/optuna/releases/tag/v4.0.0 for details.\n",
      "\n",
      "/var/folders/tx/rstdr46s2ng5_qbbc6p67xv40000gn/T/ipykernel_48489/3809418348.py:100: FutureWarning:\n",
      "\n",
      "upload_artifact() got {'file_path', 'study_or_trial', 'artifact_store'} as positional arguments but they were expected to be given as keyword arguments.\n",
      "Positional arguments ['study_or_trial', 'file_path', 'artifact_store'] in upload_artifact() have been deprecated since v4.0.0. They will be replaced with the corresponding keyword arguments in v6.0.0, so please use the keyword specification instead. See https://github.com/optuna/optuna/releases/tag/v4.0.0 for details.\n",
      "\n",
      "/var/folders/tx/rstdr46s2ng5_qbbc6p67xv40000gn/T/ipykernel_48489/3809418348.py:101: FutureWarning:\n",
      "\n",
      "upload_artifact() got {'file_path', 'study_or_trial', 'artifact_store'} as positional arguments but they were expected to be given as keyword arguments.\n",
      "Positional arguments ['study_or_trial', 'file_path', 'artifact_store'] in upload_artifact() have been deprecated since v4.0.0. They will be replaced with the corresponding keyword arguments in v6.0.0, so please use the keyword specification instead. See https://github.com/optuna/optuna/releases/tag/v4.0.0 for details.\n",
      "\n",
      "[I 2025-07-26 12:31:22,201] Trial 78 finished with value: 0.36791713863246533 and parameters: {'lambda_l1': 2.6492907416775956e-05, 'lambda_l2': 7.19099534798114e-08, 'num_leaves': 154, 'feature_fraction': 0.4124723783235333, 'bagging_fraction': 0.9885891327327647, 'bagging_freq': 1, 'min_child_samples': 11, 'learning_rate': 0.03707933417437124}. Best is trial 70 with value: 0.3800510247133257.\n",
      "/var/folders/tx/rstdr46s2ng5_qbbc6p67xv40000gn/T/ipykernel_48489/3809418348.py:88: FutureWarning:\n",
      "\n",
      "upload_artifact() got {'file_path', 'study_or_trial', 'artifact_store'} as positional arguments but they were expected to be given as keyword arguments.\n",
      "Positional arguments ['study_or_trial', 'file_path', 'artifact_store'] in upload_artifact() have been deprecated since v4.0.0. They will be replaced with the corresponding keyword arguments in v6.0.0, so please use the keyword specification instead. See https://github.com/optuna/optuna/releases/tag/v4.0.0 for details.\n",
      "\n",
      "/var/folders/tx/rstdr46s2ng5_qbbc6p67xv40000gn/T/ipykernel_48489/3809418348.py:100: FutureWarning:\n",
      "\n",
      "upload_artifact() got {'file_path', 'study_or_trial', 'artifact_store'} as positional arguments but they were expected to be given as keyword arguments.\n",
      "Positional arguments ['study_or_trial', 'file_path', 'artifact_store'] in upload_artifact() have been deprecated since v4.0.0. They will be replaced with the corresponding keyword arguments in v6.0.0, so please use the keyword specification instead. See https://github.com/optuna/optuna/releases/tag/v4.0.0 for details.\n",
      "\n",
      "/var/folders/tx/rstdr46s2ng5_qbbc6p67xv40000gn/T/ipykernel_48489/3809418348.py:101: FutureWarning:\n",
      "\n",
      "upload_artifact() got {'file_path', 'study_or_trial', 'artifact_store'} as positional arguments but they were expected to be given as keyword arguments.\n",
      "Positional arguments ['study_or_trial', 'file_path', 'artifact_store'] in upload_artifact() have been deprecated since v4.0.0. They will be replaced with the corresponding keyword arguments in v6.0.0, so please use the keyword specification instead. See https://github.com/optuna/optuna/releases/tag/v4.0.0 for details.\n",
      "\n",
      "[I 2025-07-26 12:31:51,205] Trial 79 finished with value: 0.36881405727180033 and parameters: {'lambda_l1': 8.523784316009127e-06, 'lambda_l2': 2.0362232814365548e-07, 'num_leaves': 133, 'feature_fraction': 0.4697246584316081, 'bagging_fraction': 0.7456329058373162, 'bagging_freq': 2, 'min_child_samples': 7, 'learning_rate': 0.06456354456854284}. Best is trial 70 with value: 0.3800510247133257.\n",
      "/var/folders/tx/rstdr46s2ng5_qbbc6p67xv40000gn/T/ipykernel_48489/3809418348.py:88: FutureWarning:\n",
      "\n",
      "upload_artifact() got {'file_path', 'study_or_trial', 'artifact_store'} as positional arguments but they were expected to be given as keyword arguments.\n",
      "Positional arguments ['study_or_trial', 'file_path', 'artifact_store'] in upload_artifact() have been deprecated since v4.0.0. They will be replaced with the corresponding keyword arguments in v6.0.0, so please use the keyword specification instead. See https://github.com/optuna/optuna/releases/tag/v4.0.0 for details.\n",
      "\n",
      "/var/folders/tx/rstdr46s2ng5_qbbc6p67xv40000gn/T/ipykernel_48489/3809418348.py:100: FutureWarning:\n",
      "\n",
      "upload_artifact() got {'file_path', 'study_or_trial', 'artifact_store'} as positional arguments but they were expected to be given as keyword arguments.\n",
      "Positional arguments ['study_or_trial', 'file_path', 'artifact_store'] in upload_artifact() have been deprecated since v4.0.0. They will be replaced with the corresponding keyword arguments in v6.0.0, so please use the keyword specification instead. See https://github.com/optuna/optuna/releases/tag/v4.0.0 for details.\n",
      "\n",
      "/var/folders/tx/rstdr46s2ng5_qbbc6p67xv40000gn/T/ipykernel_48489/3809418348.py:101: FutureWarning:\n",
      "\n",
      "upload_artifact() got {'file_path', 'study_or_trial', 'artifact_store'} as positional arguments but they were expected to be given as keyword arguments.\n",
      "Positional arguments ['study_or_trial', 'file_path', 'artifact_store'] in upload_artifact() have been deprecated since v4.0.0. They will be replaced with the corresponding keyword arguments in v6.0.0, so please use the keyword specification instead. See https://github.com/optuna/optuna/releases/tag/v4.0.0 for details.\n",
      "\n",
      "[I 2025-07-26 12:32:30,484] Trial 80 finished with value: 0.3651478431189746 and parameters: {'lambda_l1': 2.9406194503079933e-06, 'lambda_l2': 4.4375560177606165e-08, 'num_leaves': 182, 'feature_fraction': 0.4943875677029429, 'bagging_fraction': 0.8291225178151709, 'bagging_freq': 1, 'min_child_samples': 13, 'learning_rate': 0.04761159277250293}. Best is trial 70 with value: 0.3800510247133257.\n",
      "/var/folders/tx/rstdr46s2ng5_qbbc6p67xv40000gn/T/ipykernel_48489/3809418348.py:88: FutureWarning:\n",
      "\n",
      "upload_artifact() got {'file_path', 'study_or_trial', 'artifact_store'} as positional arguments but they were expected to be given as keyword arguments.\n",
      "Positional arguments ['study_or_trial', 'file_path', 'artifact_store'] in upload_artifact() have been deprecated since v4.0.0. They will be replaced with the corresponding keyword arguments in v6.0.0, so please use the keyword specification instead. See https://github.com/optuna/optuna/releases/tag/v4.0.0 for details.\n",
      "\n",
      "/var/folders/tx/rstdr46s2ng5_qbbc6p67xv40000gn/T/ipykernel_48489/3809418348.py:100: FutureWarning:\n",
      "\n",
      "upload_artifact() got {'file_path', 'study_or_trial', 'artifact_store'} as positional arguments but they were expected to be given as keyword arguments.\n",
      "Positional arguments ['study_or_trial', 'file_path', 'artifact_store'] in upload_artifact() have been deprecated since v4.0.0. They will be replaced with the corresponding keyword arguments in v6.0.0, so please use the keyword specification instead. See https://github.com/optuna/optuna/releases/tag/v4.0.0 for details.\n",
      "\n",
      "/var/folders/tx/rstdr46s2ng5_qbbc6p67xv40000gn/T/ipykernel_48489/3809418348.py:101: FutureWarning:\n",
      "\n",
      "upload_artifact() got {'file_path', 'study_or_trial', 'artifact_store'} as positional arguments but they were expected to be given as keyword arguments.\n",
      "Positional arguments ['study_or_trial', 'file_path', 'artifact_store'] in upload_artifact() have been deprecated since v4.0.0. They will be replaced with the corresponding keyword arguments in v6.0.0, so please use the keyword specification instead. See https://github.com/optuna/optuna/releases/tag/v4.0.0 for details.\n",
      "\n",
      "[I 2025-07-26 12:33:12,854] Trial 81 finished with value: 0.375058774136998 and parameters: {'lambda_l1': 7.66587540481981e-05, 'lambda_l2': 4.080498831913273e-07, 'num_leaves': 142, 'feature_fraction': 0.5048553134052443, 'bagging_fraction': 0.9300847832737099, 'bagging_freq': 2, 'min_child_samples': 10, 'learning_rate': 0.041760709130312684}. Best is trial 70 with value: 0.3800510247133257.\n",
      "/var/folders/tx/rstdr46s2ng5_qbbc6p67xv40000gn/T/ipykernel_48489/3809418348.py:88: FutureWarning:\n",
      "\n",
      "upload_artifact() got {'file_path', 'study_or_trial', 'artifact_store'} as positional arguments but they were expected to be given as keyword arguments.\n",
      "Positional arguments ['study_or_trial', 'file_path', 'artifact_store'] in upload_artifact() have been deprecated since v4.0.0. They will be replaced with the corresponding keyword arguments in v6.0.0, so please use the keyword specification instead. See https://github.com/optuna/optuna/releases/tag/v4.0.0 for details.\n",
      "\n",
      "/var/folders/tx/rstdr46s2ng5_qbbc6p67xv40000gn/T/ipykernel_48489/3809418348.py:100: FutureWarning:\n",
      "\n",
      "upload_artifact() got {'file_path', 'study_or_trial', 'artifact_store'} as positional arguments but they were expected to be given as keyword arguments.\n",
      "Positional arguments ['study_or_trial', 'file_path', 'artifact_store'] in upload_artifact() have been deprecated since v4.0.0. They will be replaced with the corresponding keyword arguments in v6.0.0, so please use the keyword specification instead. See https://github.com/optuna/optuna/releases/tag/v4.0.0 for details.\n",
      "\n",
      "/var/folders/tx/rstdr46s2ng5_qbbc6p67xv40000gn/T/ipykernel_48489/3809418348.py:101: FutureWarning:\n",
      "\n",
      "upload_artifact() got {'file_path', 'study_or_trial', 'artifact_store'} as positional arguments but they were expected to be given as keyword arguments.\n",
      "Positional arguments ['study_or_trial', 'file_path', 'artifact_store'] in upload_artifact() have been deprecated since v4.0.0. They will be replaced with the corresponding keyword arguments in v6.0.0, so please use the keyword specification instead. See https://github.com/optuna/optuna/releases/tag/v4.0.0 for details.\n",
      "\n",
      "[I 2025-07-26 12:33:46,154] Trial 82 finished with value: 0.37001740359179686 and parameters: {'lambda_l1': 5.491964974627244e-05, 'lambda_l2': 3.1386863214134254e-07, 'num_leaves': 142, 'feature_fraction': 0.48080186096375016, 'bagging_fraction': 0.9271250224081691, 'bagging_freq': 2, 'min_child_samples': 9, 'learning_rate': 0.04186021926841095}. Best is trial 70 with value: 0.3800510247133257.\n",
      "/var/folders/tx/rstdr46s2ng5_qbbc6p67xv40000gn/T/ipykernel_48489/3809418348.py:88: FutureWarning:\n",
      "\n",
      "upload_artifact() got {'file_path', 'study_or_trial', 'artifact_store'} as positional arguments but they were expected to be given as keyword arguments.\n",
      "Positional arguments ['study_or_trial', 'file_path', 'artifact_store'] in upload_artifact() have been deprecated since v4.0.0. They will be replaced with the corresponding keyword arguments in v6.0.0, so please use the keyword specification instead. See https://github.com/optuna/optuna/releases/tag/v4.0.0 for details.\n",
      "\n",
      "/var/folders/tx/rstdr46s2ng5_qbbc6p67xv40000gn/T/ipykernel_48489/3809418348.py:100: FutureWarning:\n",
      "\n",
      "upload_artifact() got {'file_path', 'study_or_trial', 'artifact_store'} as positional arguments but they were expected to be given as keyword arguments.\n",
      "Positional arguments ['study_or_trial', 'file_path', 'artifact_store'] in upload_artifact() have been deprecated since v4.0.0. They will be replaced with the corresponding keyword arguments in v6.0.0, so please use the keyword specification instead. See https://github.com/optuna/optuna/releases/tag/v4.0.0 for details.\n",
      "\n",
      "/var/folders/tx/rstdr46s2ng5_qbbc6p67xv40000gn/T/ipykernel_48489/3809418348.py:101: FutureWarning:\n",
      "\n",
      "upload_artifact() got {'file_path', 'study_or_trial', 'artifact_store'} as positional arguments but they were expected to be given as keyword arguments.\n",
      "Positional arguments ['study_or_trial', 'file_path', 'artifact_store'] in upload_artifact() have been deprecated since v4.0.0. They will be replaced with the corresponding keyword arguments in v6.0.0, so please use the keyword specification instead. See https://github.com/optuna/optuna/releases/tag/v4.0.0 for details.\n",
      "\n",
      "[I 2025-07-26 12:34:46,151] Trial 83 finished with value: 0.3515271650819446 and parameters: {'lambda_l1': 1.617152468523425e-05, 'lambda_l2': 1.2310225866908064e-07, 'num_leaves': 126, 'feature_fraction': 0.502191037672388, 'bagging_fraction': 0.8614403407162141, 'bagging_freq': 2, 'min_child_samples': 5, 'learning_rate': 0.008245640215626352}. Best is trial 70 with value: 0.3800510247133257.\n",
      "/var/folders/tx/rstdr46s2ng5_qbbc6p67xv40000gn/T/ipykernel_48489/3809418348.py:88: FutureWarning:\n",
      "\n",
      "upload_artifact() got {'file_path', 'study_or_trial', 'artifact_store'} as positional arguments but they were expected to be given as keyword arguments.\n",
      "Positional arguments ['study_or_trial', 'file_path', 'artifact_store'] in upload_artifact() have been deprecated since v4.0.0. They will be replaced with the corresponding keyword arguments in v6.0.0, so please use the keyword specification instead. See https://github.com/optuna/optuna/releases/tag/v4.0.0 for details.\n",
      "\n",
      "/var/folders/tx/rstdr46s2ng5_qbbc6p67xv40000gn/T/ipykernel_48489/3809418348.py:100: FutureWarning:\n",
      "\n",
      "upload_artifact() got {'file_path', 'study_or_trial', 'artifact_store'} as positional arguments but they were expected to be given as keyword arguments.\n",
      "Positional arguments ['study_or_trial', 'file_path', 'artifact_store'] in upload_artifact() have been deprecated since v4.0.0. They will be replaced with the corresponding keyword arguments in v6.0.0, so please use the keyword specification instead. See https://github.com/optuna/optuna/releases/tag/v4.0.0 for details.\n",
      "\n",
      "/var/folders/tx/rstdr46s2ng5_qbbc6p67xv40000gn/T/ipykernel_48489/3809418348.py:101: FutureWarning:\n",
      "\n",
      "upload_artifact() got {'file_path', 'study_or_trial', 'artifact_store'} as positional arguments but they were expected to be given as keyword arguments.\n",
      "Positional arguments ['study_or_trial', 'file_path', 'artifact_store'] in upload_artifact() have been deprecated since v4.0.0. They will be replaced with the corresponding keyword arguments in v6.0.0, so please use the keyword specification instead. See https://github.com/optuna/optuna/releases/tag/v4.0.0 for details.\n",
      "\n",
      "[I 2025-07-26 12:36:21,420] Trial 84 finished with value: 0.33055678322960647 and parameters: {'lambda_l1': 8.892935889625042e-05, 'lambda_l2': 5.277156308705608e-07, 'num_leaves': 161, 'feature_fraction': 0.4469845379642016, 'bagging_fraction': 0.8952676767626303, 'bagging_freq': 3, 'min_child_samples': 11, 'learning_rate': 0.004672634912717014}. Best is trial 70 with value: 0.3800510247133257.\n",
      "/var/folders/tx/rstdr46s2ng5_qbbc6p67xv40000gn/T/ipykernel_48489/3809418348.py:88: FutureWarning:\n",
      "\n",
      "upload_artifact() got {'file_path', 'study_or_trial', 'artifact_store'} as positional arguments but they were expected to be given as keyword arguments.\n",
      "Positional arguments ['study_or_trial', 'file_path', 'artifact_store'] in upload_artifact() have been deprecated since v4.0.0. They will be replaced with the corresponding keyword arguments in v6.0.0, so please use the keyword specification instead. See https://github.com/optuna/optuna/releases/tag/v4.0.0 for details.\n",
      "\n",
      "/var/folders/tx/rstdr46s2ng5_qbbc6p67xv40000gn/T/ipykernel_48489/3809418348.py:100: FutureWarning:\n",
      "\n",
      "upload_artifact() got {'file_path', 'study_or_trial', 'artifact_store'} as positional arguments but they were expected to be given as keyword arguments.\n",
      "Positional arguments ['study_or_trial', 'file_path', 'artifact_store'] in upload_artifact() have been deprecated since v4.0.0. They will be replaced with the corresponding keyword arguments in v6.0.0, so please use the keyword specification instead. See https://github.com/optuna/optuna/releases/tag/v4.0.0 for details.\n",
      "\n",
      "/var/folders/tx/rstdr46s2ng5_qbbc6p67xv40000gn/T/ipykernel_48489/3809418348.py:101: FutureWarning:\n",
      "\n",
      "upload_artifact() got {'file_path', 'study_or_trial', 'artifact_store'} as positional arguments but they were expected to be given as keyword arguments.\n",
      "Positional arguments ['study_or_trial', 'file_path', 'artifact_store'] in upload_artifact() have been deprecated since v4.0.0. They will be replaced with the corresponding keyword arguments in v6.0.0, so please use the keyword specification instead. See https://github.com/optuna/optuna/releases/tag/v4.0.0 for details.\n",
      "\n",
      "[I 2025-07-26 12:36:53,193] Trial 85 finished with value: 0.3681594688731111 and parameters: {'lambda_l1': 0.00030937971313436653, 'lambda_l2': 1.7480972610458395e-06, 'num_leaves': 144, 'feature_fraction': 0.5580465383841837, 'bagging_fraction': 0.9104908697878457, 'bagging_freq': 2, 'min_child_samples': 16, 'learning_rate': 0.03506276624890226}. Best is trial 70 with value: 0.3800510247133257.\n",
      "/var/folders/tx/rstdr46s2ng5_qbbc6p67xv40000gn/T/ipykernel_48489/3809418348.py:88: FutureWarning:\n",
      "\n",
      "upload_artifact() got {'file_path', 'study_or_trial', 'artifact_store'} as positional arguments but they were expected to be given as keyword arguments.\n",
      "Positional arguments ['study_or_trial', 'file_path', 'artifact_store'] in upload_artifact() have been deprecated since v4.0.0. They will be replaced with the corresponding keyword arguments in v6.0.0, so please use the keyword specification instead. See https://github.com/optuna/optuna/releases/tag/v4.0.0 for details.\n",
      "\n",
      "/var/folders/tx/rstdr46s2ng5_qbbc6p67xv40000gn/T/ipykernel_48489/3809418348.py:100: FutureWarning:\n",
      "\n",
      "upload_artifact() got {'file_path', 'study_or_trial', 'artifact_store'} as positional arguments but they were expected to be given as keyword arguments.\n",
      "Positional arguments ['study_or_trial', 'file_path', 'artifact_store'] in upload_artifact() have been deprecated since v4.0.0. They will be replaced with the corresponding keyword arguments in v6.0.0, so please use the keyword specification instead. See https://github.com/optuna/optuna/releases/tag/v4.0.0 for details.\n",
      "\n",
      "/var/folders/tx/rstdr46s2ng5_qbbc6p67xv40000gn/T/ipykernel_48489/3809418348.py:101: FutureWarning:\n",
      "\n",
      "upload_artifact() got {'file_path', 'study_or_trial', 'artifact_store'} as positional arguments but they were expected to be given as keyword arguments.\n",
      "Positional arguments ['study_or_trial', 'file_path', 'artifact_store'] in upload_artifact() have been deprecated since v4.0.0. They will be replaced with the corresponding keyword arguments in v6.0.0, so please use the keyword specification instead. See https://github.com/optuna/optuna/releases/tag/v4.0.0 for details.\n",
      "\n",
      "[I 2025-07-26 12:37:22,719] Trial 86 finished with value: 0.36780970090452 and parameters: {'lambda_l1': 5.320801262075096e-07, 'lambda_l2': 1.0654292628918388e-08, 'num_leaves': 194, 'feature_fraction': 0.42098503980164154, 'bagging_fraction': 0.9804337216447641, 'bagging_freq': 2, 'min_child_samples': 84, 'learning_rate': 0.030516726950320698}. Best is trial 70 with value: 0.3800510247133257.\n",
      "/var/folders/tx/rstdr46s2ng5_qbbc6p67xv40000gn/T/ipykernel_48489/3809418348.py:88: FutureWarning:\n",
      "\n",
      "upload_artifact() got {'file_path', 'study_or_trial', 'artifact_store'} as positional arguments but they were expected to be given as keyword arguments.\n",
      "Positional arguments ['study_or_trial', 'file_path', 'artifact_store'] in upload_artifact() have been deprecated since v4.0.0. They will be replaced with the corresponding keyword arguments in v6.0.0, so please use the keyword specification instead. See https://github.com/optuna/optuna/releases/tag/v4.0.0 for details.\n",
      "\n",
      "/var/folders/tx/rstdr46s2ng5_qbbc6p67xv40000gn/T/ipykernel_48489/3809418348.py:100: FutureWarning:\n",
      "\n",
      "upload_artifact() got {'file_path', 'study_or_trial', 'artifact_store'} as positional arguments but they were expected to be given as keyword arguments.\n",
      "Positional arguments ['study_or_trial', 'file_path', 'artifact_store'] in upload_artifact() have been deprecated since v4.0.0. They will be replaced with the corresponding keyword arguments in v6.0.0, so please use the keyword specification instead. See https://github.com/optuna/optuna/releases/tag/v4.0.0 for details.\n",
      "\n",
      "/var/folders/tx/rstdr46s2ng5_qbbc6p67xv40000gn/T/ipykernel_48489/3809418348.py:101: FutureWarning:\n",
      "\n",
      "upload_artifact() got {'file_path', 'study_or_trial', 'artifact_store'} as positional arguments but they were expected to be given as keyword arguments.\n",
      "Positional arguments ['study_or_trial', 'file_path', 'artifact_store'] in upload_artifact() have been deprecated since v4.0.0. They will be replaced with the corresponding keyword arguments in v6.0.0, so please use the keyword specification instead. See https://github.com/optuna/optuna/releases/tag/v4.0.0 for details.\n",
      "\n",
      "[I 2025-07-26 12:38:05,326] Trial 87 finished with value: 0.3661626457340681 and parameters: {'lambda_l1': 8.250156275230355e-06, 'lambda_l2': 2.520978659371937e-08, 'num_leaves': 153, 'feature_fraction': 0.4602388309755437, 'bagging_fraction': 0.9979419444214872, 'bagging_freq': 3, 'min_child_samples': 19, 'learning_rate': 0.023468543090322064}. Best is trial 70 with value: 0.3800510247133257.\n",
      "/var/folders/tx/rstdr46s2ng5_qbbc6p67xv40000gn/T/ipykernel_48489/3809418348.py:88: FutureWarning:\n",
      "\n",
      "upload_artifact() got {'file_path', 'study_or_trial', 'artifact_store'} as positional arguments but they were expected to be given as keyword arguments.\n",
      "Positional arguments ['study_or_trial', 'file_path', 'artifact_store'] in upload_artifact() have been deprecated since v4.0.0. They will be replaced with the corresponding keyword arguments in v6.0.0, so please use the keyword specification instead. See https://github.com/optuna/optuna/releases/tag/v4.0.0 for details.\n",
      "\n",
      "/var/folders/tx/rstdr46s2ng5_qbbc6p67xv40000gn/T/ipykernel_48489/3809418348.py:100: FutureWarning:\n",
      "\n",
      "upload_artifact() got {'file_path', 'study_or_trial', 'artifact_store'} as positional arguments but they were expected to be given as keyword arguments.\n",
      "Positional arguments ['study_or_trial', 'file_path', 'artifact_store'] in upload_artifact() have been deprecated since v4.0.0. They will be replaced with the corresponding keyword arguments in v6.0.0, so please use the keyword specification instead. See https://github.com/optuna/optuna/releases/tag/v4.0.0 for details.\n",
      "\n",
      "/var/folders/tx/rstdr46s2ng5_qbbc6p67xv40000gn/T/ipykernel_48489/3809418348.py:101: FutureWarning:\n",
      "\n",
      "upload_artifact() got {'file_path', 'study_or_trial', 'artifact_store'} as positional arguments but they were expected to be given as keyword arguments.\n",
      "Positional arguments ['study_or_trial', 'file_path', 'artifact_store'] in upload_artifact() have been deprecated since v4.0.0. They will be replaced with the corresponding keyword arguments in v6.0.0, so please use the keyword specification instead. See https://github.com/optuna/optuna/releases/tag/v4.0.0 for details.\n",
      "\n",
      "[I 2025-07-26 12:39:16,297] Trial 88 finished with value: 0.32682798018244197 and parameters: {'lambda_l1': 0.00015910632248746607, 'lambda_l2': 7.673299848758251e-08, 'num_leaves': 137, 'feature_fraction': 0.5765467416805709, 'bagging_fraction': 0.8468649147031719, 'bagging_freq': 7, 'min_child_samples': 7, 'learning_rate': 0.0031600367433961634}. Best is trial 70 with value: 0.3800510247133257.\n",
      "/var/folders/tx/rstdr46s2ng5_qbbc6p67xv40000gn/T/ipykernel_48489/3809418348.py:88: FutureWarning:\n",
      "\n",
      "upload_artifact() got {'file_path', 'study_or_trial', 'artifact_store'} as positional arguments but they were expected to be given as keyword arguments.\n",
      "Positional arguments ['study_or_trial', 'file_path', 'artifact_store'] in upload_artifact() have been deprecated since v4.0.0. They will be replaced with the corresponding keyword arguments in v6.0.0, so please use the keyword specification instead. See https://github.com/optuna/optuna/releases/tag/v4.0.0 for details.\n",
      "\n",
      "/var/folders/tx/rstdr46s2ng5_qbbc6p67xv40000gn/T/ipykernel_48489/3809418348.py:100: FutureWarning:\n",
      "\n",
      "upload_artifact() got {'file_path', 'study_or_trial', 'artifact_store'} as positional arguments but they were expected to be given as keyword arguments.\n",
      "Positional arguments ['study_or_trial', 'file_path', 'artifact_store'] in upload_artifact() have been deprecated since v4.0.0. They will be replaced with the corresponding keyword arguments in v6.0.0, so please use the keyword specification instead. See https://github.com/optuna/optuna/releases/tag/v4.0.0 for details.\n",
      "\n",
      "/var/folders/tx/rstdr46s2ng5_qbbc6p67xv40000gn/T/ipykernel_48489/3809418348.py:101: FutureWarning:\n",
      "\n",
      "upload_artifact() got {'file_path', 'study_or_trial', 'artifact_store'} as positional arguments but they were expected to be given as keyword arguments.\n",
      "Positional arguments ['study_or_trial', 'file_path', 'artifact_store'] in upload_artifact() have been deprecated since v4.0.0. They will be replaced with the corresponding keyword arguments in v6.0.0, so please use the keyword specification instead. See https://github.com/optuna/optuna/releases/tag/v4.0.0 for details.\n",
      "\n",
      "[I 2025-07-26 12:39:45,845] Trial 89 finished with value: 0.3588681005182109 and parameters: {'lambda_l1': 0.0012812830364791715, 'lambda_l2': 9.437057120661219e-07, 'num_leaves': 119, 'feature_fraction': 0.5296531845928034, 'bagging_fraction': 0.810712542630165, 'bagging_freq': 5, 'min_child_samples': 13, 'learning_rate': 0.02798020722047694}. Best is trial 70 with value: 0.3800510247133257.\n",
      "/var/folders/tx/rstdr46s2ng5_qbbc6p67xv40000gn/T/ipykernel_48489/3809418348.py:88: FutureWarning:\n",
      "\n",
      "upload_artifact() got {'file_path', 'study_or_trial', 'artifact_store'} as positional arguments but they were expected to be given as keyword arguments.\n",
      "Positional arguments ['study_or_trial', 'file_path', 'artifact_store'] in upload_artifact() have been deprecated since v4.0.0. They will be replaced with the corresponding keyword arguments in v6.0.0, so please use the keyword specification instead. See https://github.com/optuna/optuna/releases/tag/v4.0.0 for details.\n",
      "\n",
      "/var/folders/tx/rstdr46s2ng5_qbbc6p67xv40000gn/T/ipykernel_48489/3809418348.py:100: FutureWarning:\n",
      "\n",
      "upload_artifact() got {'file_path', 'study_or_trial', 'artifact_store'} as positional arguments but they were expected to be given as keyword arguments.\n",
      "Positional arguments ['study_or_trial', 'file_path', 'artifact_store'] in upload_artifact() have been deprecated since v4.0.0. They will be replaced with the corresponding keyword arguments in v6.0.0, so please use the keyword specification instead. See https://github.com/optuna/optuna/releases/tag/v4.0.0 for details.\n",
      "\n",
      "/var/folders/tx/rstdr46s2ng5_qbbc6p67xv40000gn/T/ipykernel_48489/3809418348.py:101: FutureWarning:\n",
      "\n",
      "upload_artifact() got {'file_path', 'study_or_trial', 'artifact_store'} as positional arguments but they were expected to be given as keyword arguments.\n",
      "Positional arguments ['study_or_trial', 'file_path', 'artifact_store'] in upload_artifact() have been deprecated since v4.0.0. They will be replaced with the corresponding keyword arguments in v6.0.0, so please use the keyword specification instead. See https://github.com/optuna/optuna/releases/tag/v4.0.0 for details.\n",
      "\n",
      "[I 2025-07-26 12:40:13,555] Trial 90 finished with value: 0.3728962922435315 and parameters: {'lambda_l1': 1.2276505426002027e-06, 'lambda_l2': 1.4908988367351033e-08, 'num_leaves': 105, 'feature_fraction': 0.49868334613483273, 'bagging_fraction': 0.9411468464838064, 'bagging_freq': 2, 'min_child_samples': 49, 'learning_rate': 0.03990744071461491}. Best is trial 70 with value: 0.3800510247133257.\n",
      "/var/folders/tx/rstdr46s2ng5_qbbc6p67xv40000gn/T/ipykernel_48489/3809418348.py:88: FutureWarning:\n",
      "\n",
      "upload_artifact() got {'file_path', 'study_or_trial', 'artifact_store'} as positional arguments but they were expected to be given as keyword arguments.\n",
      "Positional arguments ['study_or_trial', 'file_path', 'artifact_store'] in upload_artifact() have been deprecated since v4.0.0. They will be replaced with the corresponding keyword arguments in v6.0.0, so please use the keyword specification instead. See https://github.com/optuna/optuna/releases/tag/v4.0.0 for details.\n",
      "\n",
      "/var/folders/tx/rstdr46s2ng5_qbbc6p67xv40000gn/T/ipykernel_48489/3809418348.py:100: FutureWarning:\n",
      "\n",
      "upload_artifact() got {'file_path', 'study_or_trial', 'artifact_store'} as positional arguments but they were expected to be given as keyword arguments.\n",
      "Positional arguments ['study_or_trial', 'file_path', 'artifact_store'] in upload_artifact() have been deprecated since v4.0.0. They will be replaced with the corresponding keyword arguments in v6.0.0, so please use the keyword specification instead. See https://github.com/optuna/optuna/releases/tag/v4.0.0 for details.\n",
      "\n",
      "/var/folders/tx/rstdr46s2ng5_qbbc6p67xv40000gn/T/ipykernel_48489/3809418348.py:101: FutureWarning:\n",
      "\n",
      "upload_artifact() got {'file_path', 'study_or_trial', 'artifact_store'} as positional arguments but they were expected to be given as keyword arguments.\n",
      "Positional arguments ['study_or_trial', 'file_path', 'artifact_store'] in upload_artifact() have been deprecated since v4.0.0. They will be replaced with the corresponding keyword arguments in v6.0.0, so please use the keyword specification instead. See https://github.com/optuna/optuna/releases/tag/v4.0.0 for details.\n",
      "\n",
      "[I 2025-07-26 12:40:49,636] Trial 91 finished with value: 0.3712767025585321 and parameters: {'lambda_l1': 0.0019173434780928769, 'lambda_l2': 3.386166703550615e-07, 'num_leaves': 175, 'feature_fraction': 0.5118497538131397, 'bagging_fraction': 0.7935113691188322, 'bagging_freq': 2, 'min_child_samples': 10, 'learning_rate': 0.049222351973945824}. Best is trial 70 with value: 0.3800510247133257.\n",
      "/var/folders/tx/rstdr46s2ng5_qbbc6p67xv40000gn/T/ipykernel_48489/3809418348.py:88: FutureWarning:\n",
      "\n",
      "upload_artifact() got {'file_path', 'study_or_trial', 'artifact_store'} as positional arguments but they were expected to be given as keyword arguments.\n",
      "Positional arguments ['study_or_trial', 'file_path', 'artifact_store'] in upload_artifact() have been deprecated since v4.0.0. They will be replaced with the corresponding keyword arguments in v6.0.0, so please use the keyword specification instead. See https://github.com/optuna/optuna/releases/tag/v4.0.0 for details.\n",
      "\n",
      "/var/folders/tx/rstdr46s2ng5_qbbc6p67xv40000gn/T/ipykernel_48489/3809418348.py:100: FutureWarning:\n",
      "\n",
      "upload_artifact() got {'file_path', 'study_or_trial', 'artifact_store'} as positional arguments but they were expected to be given as keyword arguments.\n",
      "Positional arguments ['study_or_trial', 'file_path', 'artifact_store'] in upload_artifact() have been deprecated since v4.0.0. They will be replaced with the corresponding keyword arguments in v6.0.0, so please use the keyword specification instead. See https://github.com/optuna/optuna/releases/tag/v4.0.0 for details.\n",
      "\n",
      "/var/folders/tx/rstdr46s2ng5_qbbc6p67xv40000gn/T/ipykernel_48489/3809418348.py:101: FutureWarning:\n",
      "\n",
      "upload_artifact() got {'file_path', 'study_or_trial', 'artifact_store'} as positional arguments but they were expected to be given as keyword arguments.\n",
      "Positional arguments ['study_or_trial', 'file_path', 'artifact_store'] in upload_artifact() have been deprecated since v4.0.0. They will be replaced with the corresponding keyword arguments in v6.0.0, so please use the keyword specification instead. See https://github.com/optuna/optuna/releases/tag/v4.0.0 for details.\n",
      "\n",
      "[I 2025-07-26 12:41:27,160] Trial 92 finished with value: 0.3731369510485429 and parameters: {'lambda_l1': 0.0006682129531138433, 'lambda_l2': 2.695368828691275e-08, 'num_leaves': 167, 'feature_fraction': 0.5324891461136787, 'bagging_fraction': 0.9614704519133287, 'bagging_freq': 7, 'min_child_samples': 24, 'learning_rate': 0.03393035878542736}. Best is trial 70 with value: 0.3800510247133257.\n",
      "/var/folders/tx/rstdr46s2ng5_qbbc6p67xv40000gn/T/ipykernel_48489/3809418348.py:88: FutureWarning:\n",
      "\n",
      "upload_artifact() got {'file_path', 'study_or_trial', 'artifact_store'} as positional arguments but they were expected to be given as keyword arguments.\n",
      "Positional arguments ['study_or_trial', 'file_path', 'artifact_store'] in upload_artifact() have been deprecated since v4.0.0. They will be replaced with the corresponding keyword arguments in v6.0.0, so please use the keyword specification instead. See https://github.com/optuna/optuna/releases/tag/v4.0.0 for details.\n",
      "\n",
      "/var/folders/tx/rstdr46s2ng5_qbbc6p67xv40000gn/T/ipykernel_48489/3809418348.py:100: FutureWarning:\n",
      "\n",
      "upload_artifact() got {'file_path', 'study_or_trial', 'artifact_store'} as positional arguments but they were expected to be given as keyword arguments.\n",
      "Positional arguments ['study_or_trial', 'file_path', 'artifact_store'] in upload_artifact() have been deprecated since v4.0.0. They will be replaced with the corresponding keyword arguments in v6.0.0, so please use the keyword specification instead. See https://github.com/optuna/optuna/releases/tag/v4.0.0 for details.\n",
      "\n",
      "/var/folders/tx/rstdr46s2ng5_qbbc6p67xv40000gn/T/ipykernel_48489/3809418348.py:101: FutureWarning:\n",
      "\n",
      "upload_artifact() got {'file_path', 'study_or_trial', 'artifact_store'} as positional arguments but they were expected to be given as keyword arguments.\n",
      "Positional arguments ['study_or_trial', 'file_path', 'artifact_store'] in upload_artifact() have been deprecated since v4.0.0. They will be replaced with the corresponding keyword arguments in v6.0.0, so please use the keyword specification instead. See https://github.com/optuna/optuna/releases/tag/v4.0.0 for details.\n",
      "\n",
      "[I 2025-07-26 12:42:02,525] Trial 93 finished with value: 0.3720199892384647 and parameters: {'lambda_l1': 0.00026858569038371765, 'lambda_l2': 9.790560979487455e-08, 'num_leaves': 151, 'feature_fraction': 0.5499294319766128, 'bagging_fraction': 0.949824009252894, 'bagging_freq': 7, 'min_child_samples': 20, 'learning_rate': 0.03241012169905102}. Best is trial 70 with value: 0.3800510247133257.\n",
      "/var/folders/tx/rstdr46s2ng5_qbbc6p67xv40000gn/T/ipykernel_48489/3809418348.py:88: FutureWarning:\n",
      "\n",
      "upload_artifact() got {'file_path', 'study_or_trial', 'artifact_store'} as positional arguments but they were expected to be given as keyword arguments.\n",
      "Positional arguments ['study_or_trial', 'file_path', 'artifact_store'] in upload_artifact() have been deprecated since v4.0.0. They will be replaced with the corresponding keyword arguments in v6.0.0, so please use the keyword specification instead. See https://github.com/optuna/optuna/releases/tag/v4.0.0 for details.\n",
      "\n",
      "/var/folders/tx/rstdr46s2ng5_qbbc6p67xv40000gn/T/ipykernel_48489/3809418348.py:100: FutureWarning:\n",
      "\n",
      "upload_artifact() got {'file_path', 'study_or_trial', 'artifact_store'} as positional arguments but they were expected to be given as keyword arguments.\n",
      "Positional arguments ['study_or_trial', 'file_path', 'artifact_store'] in upload_artifact() have been deprecated since v4.0.0. They will be replaced with the corresponding keyword arguments in v6.0.0, so please use the keyword specification instead. See https://github.com/optuna/optuna/releases/tag/v4.0.0 for details.\n",
      "\n",
      "/var/folders/tx/rstdr46s2ng5_qbbc6p67xv40000gn/T/ipykernel_48489/3809418348.py:101: FutureWarning:\n",
      "\n",
      "upload_artifact() got {'file_path', 'study_or_trial', 'artifact_store'} as positional arguments but they were expected to be given as keyword arguments.\n",
      "Positional arguments ['study_or_trial', 'file_path', 'artifact_store'] in upload_artifact() have been deprecated since v4.0.0. They will be replaced with the corresponding keyword arguments in v6.0.0, so please use the keyword specification instead. See https://github.com/optuna/optuna/releases/tag/v4.0.0 for details.\n",
      "\n",
      "[I 2025-07-26 12:42:38,523] Trial 94 finished with value: 0.37033192569200435 and parameters: {'lambda_l1': 3.0394682134013917e-05, 'lambda_l2': 4.91379609742626e-08, 'num_leaves': 161, 'feature_fraction': 0.4814380861442709, 'bagging_fraction': 0.9718354052985672, 'bagging_freq': 7, 'min_child_samples': 37, 'learning_rate': 0.04375804887465541}. Best is trial 70 with value: 0.3800510247133257.\n",
      "/var/folders/tx/rstdr46s2ng5_qbbc6p67xv40000gn/T/ipykernel_48489/3809418348.py:88: FutureWarning:\n",
      "\n",
      "upload_artifact() got {'file_path', 'study_or_trial', 'artifact_store'} as positional arguments but they were expected to be given as keyword arguments.\n",
      "Positional arguments ['study_or_trial', 'file_path', 'artifact_store'] in upload_artifact() have been deprecated since v4.0.0. They will be replaced with the corresponding keyword arguments in v6.0.0, so please use the keyword specification instead. See https://github.com/optuna/optuna/releases/tag/v4.0.0 for details.\n",
      "\n",
      "/var/folders/tx/rstdr46s2ng5_qbbc6p67xv40000gn/T/ipykernel_48489/3809418348.py:100: FutureWarning:\n",
      "\n",
      "upload_artifact() got {'file_path', 'study_or_trial', 'artifact_store'} as positional arguments but they were expected to be given as keyword arguments.\n",
      "Positional arguments ['study_or_trial', 'file_path', 'artifact_store'] in upload_artifact() have been deprecated since v4.0.0. They will be replaced with the corresponding keyword arguments in v6.0.0, so please use the keyword specification instead. See https://github.com/optuna/optuna/releases/tag/v4.0.0 for details.\n",
      "\n",
      "/var/folders/tx/rstdr46s2ng5_qbbc6p67xv40000gn/T/ipykernel_48489/3809418348.py:101: FutureWarning:\n",
      "\n",
      "upload_artifact() got {'file_path', 'study_or_trial', 'artifact_store'} as positional arguments but they were expected to be given as keyword arguments.\n",
      "Positional arguments ['study_or_trial', 'file_path', 'artifact_store'] in upload_artifact() have been deprecated since v4.0.0. They will be replaced with the corresponding keyword arguments in v6.0.0, so please use the keyword specification instead. See https://github.com/optuna/optuna/releases/tag/v4.0.0 for details.\n",
      "\n",
      "[I 2025-07-26 12:43:13,447] Trial 95 finished with value: 0.3615573521005797 and parameters: {'lambda_l1': 7.73938242150881e-05, 'lambda_l2': 1.810906081172301e-08, 'num_leaves': 168, 'feature_fraction': 0.5384165279041557, 'bagging_fraction': 0.8891344440248452, 'bagging_freq': 6, 'min_child_samples': 34, 'learning_rate': 0.02613023345506183}. Best is trial 70 with value: 0.3800510247133257.\n",
      "/var/folders/tx/rstdr46s2ng5_qbbc6p67xv40000gn/T/ipykernel_48489/3809418348.py:88: FutureWarning:\n",
      "\n",
      "upload_artifact() got {'file_path', 'study_or_trial', 'artifact_store'} as positional arguments but they were expected to be given as keyword arguments.\n",
      "Positional arguments ['study_or_trial', 'file_path', 'artifact_store'] in upload_artifact() have been deprecated since v4.0.0. They will be replaced with the corresponding keyword arguments in v6.0.0, so please use the keyword specification instead. See https://github.com/optuna/optuna/releases/tag/v4.0.0 for details.\n",
      "\n",
      "/var/folders/tx/rstdr46s2ng5_qbbc6p67xv40000gn/T/ipykernel_48489/3809418348.py:100: FutureWarning:\n",
      "\n",
      "upload_artifact() got {'file_path', 'study_or_trial', 'artifact_store'} as positional arguments but they were expected to be given as keyword arguments.\n",
      "Positional arguments ['study_or_trial', 'file_path', 'artifact_store'] in upload_artifact() have been deprecated since v4.0.0. They will be replaced with the corresponding keyword arguments in v6.0.0, so please use the keyword specification instead. See https://github.com/optuna/optuna/releases/tag/v4.0.0 for details.\n",
      "\n",
      "/var/folders/tx/rstdr46s2ng5_qbbc6p67xv40000gn/T/ipykernel_48489/3809418348.py:101: FutureWarning:\n",
      "\n",
      "upload_artifact() got {'file_path', 'study_or_trial', 'artifact_store'} as positional arguments but they were expected to be given as keyword arguments.\n",
      "Positional arguments ['study_or_trial', 'file_path', 'artifact_store'] in upload_artifact() have been deprecated since v4.0.0. They will be replaced with the corresponding keyword arguments in v6.0.0, so please use the keyword specification instead. See https://github.com/optuna/optuna/releases/tag/v4.0.0 for details.\n",
      "\n",
      "[I 2025-07-26 12:43:35,978] Trial 96 finished with value: 0.36514015956073925 and parameters: {'lambda_l1': 1.1656800850039762e-07, 'lambda_l2': 2.136059002165366e-07, 'num_leaves': 136, 'feature_fraction': 0.681621553384918, 'bagging_fraction': 0.9138006651116873, 'bagging_freq': 7, 'min_child_samples': 7, 'learning_rate': 0.03687724599387639}. Best is trial 70 with value: 0.3800510247133257.\n",
      "/var/folders/tx/rstdr46s2ng5_qbbc6p67xv40000gn/T/ipykernel_48489/3809418348.py:88: FutureWarning:\n",
      "\n",
      "upload_artifact() got {'file_path', 'study_or_trial', 'artifact_store'} as positional arguments but they were expected to be given as keyword arguments.\n",
      "Positional arguments ['study_or_trial', 'file_path', 'artifact_store'] in upload_artifact() have been deprecated since v4.0.0. They will be replaced with the corresponding keyword arguments in v6.0.0, so please use the keyword specification instead. See https://github.com/optuna/optuna/releases/tag/v4.0.0 for details.\n",
      "\n",
      "/var/folders/tx/rstdr46s2ng5_qbbc6p67xv40000gn/T/ipykernel_48489/3809418348.py:100: FutureWarning:\n",
      "\n",
      "upload_artifact() got {'file_path', 'study_or_trial', 'artifact_store'} as positional arguments but they were expected to be given as keyword arguments.\n",
      "Positional arguments ['study_or_trial', 'file_path', 'artifact_store'] in upload_artifact() have been deprecated since v4.0.0. They will be replaced with the corresponding keyword arguments in v6.0.0, so please use the keyword specification instead. See https://github.com/optuna/optuna/releases/tag/v4.0.0 for details.\n",
      "\n",
      "/var/folders/tx/rstdr46s2ng5_qbbc6p67xv40000gn/T/ipykernel_48489/3809418348.py:101: FutureWarning:\n",
      "\n",
      "upload_artifact() got {'file_path', 'study_or_trial', 'artifact_store'} as positional arguments but they were expected to be given as keyword arguments.\n",
      "Positional arguments ['study_or_trial', 'file_path', 'artifact_store'] in upload_artifact() have been deprecated since v4.0.0. They will be replaced with the corresponding keyword arguments in v6.0.0, so please use the keyword specification instead. See https://github.com/optuna/optuna/releases/tag/v4.0.0 for details.\n",
      "\n",
      "[I 2025-07-26 12:44:24,758] Trial 97 finished with value: 0.36833324394790273 and parameters: {'lambda_l1': 0.00014746046018970546, 'lambda_l2': 2.6274579328534937e-08, 'num_leaves': 156, 'feature_fraction': 0.5712440088140309, 'bagging_fraction': 0.9257857744289143, 'bagging_freq': 1, 'min_child_samples': 17, 'learning_rate': 0.031175709629221744}. Best is trial 70 with value: 0.3800510247133257.\n",
      "/var/folders/tx/rstdr46s2ng5_qbbc6p67xv40000gn/T/ipykernel_48489/3809418348.py:88: FutureWarning:\n",
      "\n",
      "upload_artifact() got {'file_path', 'study_or_trial', 'artifact_store'} as positional arguments but they were expected to be given as keyword arguments.\n",
      "Positional arguments ['study_or_trial', 'file_path', 'artifact_store'] in upload_artifact() have been deprecated since v4.0.0. They will be replaced with the corresponding keyword arguments in v6.0.0, so please use the keyword specification instead. See https://github.com/optuna/optuna/releases/tag/v4.0.0 for details.\n",
      "\n",
      "/var/folders/tx/rstdr46s2ng5_qbbc6p67xv40000gn/T/ipykernel_48489/3809418348.py:100: FutureWarning:\n",
      "\n",
      "upload_artifact() got {'file_path', 'study_or_trial', 'artifact_store'} as positional arguments but they were expected to be given as keyword arguments.\n",
      "Positional arguments ['study_or_trial', 'file_path', 'artifact_store'] in upload_artifact() have been deprecated since v4.0.0. They will be replaced with the corresponding keyword arguments in v6.0.0, so please use the keyword specification instead. See https://github.com/optuna/optuna/releases/tag/v4.0.0 for details.\n",
      "\n",
      "/var/folders/tx/rstdr46s2ng5_qbbc6p67xv40000gn/T/ipykernel_48489/3809418348.py:101: FutureWarning:\n",
      "\n",
      "upload_artifact() got {'file_path', 'study_or_trial', 'artifact_store'} as positional arguments but they were expected to be given as keyword arguments.\n",
      "Positional arguments ['study_or_trial', 'file_path', 'artifact_store'] in upload_artifact() have been deprecated since v4.0.0. They will be replaced with the corresponding keyword arguments in v6.0.0, so please use the keyword specification instead. See https://github.com/optuna/optuna/releases/tag/v4.0.0 for details.\n",
      "\n",
      "[I 2025-07-26 12:44:53,921] Trial 98 finished with value: 0.37595614744478356 and parameters: {'lambda_l1': 0.013917960973225054, 'lambda_l2': 1.4889682885873907e-07, 'num_leaves': 124, 'feature_fraction': 0.7362995065967295, 'bagging_fraction': 0.9559861719076261, 'bagging_freq': 6, 'min_child_samples': 14, 'learning_rate': 0.055659107274668884}. Best is trial 70 with value: 0.3800510247133257.\n",
      "/var/folders/tx/rstdr46s2ng5_qbbc6p67xv40000gn/T/ipykernel_48489/3809418348.py:88: FutureWarning:\n",
      "\n",
      "upload_artifact() got {'file_path', 'study_or_trial', 'artifact_store'} as positional arguments but they were expected to be given as keyword arguments.\n",
      "Positional arguments ['study_or_trial', 'file_path', 'artifact_store'] in upload_artifact() have been deprecated since v4.0.0. They will be replaced with the corresponding keyword arguments in v6.0.0, so please use the keyword specification instead. See https://github.com/optuna/optuna/releases/tag/v4.0.0 for details.\n",
      "\n",
      "/var/folders/tx/rstdr46s2ng5_qbbc6p67xv40000gn/T/ipykernel_48489/3809418348.py:100: FutureWarning:\n",
      "\n",
      "upload_artifact() got {'file_path', 'study_or_trial', 'artifact_store'} as positional arguments but they were expected to be given as keyword arguments.\n",
      "Positional arguments ['study_or_trial', 'file_path', 'artifact_store'] in upload_artifact() have been deprecated since v4.0.0. They will be replaced with the corresponding keyword arguments in v6.0.0, so please use the keyword specification instead. See https://github.com/optuna/optuna/releases/tag/v4.0.0 for details.\n",
      "\n",
      "/var/folders/tx/rstdr46s2ng5_qbbc6p67xv40000gn/T/ipykernel_48489/3809418348.py:101: FutureWarning:\n",
      "\n",
      "upload_artifact() got {'file_path', 'study_or_trial', 'artifact_store'} as positional arguments but they were expected to be given as keyword arguments.\n",
      "Positional arguments ['study_or_trial', 'file_path', 'artifact_store'] in upload_artifact() have been deprecated since v4.0.0. They will be replaced with the corresponding keyword arguments in v6.0.0, so please use the keyword specification instead. See https://github.com/optuna/optuna/releases/tag/v4.0.0 for details.\n",
      "\n",
      "[I 2025-07-26 12:45:15,349] Trial 99 finished with value: 0.36879791748306257 and parameters: {'lambda_l1': 0.013143249125771353, 'lambda_l2': 1.7312889571172764e-07, 'num_leaves': 125, 'feature_fraction': 0.7295584272328045, 'bagging_fraction': 0.7553596206368558, 'bagging_freq': 6, 'min_child_samples': 12, 'learning_rate': 0.057383503502441494}. Best is trial 70 with value: 0.3800510247133257.\n",
      "/var/folders/tx/rstdr46s2ng5_qbbc6p67xv40000gn/T/ipykernel_48489/3809418348.py:88: FutureWarning:\n",
      "\n",
      "upload_artifact() got {'file_path', 'study_or_trial', 'artifact_store'} as positional arguments but they were expected to be given as keyword arguments.\n",
      "Positional arguments ['study_or_trial', 'file_path', 'artifact_store'] in upload_artifact() have been deprecated since v4.0.0. They will be replaced with the corresponding keyword arguments in v6.0.0, so please use the keyword specification instead. See https://github.com/optuna/optuna/releases/tag/v4.0.0 for details.\n",
      "\n",
      "/var/folders/tx/rstdr46s2ng5_qbbc6p67xv40000gn/T/ipykernel_48489/3809418348.py:100: FutureWarning:\n",
      "\n",
      "upload_artifact() got {'file_path', 'study_or_trial', 'artifact_store'} as positional arguments but they were expected to be given as keyword arguments.\n",
      "Positional arguments ['study_or_trial', 'file_path', 'artifact_store'] in upload_artifact() have been deprecated since v4.0.0. They will be replaced with the corresponding keyword arguments in v6.0.0, so please use the keyword specification instead. See https://github.com/optuna/optuna/releases/tag/v4.0.0 for details.\n",
      "\n",
      "/var/folders/tx/rstdr46s2ng5_qbbc6p67xv40000gn/T/ipykernel_48489/3809418348.py:101: FutureWarning:\n",
      "\n",
      "upload_artifact() got {'file_path', 'study_or_trial', 'artifact_store'} as positional arguments but they were expected to be given as keyword arguments.\n",
      "Positional arguments ['study_or_trial', 'file_path', 'artifact_store'] in upload_artifact() have been deprecated since v4.0.0. They will be replaced with the corresponding keyword arguments in v6.0.0, so please use the keyword specification instead. See https://github.com/optuna/optuna/releases/tag/v4.0.0 for details.\n",
      "\n",
      "[I 2025-07-26 12:45:35,850] Trial 100 finished with value: 0.36015723876146166 and parameters: {'lambda_l1': 0.0024550435300763037, 'lambda_l2': 2.24871983294881e-06, 'num_leaves': 113, 'feature_fraction': 0.7948789595922048, 'bagging_fraction': 0.7279606751426302, 'bagging_freq': 3, 'min_child_samples': 7, 'learning_rate': 0.05326910068745438}. Best is trial 70 with value: 0.3800510247133257.\n",
      "/var/folders/tx/rstdr46s2ng5_qbbc6p67xv40000gn/T/ipykernel_48489/3809418348.py:88: FutureWarning:\n",
      "\n",
      "upload_artifact() got {'file_path', 'study_or_trial', 'artifact_store'} as positional arguments but they were expected to be given as keyword arguments.\n",
      "Positional arguments ['study_or_trial', 'file_path', 'artifact_store'] in upload_artifact() have been deprecated since v4.0.0. They will be replaced with the corresponding keyword arguments in v6.0.0, so please use the keyword specification instead. See https://github.com/optuna/optuna/releases/tag/v4.0.0 for details.\n",
      "\n",
      "/var/folders/tx/rstdr46s2ng5_qbbc6p67xv40000gn/T/ipykernel_48489/3809418348.py:100: FutureWarning:\n",
      "\n",
      "upload_artifact() got {'file_path', 'study_or_trial', 'artifact_store'} as positional arguments but they were expected to be given as keyword arguments.\n",
      "Positional arguments ['study_or_trial', 'file_path', 'artifact_store'] in upload_artifact() have been deprecated since v4.0.0. They will be replaced with the corresponding keyword arguments in v6.0.0, so please use the keyword specification instead. See https://github.com/optuna/optuna/releases/tag/v4.0.0 for details.\n",
      "\n",
      "/var/folders/tx/rstdr46s2ng5_qbbc6p67xv40000gn/T/ipykernel_48489/3809418348.py:101: FutureWarning:\n",
      "\n",
      "upload_artifact() got {'file_path', 'study_or_trial', 'artifact_store'} as positional arguments but they were expected to be given as keyword arguments.\n",
      "Positional arguments ['study_or_trial', 'file_path', 'artifact_store'] in upload_artifact() have been deprecated since v4.0.0. They will be replaced with the corresponding keyword arguments in v6.0.0, so please use the keyword specification instead. See https://github.com/optuna/optuna/releases/tag/v4.0.0 for details.\n",
      "\n",
      "[I 2025-07-26 12:46:10,489] Trial 101 finished with value: 0.36855600062212307 and parameters: {'lambda_l1': 0.0049814728373157955, 'lambda_l2': 4.736372089340407e-06, 'num_leaves': 141, 'feature_fraction': 0.7692709607730733, 'bagging_fraction': 0.8730202067073103, 'bagging_freq': 5, 'min_child_samples': 15, 'learning_rate': 0.04536801706234868}. Best is trial 70 with value: 0.3800510247133257.\n",
      "/var/folders/tx/rstdr46s2ng5_qbbc6p67xv40000gn/T/ipykernel_48489/3809418348.py:88: FutureWarning:\n",
      "\n",
      "upload_artifact() got {'file_path', 'study_or_trial', 'artifact_store'} as positional arguments but they were expected to be given as keyword arguments.\n",
      "Positional arguments ['study_or_trial', 'file_path', 'artifact_store'] in upload_artifact() have been deprecated since v4.0.0. They will be replaced with the corresponding keyword arguments in v6.0.0, so please use the keyword specification instead. See https://github.com/optuna/optuna/releases/tag/v4.0.0 for details.\n",
      "\n",
      "/var/folders/tx/rstdr46s2ng5_qbbc6p67xv40000gn/T/ipykernel_48489/3809418348.py:100: FutureWarning:\n",
      "\n",
      "upload_artifact() got {'file_path', 'study_or_trial', 'artifact_store'} as positional arguments but they were expected to be given as keyword arguments.\n",
      "Positional arguments ['study_or_trial', 'file_path', 'artifact_store'] in upload_artifact() have been deprecated since v4.0.0. They will be replaced with the corresponding keyword arguments in v6.0.0, so please use the keyword specification instead. See https://github.com/optuna/optuna/releases/tag/v4.0.0 for details.\n",
      "\n",
      "/var/folders/tx/rstdr46s2ng5_qbbc6p67xv40000gn/T/ipykernel_48489/3809418348.py:101: FutureWarning:\n",
      "\n",
      "upload_artifact() got {'file_path', 'study_or_trial', 'artifact_store'} as positional arguments but they were expected to be given as keyword arguments.\n",
      "Positional arguments ['study_or_trial', 'file_path', 'artifact_store'] in upload_artifact() have been deprecated since v4.0.0. They will be replaced with the corresponding keyword arguments in v6.0.0, so please use the keyword specification instead. See https://github.com/optuna/optuna/releases/tag/v4.0.0 for details.\n",
      "\n",
      "[I 2025-07-26 12:46:34,881] Trial 102 finished with value: 0.36498415921485394 and parameters: {'lambda_l1': 0.044147978735743665, 'lambda_l2': 9.039238751004808e-08, 'num_leaves': 131, 'feature_fraction': 0.7261676680146273, 'bagging_fraction': 0.8228936043977394, 'bagging_freq': 7, 'min_child_samples': 14, 'learning_rate': 0.04143659229995482}. Best is trial 70 with value: 0.3800510247133257.\n",
      "/var/folders/tx/rstdr46s2ng5_qbbc6p67xv40000gn/T/ipykernel_48489/3809418348.py:88: FutureWarning:\n",
      "\n",
      "upload_artifact() got {'file_path', 'study_or_trial', 'artifact_store'} as positional arguments but they were expected to be given as keyword arguments.\n",
      "Positional arguments ['study_or_trial', 'file_path', 'artifact_store'] in upload_artifact() have been deprecated since v4.0.0. They will be replaced with the corresponding keyword arguments in v6.0.0, so please use the keyword specification instead. See https://github.com/optuna/optuna/releases/tag/v4.0.0 for details.\n",
      "\n",
      "/var/folders/tx/rstdr46s2ng5_qbbc6p67xv40000gn/T/ipykernel_48489/3809418348.py:100: FutureWarning:\n",
      "\n",
      "upload_artifact() got {'file_path', 'study_or_trial', 'artifact_store'} as positional arguments but they were expected to be given as keyword arguments.\n",
      "Positional arguments ['study_or_trial', 'file_path', 'artifact_store'] in upload_artifact() have been deprecated since v4.0.0. They will be replaced with the corresponding keyword arguments in v6.0.0, so please use the keyword specification instead. See https://github.com/optuna/optuna/releases/tag/v4.0.0 for details.\n",
      "\n",
      "/var/folders/tx/rstdr46s2ng5_qbbc6p67xv40000gn/T/ipykernel_48489/3809418348.py:101: FutureWarning:\n",
      "\n",
      "upload_artifact() got {'file_path', 'study_or_trial', 'artifact_store'} as positional arguments but they were expected to be given as keyword arguments.\n",
      "Positional arguments ['study_or_trial', 'file_path', 'artifact_store'] in upload_artifact() have been deprecated since v4.0.0. They will be replaced with the corresponding keyword arguments in v6.0.0, so please use the keyword specification instead. See https://github.com/optuna/optuna/releases/tag/v4.0.0 for details.\n",
      "\n",
      "[I 2025-07-26 12:47:05,576] Trial 103 finished with value: 0.3615589237256545 and parameters: {'lambda_l1': 0.09401627556847121, 'lambda_l2': 3.747529917165611e-08, 'num_leaves': 182, 'feature_fraction': 0.512222604924552, 'bagging_fraction': 0.9528781216137328, 'bagging_freq': 7, 'min_child_samples': 27, 'learning_rate': 0.07593101350681303}. Best is trial 70 with value: 0.3800510247133257.\n",
      "/var/folders/tx/rstdr46s2ng5_qbbc6p67xv40000gn/T/ipykernel_48489/3809418348.py:88: FutureWarning:\n",
      "\n",
      "upload_artifact() got {'file_path', 'study_or_trial', 'artifact_store'} as positional arguments but they were expected to be given as keyword arguments.\n",
      "Positional arguments ['study_or_trial', 'file_path', 'artifact_store'] in upload_artifact() have been deprecated since v4.0.0. They will be replaced with the corresponding keyword arguments in v6.0.0, so please use the keyword specification instead. See https://github.com/optuna/optuna/releases/tag/v4.0.0 for details.\n",
      "\n",
      "/var/folders/tx/rstdr46s2ng5_qbbc6p67xv40000gn/T/ipykernel_48489/3809418348.py:100: FutureWarning:\n",
      "\n",
      "upload_artifact() got {'file_path', 'study_or_trial', 'artifact_store'} as positional arguments but they were expected to be given as keyword arguments.\n",
      "Positional arguments ['study_or_trial', 'file_path', 'artifact_store'] in upload_artifact() have been deprecated since v4.0.0. They will be replaced with the corresponding keyword arguments in v6.0.0, so please use the keyword specification instead. See https://github.com/optuna/optuna/releases/tag/v4.0.0 for details.\n",
      "\n",
      "/var/folders/tx/rstdr46s2ng5_qbbc6p67xv40000gn/T/ipykernel_48489/3809418348.py:101: FutureWarning:\n",
      "\n",
      "upload_artifact() got {'file_path', 'study_or_trial', 'artifact_store'} as positional arguments but they were expected to be given as keyword arguments.\n",
      "Positional arguments ['study_or_trial', 'file_path', 'artifact_store'] in upload_artifact() have been deprecated since v4.0.0. They will be replaced with the corresponding keyword arguments in v6.0.0, so please use the keyword specification instead. See https://github.com/optuna/optuna/releases/tag/v4.0.0 for details.\n",
      "\n",
      "[I 2025-07-26 12:47:42,974] Trial 104 finished with value: 0.37538381789041797 and parameters: {'lambda_l1': 0.00041633242002628453, 'lambda_l2': 1.4363691927358625e-08, 'num_leaves': 148, 'feature_fraction': 0.6134817618145791, 'bagging_fraction': 0.9877954206279876, 'bagging_freq': 6, 'min_child_samples': 22, 'learning_rate': 0.029442437414331828}. Best is trial 70 with value: 0.3800510247133257.\n",
      "/var/folders/tx/rstdr46s2ng5_qbbc6p67xv40000gn/T/ipykernel_48489/3809418348.py:88: FutureWarning:\n",
      "\n",
      "upload_artifact() got {'file_path', 'study_or_trial', 'artifact_store'} as positional arguments but they were expected to be given as keyword arguments.\n",
      "Positional arguments ['study_or_trial', 'file_path', 'artifact_store'] in upload_artifact() have been deprecated since v4.0.0. They will be replaced with the corresponding keyword arguments in v6.0.0, so please use the keyword specification instead. See https://github.com/optuna/optuna/releases/tag/v4.0.0 for details.\n",
      "\n",
      "/var/folders/tx/rstdr46s2ng5_qbbc6p67xv40000gn/T/ipykernel_48489/3809418348.py:100: FutureWarning:\n",
      "\n",
      "upload_artifact() got {'file_path', 'study_or_trial', 'artifact_store'} as positional arguments but they were expected to be given as keyword arguments.\n",
      "Positional arguments ['study_or_trial', 'file_path', 'artifact_store'] in upload_artifact() have been deprecated since v4.0.0. They will be replaced with the corresponding keyword arguments in v6.0.0, so please use the keyword specification instead. See https://github.com/optuna/optuna/releases/tag/v4.0.0 for details.\n",
      "\n",
      "/var/folders/tx/rstdr46s2ng5_qbbc6p67xv40000gn/T/ipykernel_48489/3809418348.py:101: FutureWarning:\n",
      "\n",
      "upload_artifact() got {'file_path', 'study_or_trial', 'artifact_store'} as positional arguments but they were expected to be given as keyword arguments.\n",
      "Positional arguments ['study_or_trial', 'file_path', 'artifact_store'] in upload_artifact() have been deprecated since v4.0.0. They will be replaced with the corresponding keyword arguments in v6.0.0, so please use the keyword specification instead. See https://github.com/optuna/optuna/releases/tag/v4.0.0 for details.\n",
      "\n",
      "[I 2025-07-26 12:48:07,143] Trial 105 finished with value: 0.36101061764831066 and parameters: {'lambda_l1': 0.3118771415130214, 'lambda_l2': 1.558266817192549e-08, 'num_leaves': 147, 'feature_fraction': 0.6369883531393074, 'bagging_fraction': 0.9857775307438912, 'bagging_freq': 5, 'min_child_samples': 64, 'learning_rate': 0.028540446311526507}. Best is trial 70 with value: 0.3800510247133257.\n",
      "/var/folders/tx/rstdr46s2ng5_qbbc6p67xv40000gn/T/ipykernel_48489/3809418348.py:88: FutureWarning:\n",
      "\n",
      "upload_artifact() got {'file_path', 'study_or_trial', 'artifact_store'} as positional arguments but they were expected to be given as keyword arguments.\n",
      "Positional arguments ['study_or_trial', 'file_path', 'artifact_store'] in upload_artifact() have been deprecated since v4.0.0. They will be replaced with the corresponding keyword arguments in v6.0.0, so please use the keyword specification instead. See https://github.com/optuna/optuna/releases/tag/v4.0.0 for details.\n",
      "\n",
      "/var/folders/tx/rstdr46s2ng5_qbbc6p67xv40000gn/T/ipykernel_48489/3809418348.py:100: FutureWarning:\n",
      "\n",
      "upload_artifact() got {'file_path', 'study_or_trial', 'artifact_store'} as positional arguments but they were expected to be given as keyword arguments.\n",
      "Positional arguments ['study_or_trial', 'file_path', 'artifact_store'] in upload_artifact() have been deprecated since v4.0.0. They will be replaced with the corresponding keyword arguments in v6.0.0, so please use the keyword specification instead. See https://github.com/optuna/optuna/releases/tag/v4.0.0 for details.\n",
      "\n",
      "/var/folders/tx/rstdr46s2ng5_qbbc6p67xv40000gn/T/ipykernel_48489/3809418348.py:101: FutureWarning:\n",
      "\n",
      "upload_artifact() got {'file_path', 'study_or_trial', 'artifact_store'} as positional arguments but they were expected to be given as keyword arguments.\n",
      "Positional arguments ['study_or_trial', 'file_path', 'artifact_store'] in upload_artifact() have been deprecated since v4.0.0. They will be replaced with the corresponding keyword arguments in v6.0.0, so please use the keyword specification instead. See https://github.com/optuna/optuna/releases/tag/v4.0.0 for details.\n",
      "\n",
      "[I 2025-07-26 12:48:46,139] Trial 106 finished with value: 0.36476387184775516 and parameters: {'lambda_l1': 0.000369517649502307, 'lambda_l2': 5.6438067544116195e-08, 'num_leaves': 121, 'feature_fraction': 0.59504647835311, 'bagging_fraction': 0.9999249183859821, 'bagging_freq': 6, 'min_child_samples': 10, 'learning_rate': 0.02080941354769792}. Best is trial 70 with value: 0.3800510247133257.\n",
      "/var/folders/tx/rstdr46s2ng5_qbbc6p67xv40000gn/T/ipykernel_48489/3809418348.py:88: FutureWarning:\n",
      "\n",
      "upload_artifact() got {'file_path', 'study_or_trial', 'artifact_store'} as positional arguments but they were expected to be given as keyword arguments.\n",
      "Positional arguments ['study_or_trial', 'file_path', 'artifact_store'] in upload_artifact() have been deprecated since v4.0.0. They will be replaced with the corresponding keyword arguments in v6.0.0, so please use the keyword specification instead. See https://github.com/optuna/optuna/releases/tag/v4.0.0 for details.\n",
      "\n",
      "/var/folders/tx/rstdr46s2ng5_qbbc6p67xv40000gn/T/ipykernel_48489/3809418348.py:100: FutureWarning:\n",
      "\n",
      "upload_artifact() got {'file_path', 'study_or_trial', 'artifact_store'} as positional arguments but they were expected to be given as keyword arguments.\n",
      "Positional arguments ['study_or_trial', 'file_path', 'artifact_store'] in upload_artifact() have been deprecated since v4.0.0. They will be replaced with the corresponding keyword arguments in v6.0.0, so please use the keyword specification instead. See https://github.com/optuna/optuna/releases/tag/v4.0.0 for details.\n",
      "\n",
      "/var/folders/tx/rstdr46s2ng5_qbbc6p67xv40000gn/T/ipykernel_48489/3809418348.py:101: FutureWarning:\n",
      "\n",
      "upload_artifact() got {'file_path', 'study_or_trial', 'artifact_store'} as positional arguments but they were expected to be given as keyword arguments.\n",
      "Positional arguments ['study_or_trial', 'file_path', 'artifact_store'] in upload_artifact() have been deprecated since v4.0.0. They will be replaced with the corresponding keyword arguments in v6.0.0, so please use the keyword specification instead. See https://github.com/optuna/optuna/releases/tag/v4.0.0 for details.\n",
      "\n",
      "[I 2025-07-26 12:49:17,997] Trial 107 finished with value: 0.3645883140447048 and parameters: {'lambda_l1': 0.024504978096993597, 'lambda_l2': 4.156620521379094e-07, 'num_leaves': 89, 'feature_fraction': 0.6767154523510447, 'bagging_fraction': 0.7765554092355188, 'bagging_freq': 6, 'min_child_samples': 20, 'learning_rate': 0.018223977463841416}. Best is trial 70 with value: 0.3800510247133257.\n",
      "/var/folders/tx/rstdr46s2ng5_qbbc6p67xv40000gn/T/ipykernel_48489/3809418348.py:88: FutureWarning:\n",
      "\n",
      "upload_artifact() got {'file_path', 'study_or_trial', 'artifact_store'} as positional arguments but they were expected to be given as keyword arguments.\n",
      "Positional arguments ['study_or_trial', 'file_path', 'artifact_store'] in upload_artifact() have been deprecated since v4.0.0. They will be replaced with the corresponding keyword arguments in v6.0.0, so please use the keyword specification instead. See https://github.com/optuna/optuna/releases/tag/v4.0.0 for details.\n",
      "\n",
      "/var/folders/tx/rstdr46s2ng5_qbbc6p67xv40000gn/T/ipykernel_48489/3809418348.py:100: FutureWarning:\n",
      "\n",
      "upload_artifact() got {'file_path', 'study_or_trial', 'artifact_store'} as positional arguments but they were expected to be given as keyword arguments.\n",
      "Positional arguments ['study_or_trial', 'file_path', 'artifact_store'] in upload_artifact() have been deprecated since v4.0.0. They will be replaced with the corresponding keyword arguments in v6.0.0, so please use the keyword specification instead. See https://github.com/optuna/optuna/releases/tag/v4.0.0 for details.\n",
      "\n",
      "/var/folders/tx/rstdr46s2ng5_qbbc6p67xv40000gn/T/ipykernel_48489/3809418348.py:101: FutureWarning:\n",
      "\n",
      "upload_artifact() got {'file_path', 'study_or_trial', 'artifact_store'} as positional arguments but they were expected to be given as keyword arguments.\n",
      "Positional arguments ['study_or_trial', 'file_path', 'artifact_store'] in upload_artifact() have been deprecated since v4.0.0. They will be replaced with the corresponding keyword arguments in v6.0.0, so please use the keyword specification instead. See https://github.com/optuna/optuna/releases/tag/v4.0.0 for details.\n",
      "\n",
      "[I 2025-07-26 12:49:44,325] Trial 108 finished with value: 0.36868179140743085 and parameters: {'lambda_l1': 0.010276952027936046, 'lambda_l2': 1.0439254609433303e-06, 'num_leaves': 134, 'feature_fraction': 0.7167107331584661, 'bagging_fraction': 0.9340764478398242, 'bagging_freq': 2, 'min_child_samples': 24, 'learning_rate': 0.038063186080059055}. Best is trial 70 with value: 0.3800510247133257.\n",
      "/var/folders/tx/rstdr46s2ng5_qbbc6p67xv40000gn/T/ipykernel_48489/3809418348.py:88: FutureWarning:\n",
      "\n",
      "upload_artifact() got {'file_path', 'study_or_trial', 'artifact_store'} as positional arguments but they were expected to be given as keyword arguments.\n",
      "Positional arguments ['study_or_trial', 'file_path', 'artifact_store'] in upload_artifact() have been deprecated since v4.0.0. They will be replaced with the corresponding keyword arguments in v6.0.0, so please use the keyword specification instead. See https://github.com/optuna/optuna/releases/tag/v4.0.0 for details.\n",
      "\n",
      "/var/folders/tx/rstdr46s2ng5_qbbc6p67xv40000gn/T/ipykernel_48489/3809418348.py:100: FutureWarning:\n",
      "\n",
      "upload_artifact() got {'file_path', 'study_or_trial', 'artifact_store'} as positional arguments but they were expected to be given as keyword arguments.\n",
      "Positional arguments ['study_or_trial', 'file_path', 'artifact_store'] in upload_artifact() have been deprecated since v4.0.0. They will be replaced with the corresponding keyword arguments in v6.0.0, so please use the keyword specification instead. See https://github.com/optuna/optuna/releases/tag/v4.0.0 for details.\n",
      "\n",
      "/var/folders/tx/rstdr46s2ng5_qbbc6p67xv40000gn/T/ipykernel_48489/3809418348.py:101: FutureWarning:\n",
      "\n",
      "upload_artifact() got {'file_path', 'study_or_trial', 'artifact_store'} as positional arguments but they were expected to be given as keyword arguments.\n",
      "Positional arguments ['study_or_trial', 'file_path', 'artifact_store'] in upload_artifact() have been deprecated since v4.0.0. They will be replaced with the corresponding keyword arguments in v6.0.0, so please use the keyword specification instead. See https://github.com/optuna/optuna/releases/tag/v4.0.0 for details.\n",
      "\n",
      "[I 2025-07-26 12:50:39,364] Trial 109 finished with value: 0.37571810549149787 and parameters: {'lambda_l1': 0.0012692670185084666, 'lambda_l2': 7.349725237391468e-07, 'num_leaves': 152, 'feature_fraction': 0.6080819867461758, 'bagging_fraction': 0.9755305257490471, 'bagging_freq': 4, 'min_child_samples': 9, 'learning_rate': 0.023899469214842105}. Best is trial 70 with value: 0.3800510247133257.\n",
      "/var/folders/tx/rstdr46s2ng5_qbbc6p67xv40000gn/T/ipykernel_48489/3809418348.py:88: FutureWarning:\n",
      "\n",
      "upload_artifact() got {'file_path', 'study_or_trial', 'artifact_store'} as positional arguments but they were expected to be given as keyword arguments.\n",
      "Positional arguments ['study_or_trial', 'file_path', 'artifact_store'] in upload_artifact() have been deprecated since v4.0.0. They will be replaced with the corresponding keyword arguments in v6.0.0, so please use the keyword specification instead. See https://github.com/optuna/optuna/releases/tag/v4.0.0 for details.\n",
      "\n",
      "/var/folders/tx/rstdr46s2ng5_qbbc6p67xv40000gn/T/ipykernel_48489/3809418348.py:100: FutureWarning:\n",
      "\n",
      "upload_artifact() got {'file_path', 'study_or_trial', 'artifact_store'} as positional arguments but they were expected to be given as keyword arguments.\n",
      "Positional arguments ['study_or_trial', 'file_path', 'artifact_store'] in upload_artifact() have been deprecated since v4.0.0. They will be replaced with the corresponding keyword arguments in v6.0.0, so please use the keyword specification instead. See https://github.com/optuna/optuna/releases/tag/v4.0.0 for details.\n",
      "\n",
      "/var/folders/tx/rstdr46s2ng5_qbbc6p67xv40000gn/T/ipykernel_48489/3809418348.py:101: FutureWarning:\n",
      "\n",
      "upload_artifact() got {'file_path', 'study_or_trial', 'artifact_store'} as positional arguments but they were expected to be given as keyword arguments.\n",
      "Positional arguments ['study_or_trial', 'file_path', 'artifact_store'] in upload_artifact() have been deprecated since v4.0.0. They will be replaced with the corresponding keyword arguments in v6.0.0, so please use the keyword specification instead. See https://github.com/optuna/optuna/releases/tag/v4.0.0 for details.\n",
      "\n",
      "[I 2025-07-26 12:51:19,907] Trial 110 finished with value: 0.37862885363060406 and parameters: {'lambda_l1': 0.0030138274243372764, 'lambda_l2': 7.348797067730645e-07, 'num_leaves': 144, 'feature_fraction': 0.6530994766833533, 'bagging_fraction': 0.9728561493471225, 'bagging_freq': 4, 'min_child_samples': 5, 'learning_rate': 0.025093017783904655}. Best is trial 70 with value: 0.3800510247133257.\n",
      "/var/folders/tx/rstdr46s2ng5_qbbc6p67xv40000gn/T/ipykernel_48489/3809418348.py:88: FutureWarning:\n",
      "\n",
      "upload_artifact() got {'file_path', 'study_or_trial', 'artifact_store'} as positional arguments but they were expected to be given as keyword arguments.\n",
      "Positional arguments ['study_or_trial', 'file_path', 'artifact_store'] in upload_artifact() have been deprecated since v4.0.0. They will be replaced with the corresponding keyword arguments in v6.0.0, so please use the keyword specification instead. See https://github.com/optuna/optuna/releases/tag/v4.0.0 for details.\n",
      "\n",
      "/var/folders/tx/rstdr46s2ng5_qbbc6p67xv40000gn/T/ipykernel_48489/3809418348.py:100: FutureWarning:\n",
      "\n",
      "upload_artifact() got {'file_path', 'study_or_trial', 'artifact_store'} as positional arguments but they were expected to be given as keyword arguments.\n",
      "Positional arguments ['study_or_trial', 'file_path', 'artifact_store'] in upload_artifact() have been deprecated since v4.0.0. They will be replaced with the corresponding keyword arguments in v6.0.0, so please use the keyword specification instead. See https://github.com/optuna/optuna/releases/tag/v4.0.0 for details.\n",
      "\n",
      "/var/folders/tx/rstdr46s2ng5_qbbc6p67xv40000gn/T/ipykernel_48489/3809418348.py:101: FutureWarning:\n",
      "\n",
      "upload_artifact() got {'file_path', 'study_or_trial', 'artifact_store'} as positional arguments but they were expected to be given as keyword arguments.\n",
      "Positional arguments ['study_or_trial', 'file_path', 'artifact_store'] in upload_artifact() have been deprecated since v4.0.0. They will be replaced with the corresponding keyword arguments in v6.0.0, so please use the keyword specification instead. See https://github.com/optuna/optuna/releases/tag/v4.0.0 for details.\n",
      "\n",
      "[I 2025-07-26 12:51:57,510] Trial 111 finished with value: 0.3703534236335287 and parameters: {'lambda_l1': 0.0009759687566191337, 'lambda_l2': 1.3874919321901163e-05, 'num_leaves': 152, 'feature_fraction': 0.613779639061378, 'bagging_fraction': 0.9721885094531373, 'bagging_freq': 4, 'min_child_samples': 5, 'learning_rate': 0.02433245446615277}. Best is trial 70 with value: 0.3800510247133257.\n",
      "/var/folders/tx/rstdr46s2ng5_qbbc6p67xv40000gn/T/ipykernel_48489/3809418348.py:88: FutureWarning:\n",
      "\n",
      "upload_artifact() got {'file_path', 'study_or_trial', 'artifact_store'} as positional arguments but they were expected to be given as keyword arguments.\n",
      "Positional arguments ['study_or_trial', 'file_path', 'artifact_store'] in upload_artifact() have been deprecated since v4.0.0. They will be replaced with the corresponding keyword arguments in v6.0.0, so please use the keyword specification instead. See https://github.com/optuna/optuna/releases/tag/v4.0.0 for details.\n",
      "\n",
      "/var/folders/tx/rstdr46s2ng5_qbbc6p67xv40000gn/T/ipykernel_48489/3809418348.py:100: FutureWarning:\n",
      "\n",
      "upload_artifact() got {'file_path', 'study_or_trial', 'artifact_store'} as positional arguments but they were expected to be given as keyword arguments.\n",
      "Positional arguments ['study_or_trial', 'file_path', 'artifact_store'] in upload_artifact() have been deprecated since v4.0.0. They will be replaced with the corresponding keyword arguments in v6.0.0, so please use the keyword specification instead. See https://github.com/optuna/optuna/releases/tag/v4.0.0 for details.\n",
      "\n",
      "/var/folders/tx/rstdr46s2ng5_qbbc6p67xv40000gn/T/ipykernel_48489/3809418348.py:101: FutureWarning:\n",
      "\n",
      "upload_artifact() got {'file_path', 'study_or_trial', 'artifact_store'} as positional arguments but they were expected to be given as keyword arguments.\n",
      "Positional arguments ['study_or_trial', 'file_path', 'artifact_store'] in upload_artifact() have been deprecated since v4.0.0. They will be replaced with the corresponding keyword arguments in v6.0.0, so please use the keyword specification instead. See https://github.com/optuna/optuna/releases/tag/v4.0.0 for details.\n",
      "\n",
      "[I 2025-07-26 12:52:35,204] Trial 112 finished with value: 0.3757917695483748 and parameters: {'lambda_l1': 0.005830830324863201, 'lambda_l2': 7.871191998436547e-07, 'num_leaves': 145, 'feature_fraction': 0.6237361986258089, 'bagging_fraction': 0.9760918301161335, 'bagging_freq': 4, 'min_child_samples': 8, 'learning_rate': 0.02760241030668213}. Best is trial 70 with value: 0.3800510247133257.\n",
      "/var/folders/tx/rstdr46s2ng5_qbbc6p67xv40000gn/T/ipykernel_48489/3809418348.py:88: FutureWarning:\n",
      "\n",
      "upload_artifact() got {'file_path', 'study_or_trial', 'artifact_store'} as positional arguments but they were expected to be given as keyword arguments.\n",
      "Positional arguments ['study_or_trial', 'file_path', 'artifact_store'] in upload_artifact() have been deprecated since v4.0.0. They will be replaced with the corresponding keyword arguments in v6.0.0, so please use the keyword specification instead. See https://github.com/optuna/optuna/releases/tag/v4.0.0 for details.\n",
      "\n",
      "/var/folders/tx/rstdr46s2ng5_qbbc6p67xv40000gn/T/ipykernel_48489/3809418348.py:100: FutureWarning:\n",
      "\n",
      "upload_artifact() got {'file_path', 'study_or_trial', 'artifact_store'} as positional arguments but they were expected to be given as keyword arguments.\n",
      "Positional arguments ['study_or_trial', 'file_path', 'artifact_store'] in upload_artifact() have been deprecated since v4.0.0. They will be replaced with the corresponding keyword arguments in v6.0.0, so please use the keyword specification instead. See https://github.com/optuna/optuna/releases/tag/v4.0.0 for details.\n",
      "\n",
      "/var/folders/tx/rstdr46s2ng5_qbbc6p67xv40000gn/T/ipykernel_48489/3809418348.py:101: FutureWarning:\n",
      "\n",
      "upload_artifact() got {'file_path', 'study_or_trial', 'artifact_store'} as positional arguments but they were expected to be given as keyword arguments.\n",
      "Positional arguments ['study_or_trial', 'file_path', 'artifact_store'] in upload_artifact() have been deprecated since v4.0.0. They will be replaced with the corresponding keyword arguments in v6.0.0, so please use the keyword specification instead. See https://github.com/optuna/optuna/releases/tag/v4.0.0 for details.\n",
      "\n",
      "[I 2025-07-26 12:53:10,937] Trial 113 finished with value: 0.37348856439988365 and parameters: {'lambda_l1': 0.003774643740788021, 'lambda_l2': 2.735395149062601e-07, 'num_leaves': 145, 'feature_fraction': 0.6316661341029611, 'bagging_fraction': 0.9746273472220727, 'bagging_freq': 4, 'min_child_samples': 8, 'learning_rate': 0.026784759998380765}. Best is trial 70 with value: 0.3800510247133257.\n",
      "/var/folders/tx/rstdr46s2ng5_qbbc6p67xv40000gn/T/ipykernel_48489/3809418348.py:88: FutureWarning:\n",
      "\n",
      "upload_artifact() got {'file_path', 'study_or_trial', 'artifact_store'} as positional arguments but they were expected to be given as keyword arguments.\n",
      "Positional arguments ['study_or_trial', 'file_path', 'artifact_store'] in upload_artifact() have been deprecated since v4.0.0. They will be replaced with the corresponding keyword arguments in v6.0.0, so please use the keyword specification instead. See https://github.com/optuna/optuna/releases/tag/v4.0.0 for details.\n",
      "\n",
      "/var/folders/tx/rstdr46s2ng5_qbbc6p67xv40000gn/T/ipykernel_48489/3809418348.py:100: FutureWarning:\n",
      "\n",
      "upload_artifact() got {'file_path', 'study_or_trial', 'artifact_store'} as positional arguments but they were expected to be given as keyword arguments.\n",
      "Positional arguments ['study_or_trial', 'file_path', 'artifact_store'] in upload_artifact() have been deprecated since v4.0.0. They will be replaced with the corresponding keyword arguments in v6.0.0, so please use the keyword specification instead. See https://github.com/optuna/optuna/releases/tag/v4.0.0 for details.\n",
      "\n",
      "/var/folders/tx/rstdr46s2ng5_qbbc6p67xv40000gn/T/ipykernel_48489/3809418348.py:101: FutureWarning:\n",
      "\n",
      "upload_artifact() got {'file_path', 'study_or_trial', 'artifact_store'} as positional arguments but they were expected to be given as keyword arguments.\n",
      "Positional arguments ['study_or_trial', 'file_path', 'artifact_store'] in upload_artifact() have been deprecated since v4.0.0. They will be replaced with the corresponding keyword arguments in v6.0.0, so please use the keyword specification instead. See https://github.com/optuna/optuna/releases/tag/v4.0.0 for details.\n",
      "\n",
      "[I 2025-07-26 12:53:48,008] Trial 114 finished with value: 0.36954966665493116 and parameters: {'lambda_l1': 0.002882539186074318, 'lambda_l2': 7.481847011512325e-07, 'num_leaves': 158, 'feature_fraction': 0.6521340368392863, 'bagging_fraction': 0.9897869529250259, 'bagging_freq': 4, 'min_child_samples': 8, 'learning_rate': 0.023033061447660666}. Best is trial 70 with value: 0.3800510247133257.\n",
      "/var/folders/tx/rstdr46s2ng5_qbbc6p67xv40000gn/T/ipykernel_48489/3809418348.py:88: FutureWarning:\n",
      "\n",
      "upload_artifact() got {'file_path', 'study_or_trial', 'artifact_store'} as positional arguments but they were expected to be given as keyword arguments.\n",
      "Positional arguments ['study_or_trial', 'file_path', 'artifact_store'] in upload_artifact() have been deprecated since v4.0.0. They will be replaced with the corresponding keyword arguments in v6.0.0, so please use the keyword specification instead. See https://github.com/optuna/optuna/releases/tag/v4.0.0 for details.\n",
      "\n",
      "/var/folders/tx/rstdr46s2ng5_qbbc6p67xv40000gn/T/ipykernel_48489/3809418348.py:100: FutureWarning:\n",
      "\n",
      "upload_artifact() got {'file_path', 'study_or_trial', 'artifact_store'} as positional arguments but they were expected to be given as keyword arguments.\n",
      "Positional arguments ['study_or_trial', 'file_path', 'artifact_store'] in upload_artifact() have been deprecated since v4.0.0. They will be replaced with the corresponding keyword arguments in v6.0.0, so please use the keyword specification instead. See https://github.com/optuna/optuna/releases/tag/v4.0.0 for details.\n",
      "\n",
      "/var/folders/tx/rstdr46s2ng5_qbbc6p67xv40000gn/T/ipykernel_48489/3809418348.py:101: FutureWarning:\n",
      "\n",
      "upload_artifact() got {'file_path', 'study_or_trial', 'artifact_store'} as positional arguments but they were expected to be given as keyword arguments.\n",
      "Positional arguments ['study_or_trial', 'file_path', 'artifact_store'] in upload_artifact() have been deprecated since v4.0.0. They will be replaced with the corresponding keyword arguments in v6.0.0, so please use the keyword specification instead. See https://github.com/optuna/optuna/releases/tag/v4.0.0 for details.\n",
      "\n",
      "[I 2025-07-26 12:54:24,671] Trial 115 finished with value: 0.37157965678040183 and parameters: {'lambda_l1': 0.006128797131997018, 'lambda_l2': 1.6090524572634666e-06, 'num_leaves': 130, 'feature_fraction': 0.6173643019491898, 'bagging_fraction': 0.9490081001808246, 'bagging_freq': 4, 'min_child_samples': 12, 'learning_rate': 0.030090128609633428}. Best is trial 70 with value: 0.3800510247133257.\n",
      "/var/folders/tx/rstdr46s2ng5_qbbc6p67xv40000gn/T/ipykernel_48489/3809418348.py:88: FutureWarning:\n",
      "\n",
      "upload_artifact() got {'file_path', 'study_or_trial', 'artifact_store'} as positional arguments but they were expected to be given as keyword arguments.\n",
      "Positional arguments ['study_or_trial', 'file_path', 'artifact_store'] in upload_artifact() have been deprecated since v4.0.0. They will be replaced with the corresponding keyword arguments in v6.0.0, so please use the keyword specification instead. See https://github.com/optuna/optuna/releases/tag/v4.0.0 for details.\n",
      "\n",
      "/var/folders/tx/rstdr46s2ng5_qbbc6p67xv40000gn/T/ipykernel_48489/3809418348.py:100: FutureWarning:\n",
      "\n",
      "upload_artifact() got {'file_path', 'study_or_trial', 'artifact_store'} as positional arguments but they were expected to be given as keyword arguments.\n",
      "Positional arguments ['study_or_trial', 'file_path', 'artifact_store'] in upload_artifact() have been deprecated since v4.0.0. They will be replaced with the corresponding keyword arguments in v6.0.0, so please use the keyword specification instead. See https://github.com/optuna/optuna/releases/tag/v4.0.0 for details.\n",
      "\n",
      "/var/folders/tx/rstdr46s2ng5_qbbc6p67xv40000gn/T/ipykernel_48489/3809418348.py:101: FutureWarning:\n",
      "\n",
      "upload_artifact() got {'file_path', 'study_or_trial', 'artifact_store'} as positional arguments but they were expected to be given as keyword arguments.\n",
      "Positional arguments ['study_or_trial', 'file_path', 'artifact_store'] in upload_artifact() have been deprecated since v4.0.0. They will be replaced with the corresponding keyword arguments in v6.0.0, so please use the keyword specification instead. See https://github.com/optuna/optuna/releases/tag/v4.0.0 for details.\n",
      "\n",
      "[I 2025-07-26 12:55:08,381] Trial 116 finished with value: 0.36742785600144784 and parameters: {'lambda_l1': 0.0017175794357577984, 'lambda_l2': 2.717071019597287e-05, 'num_leaves': 140, 'feature_fraction': 0.5967110254370157, 'bagging_fraction': 0.9651095049092522, 'bagging_freq': 4, 'min_child_samples': 6, 'learning_rate': 0.01977065239165844}. Best is trial 70 with value: 0.3800510247133257.\n",
      "/var/folders/tx/rstdr46s2ng5_qbbc6p67xv40000gn/T/ipykernel_48489/3809418348.py:88: FutureWarning:\n",
      "\n",
      "upload_artifact() got {'file_path', 'study_or_trial', 'artifact_store'} as positional arguments but they were expected to be given as keyword arguments.\n",
      "Positional arguments ['study_or_trial', 'file_path', 'artifact_store'] in upload_artifact() have been deprecated since v4.0.0. They will be replaced with the corresponding keyword arguments in v6.0.0, so please use the keyword specification instead. See https://github.com/optuna/optuna/releases/tag/v4.0.0 for details.\n",
      "\n",
      "/var/folders/tx/rstdr46s2ng5_qbbc6p67xv40000gn/T/ipykernel_48489/3809418348.py:100: FutureWarning:\n",
      "\n",
      "upload_artifact() got {'file_path', 'study_or_trial', 'artifact_store'} as positional arguments but they were expected to be given as keyword arguments.\n",
      "Positional arguments ['study_or_trial', 'file_path', 'artifact_store'] in upload_artifact() have been deprecated since v4.0.0. They will be replaced with the corresponding keyword arguments in v6.0.0, so please use the keyword specification instead. See https://github.com/optuna/optuna/releases/tag/v4.0.0 for details.\n",
      "\n",
      "/var/folders/tx/rstdr46s2ng5_qbbc6p67xv40000gn/T/ipykernel_48489/3809418348.py:101: FutureWarning:\n",
      "\n",
      "upload_artifact() got {'file_path', 'study_or_trial', 'artifact_store'} as positional arguments but they were expected to be given as keyword arguments.\n",
      "Positional arguments ['study_or_trial', 'file_path', 'artifact_store'] in upload_artifact() have been deprecated since v4.0.0. They will be replaced with the corresponding keyword arguments in v6.0.0, so please use the keyword specification instead. See https://github.com/optuna/optuna/releases/tag/v4.0.0 for details.\n",
      "\n",
      "[I 2025-07-26 12:55:53,916] Trial 117 finished with value: 0.3611900164636736 and parameters: {'lambda_l1': 0.0010822861419865141, 'lambda_l2': 5.881668749481837e-06, 'num_leaves': 150, 'feature_fraction': 0.6692461257705101, 'bagging_fraction': 0.9851312048071891, 'bagging_freq': 4, 'min_child_samples': 9, 'learning_rate': 0.016499868654901405}. Best is trial 70 with value: 0.3800510247133257.\n",
      "/var/folders/tx/rstdr46s2ng5_qbbc6p67xv40000gn/T/ipykernel_48489/3809418348.py:88: FutureWarning:\n",
      "\n",
      "upload_artifact() got {'file_path', 'study_or_trial', 'artifact_store'} as positional arguments but they were expected to be given as keyword arguments.\n",
      "Positional arguments ['study_or_trial', 'file_path', 'artifact_store'] in upload_artifact() have been deprecated since v4.0.0. They will be replaced with the corresponding keyword arguments in v6.0.0, so please use the keyword specification instead. See https://github.com/optuna/optuna/releases/tag/v4.0.0 for details.\n",
      "\n",
      "/var/folders/tx/rstdr46s2ng5_qbbc6p67xv40000gn/T/ipykernel_48489/3809418348.py:100: FutureWarning:\n",
      "\n",
      "upload_artifact() got {'file_path', 'study_or_trial', 'artifact_store'} as positional arguments but they were expected to be given as keyword arguments.\n",
      "Positional arguments ['study_or_trial', 'file_path', 'artifact_store'] in upload_artifact() have been deprecated since v4.0.0. They will be replaced with the corresponding keyword arguments in v6.0.0, so please use the keyword specification instead. See https://github.com/optuna/optuna/releases/tag/v4.0.0 for details.\n",
      "\n",
      "/var/folders/tx/rstdr46s2ng5_qbbc6p67xv40000gn/T/ipykernel_48489/3809418348.py:101: FutureWarning:\n",
      "\n",
      "upload_artifact() got {'file_path', 'study_or_trial', 'artifact_store'} as positional arguments but they were expected to be given as keyword arguments.\n",
      "Positional arguments ['study_or_trial', 'file_path', 'artifact_store'] in upload_artifact() have been deprecated since v4.0.0. They will be replaced with the corresponding keyword arguments in v6.0.0, so please use the keyword specification instead. See https://github.com/optuna/optuna/releases/tag/v4.0.0 for details.\n",
      "\n",
      "[I 2025-07-26 12:56:25,753] Trial 118 finished with value: 0.3686755244920909 and parameters: {'lambda_l1': 0.03371751583940706, 'lambda_l2': 1.0823676557287533e-07, 'num_leaves': 127, 'feature_fraction': 0.6469763121762595, 'bagging_fraction': 0.9385405558003549, 'bagging_freq': 4, 'min_child_samples': 14, 'learning_rate': 0.025186851307555578}. Best is trial 70 with value: 0.3800510247133257.\n",
      "/var/folders/tx/rstdr46s2ng5_qbbc6p67xv40000gn/T/ipykernel_48489/3809418348.py:88: FutureWarning:\n",
      "\n",
      "upload_artifact() got {'file_path', 'study_or_trial', 'artifact_store'} as positional arguments but they were expected to be given as keyword arguments.\n",
      "Positional arguments ['study_or_trial', 'file_path', 'artifact_store'] in upload_artifact() have been deprecated since v4.0.0. They will be replaced with the corresponding keyword arguments in v6.0.0, so please use the keyword specification instead. See https://github.com/optuna/optuna/releases/tag/v4.0.0 for details.\n",
      "\n",
      "/var/folders/tx/rstdr46s2ng5_qbbc6p67xv40000gn/T/ipykernel_48489/3809418348.py:100: FutureWarning:\n",
      "\n",
      "upload_artifact() got {'file_path', 'study_or_trial', 'artifact_store'} as positional arguments but they were expected to be given as keyword arguments.\n",
      "Positional arguments ['study_or_trial', 'file_path', 'artifact_store'] in upload_artifact() have been deprecated since v4.0.0. They will be replaced with the corresponding keyword arguments in v6.0.0, so please use the keyword specification instead. See https://github.com/optuna/optuna/releases/tag/v4.0.0 for details.\n",
      "\n",
      "/var/folders/tx/rstdr46s2ng5_qbbc6p67xv40000gn/T/ipykernel_48489/3809418348.py:101: FutureWarning:\n",
      "\n",
      "upload_artifact() got {'file_path', 'study_or_trial', 'artifact_store'} as positional arguments but they were expected to be given as keyword arguments.\n",
      "Positional arguments ['study_or_trial', 'file_path', 'artifact_store'] in upload_artifact() have been deprecated since v4.0.0. They will be replaced with the corresponding keyword arguments in v6.0.0, so please use the keyword specification instead. See https://github.com/optuna/optuna/releases/tag/v4.0.0 for details.\n",
      "\n",
      "[I 2025-07-26 12:56:52,604] Trial 119 finished with value: 0.36684679213885263 and parameters: {'lambda_l1': 0.015581355377922212, 'lambda_l2': 4.771559763184504e-07, 'num_leaves': 135, 'feature_fraction': 0.6081922422889399, 'bagging_fraction': 0.9539946123054657, 'bagging_freq': 5, 'min_child_samples': 17, 'learning_rate': 0.033942651355678095}. Best is trial 70 with value: 0.3800510247133257.\n",
      "/var/folders/tx/rstdr46s2ng5_qbbc6p67xv40000gn/T/ipykernel_48489/3809418348.py:88: FutureWarning:\n",
      "\n",
      "upload_artifact() got {'file_path', 'study_or_trial', 'artifact_store'} as positional arguments but they were expected to be given as keyword arguments.\n",
      "Positional arguments ['study_or_trial', 'file_path', 'artifact_store'] in upload_artifact() have been deprecated since v4.0.0. They will be replaced with the corresponding keyword arguments in v6.0.0, so please use the keyword specification instead. See https://github.com/optuna/optuna/releases/tag/v4.0.0 for details.\n",
      "\n",
      "/var/folders/tx/rstdr46s2ng5_qbbc6p67xv40000gn/T/ipykernel_48489/3809418348.py:100: FutureWarning:\n",
      "\n",
      "upload_artifact() got {'file_path', 'study_or_trial', 'artifact_store'} as positional arguments but they were expected to be given as keyword arguments.\n",
      "Positional arguments ['study_or_trial', 'file_path', 'artifact_store'] in upload_artifact() have been deprecated since v4.0.0. They will be replaced with the corresponding keyword arguments in v6.0.0, so please use the keyword specification instead. See https://github.com/optuna/optuna/releases/tag/v4.0.0 for details.\n",
      "\n",
      "/var/folders/tx/rstdr46s2ng5_qbbc6p67xv40000gn/T/ipykernel_48489/3809418348.py:101: FutureWarning:\n",
      "\n",
      "upload_artifact() got {'file_path', 'study_or_trial', 'artifact_store'} as positional arguments but they were expected to be given as keyword arguments.\n",
      "Positional arguments ['study_or_trial', 'file_path', 'artifact_store'] in upload_artifact() have been deprecated since v4.0.0. They will be replaced with the corresponding keyword arguments in v6.0.0, so please use the keyword specification instead. See https://github.com/optuna/optuna/releases/tag/v4.0.0 for details.\n",
      "\n",
      "[I 2025-07-26 12:57:25,657] Trial 120 finished with value: 0.3739689405932395 and parameters: {'lambda_l1': 2.77505131305677e-07, 'lambda_l2': 2.4012709482840392e-06, 'num_leaves': 155, 'feature_fraction': 0.6979844510168733, 'bagging_fraction': 0.9207620831041239, 'bagging_freq': 4, 'min_child_samples': 11, 'learning_rate': 0.035906849278759256}. Best is trial 70 with value: 0.3800510247133257.\n",
      "/var/folders/tx/rstdr46s2ng5_qbbc6p67xv40000gn/T/ipykernel_48489/3809418348.py:88: FutureWarning:\n",
      "\n",
      "upload_artifact() got {'file_path', 'study_or_trial', 'artifact_store'} as positional arguments but they were expected to be given as keyword arguments.\n",
      "Positional arguments ['study_or_trial', 'file_path', 'artifact_store'] in upload_artifact() have been deprecated since v4.0.0. They will be replaced with the corresponding keyword arguments in v6.0.0, so please use the keyword specification instead. See https://github.com/optuna/optuna/releases/tag/v4.0.0 for details.\n",
      "\n",
      "/var/folders/tx/rstdr46s2ng5_qbbc6p67xv40000gn/T/ipykernel_48489/3809418348.py:100: FutureWarning:\n",
      "\n",
      "upload_artifact() got {'file_path', 'study_or_trial', 'artifact_store'} as positional arguments but they were expected to be given as keyword arguments.\n",
      "Positional arguments ['study_or_trial', 'file_path', 'artifact_store'] in upload_artifact() have been deprecated since v4.0.0. They will be replaced with the corresponding keyword arguments in v6.0.0, so please use the keyword specification instead. See https://github.com/optuna/optuna/releases/tag/v4.0.0 for details.\n",
      "\n",
      "/var/folders/tx/rstdr46s2ng5_qbbc6p67xv40000gn/T/ipykernel_48489/3809418348.py:101: FutureWarning:\n",
      "\n",
      "upload_artifact() got {'file_path', 'study_or_trial', 'artifact_store'} as positional arguments but they were expected to be given as keyword arguments.\n",
      "Positional arguments ['study_or_trial', 'file_path', 'artifact_store'] in upload_artifact() have been deprecated since v4.0.0. They will be replaced with the corresponding keyword arguments in v6.0.0, so please use the keyword specification instead. See https://github.com/optuna/optuna/releases/tag/v4.0.0 for details.\n",
      "\n",
      "[I 2025-07-26 12:58:00,079] Trial 121 finished with value: 0.3696206467702902 and parameters: {'lambda_l1': 0.00042031843948405346, 'lambda_l2': 8.221445145805108e-07, 'num_leaves': 164, 'feature_fraction': 0.6235615383063986, 'bagging_fraction': 0.9762519654013464, 'bagging_freq': 5, 'min_child_samples': 9, 'learning_rate': 0.0291300225522273}. Best is trial 70 with value: 0.3800510247133257.\n",
      "/var/folders/tx/rstdr46s2ng5_qbbc6p67xv40000gn/T/ipykernel_48489/3809418348.py:88: FutureWarning:\n",
      "\n",
      "upload_artifact() got {'file_path', 'study_or_trial', 'artifact_store'} as positional arguments but they were expected to be given as keyword arguments.\n",
      "Positional arguments ['study_or_trial', 'file_path', 'artifact_store'] in upload_artifact() have been deprecated since v4.0.0. They will be replaced with the corresponding keyword arguments in v6.0.0, so please use the keyword specification instead. See https://github.com/optuna/optuna/releases/tag/v4.0.0 for details.\n",
      "\n",
      "/var/folders/tx/rstdr46s2ng5_qbbc6p67xv40000gn/T/ipykernel_48489/3809418348.py:100: FutureWarning:\n",
      "\n",
      "upload_artifact() got {'file_path', 'study_or_trial', 'artifact_store'} as positional arguments but they were expected to be given as keyword arguments.\n",
      "Positional arguments ['study_or_trial', 'file_path', 'artifact_store'] in upload_artifact() have been deprecated since v4.0.0. They will be replaced with the corresponding keyword arguments in v6.0.0, so please use the keyword specification instead. See https://github.com/optuna/optuna/releases/tag/v4.0.0 for details.\n",
      "\n",
      "/var/folders/tx/rstdr46s2ng5_qbbc6p67xv40000gn/T/ipykernel_48489/3809418348.py:101: FutureWarning:\n",
      "\n",
      "upload_artifact() got {'file_path', 'study_or_trial', 'artifact_store'} as positional arguments but they were expected to be given as keyword arguments.\n",
      "Positional arguments ['study_or_trial', 'file_path', 'artifact_store'] in upload_artifact() have been deprecated since v4.0.0. They will be replaced with the corresponding keyword arguments in v6.0.0, so please use the keyword specification instead. See https://github.com/optuna/optuna/releases/tag/v4.0.0 for details.\n",
      "\n",
      "[I 2025-07-26 12:58:26,101] Trial 122 finished with value: 0.3681924837935216 and parameters: {'lambda_l1': 0.01012725693412272, 'lambda_l2': 1.475690180247649e-07, 'num_leaves': 144, 'feature_fraction': 0.7555557709716343, 'bagging_fraction': 0.9998844594035315, 'bagging_freq': 4, 'min_child_samples': 5, 'learning_rate': 0.048286467249312626}. Best is trial 70 with value: 0.3800510247133257.\n",
      "/var/folders/tx/rstdr46s2ng5_qbbc6p67xv40000gn/T/ipykernel_48489/3809418348.py:88: FutureWarning:\n",
      "\n",
      "upload_artifact() got {'file_path', 'study_or_trial', 'artifact_store'} as positional arguments but they were expected to be given as keyword arguments.\n",
      "Positional arguments ['study_or_trial', 'file_path', 'artifact_store'] in upload_artifact() have been deprecated since v4.0.0. They will be replaced with the corresponding keyword arguments in v6.0.0, so please use the keyword specification instead. See https://github.com/optuna/optuna/releases/tag/v4.0.0 for details.\n",
      "\n",
      "/var/folders/tx/rstdr46s2ng5_qbbc6p67xv40000gn/T/ipykernel_48489/3809418348.py:100: FutureWarning:\n",
      "\n",
      "upload_artifact() got {'file_path', 'study_or_trial', 'artifact_store'} as positional arguments but they were expected to be given as keyword arguments.\n",
      "Positional arguments ['study_or_trial', 'file_path', 'artifact_store'] in upload_artifact() have been deprecated since v4.0.0. They will be replaced with the corresponding keyword arguments in v6.0.0, so please use the keyword specification instead. See https://github.com/optuna/optuna/releases/tag/v4.0.0 for details.\n",
      "\n",
      "/var/folders/tx/rstdr46s2ng5_qbbc6p67xv40000gn/T/ipykernel_48489/3809418348.py:101: FutureWarning:\n",
      "\n",
      "upload_artifact() got {'file_path', 'study_or_trial', 'artifact_store'} as positional arguments but they were expected to be given as keyword arguments.\n",
      "Positional arguments ['study_or_trial', 'file_path', 'artifact_store'] in upload_artifact() have been deprecated since v4.0.0. They will be replaced with the corresponding keyword arguments in v6.0.0, so please use the keyword specification instead. See https://github.com/optuna/optuna/releases/tag/v4.0.0 for details.\n",
      "\n",
      "[I 2025-07-26 12:59:05,732] Trial 123 finished with value: 0.36761568297588 and parameters: {'lambda_l1': 0.006892313498574066, 'lambda_l2': 2.218562826736932e-07, 'num_leaves': 141, 'feature_fraction': 0.5511210915101395, 'bagging_fraction': 0.902751027040233, 'bagging_freq': 3, 'min_child_samples': 40, 'learning_rate': 0.021862512870861366}. Best is trial 70 with value: 0.3800510247133257.\n",
      "/var/folders/tx/rstdr46s2ng5_qbbc6p67xv40000gn/T/ipykernel_48489/3809418348.py:88: FutureWarning:\n",
      "\n",
      "upload_artifact() got {'file_path', 'study_or_trial', 'artifact_store'} as positional arguments but they were expected to be given as keyword arguments.\n",
      "Positional arguments ['study_or_trial', 'file_path', 'artifact_store'] in upload_artifact() have been deprecated since v4.0.0. They will be replaced with the corresponding keyword arguments in v6.0.0, so please use the keyword specification instead. See https://github.com/optuna/optuna/releases/tag/v4.0.0 for details.\n",
      "\n",
      "/var/folders/tx/rstdr46s2ng5_qbbc6p67xv40000gn/T/ipykernel_48489/3809418348.py:100: FutureWarning:\n",
      "\n",
      "upload_artifact() got {'file_path', 'study_or_trial', 'artifact_store'} as positional arguments but they were expected to be given as keyword arguments.\n",
      "Positional arguments ['study_or_trial', 'file_path', 'artifact_store'] in upload_artifact() have been deprecated since v4.0.0. They will be replaced with the corresponding keyword arguments in v6.0.0, so please use the keyword specification instead. See https://github.com/optuna/optuna/releases/tag/v4.0.0 for details.\n",
      "\n",
      "/var/folders/tx/rstdr46s2ng5_qbbc6p67xv40000gn/T/ipykernel_48489/3809418348.py:101: FutureWarning:\n",
      "\n",
      "upload_artifact() got {'file_path', 'study_or_trial', 'artifact_store'} as positional arguments but they were expected to be given as keyword arguments.\n",
      "Positional arguments ['study_or_trial', 'file_path', 'artifact_store'] in upload_artifact() have been deprecated since v4.0.0. They will be replaced with the corresponding keyword arguments in v6.0.0, so please use the keyword specification instead. See https://github.com/optuna/optuna/releases/tag/v4.0.0 for details.\n",
      "\n",
      "[I 2025-07-26 12:59:32,814] Trial 124 finished with value: 0.3667776908663327 and parameters: {'lambda_l1': 0.002353147726262783, 'lambda_l2': 6.388524553047559e-07, 'num_leaves': 149, 'feature_fraction': 0.588029712794613, 'bagging_fraction': 0.9323324981199566, 'bagging_freq': 4, 'min_child_samples': 14, 'learning_rate': 0.058953645068232564}. Best is trial 70 with value: 0.3800510247133257.\n"
     ]
    }
   ],
   "source": [
    "#Inicio el store de artefactos (archivos) de optuna\n",
    "artifact_store = FileSystemArtifactStore(base_path=PATH_TO_OPTUNA_ARTIFACTS)\n",
    "\n",
    "#Genero estudio\n",
    "study = optuna.create_study(direction='maximize',\n",
    "                            storage=\"sqlite:///../work/db.sqlite3\",  # Specify the storage URL here.\n",
    "                            study_name=\"04 - LGB Multiclass CV G2_04\",\n",
    "                            load_if_exists = True)\n",
    "#Corro la optimizacion\n",
    "study.optimize(cv_es_lgb_objective, n_trials=100)"
   ]
  },
  {
   "cell_type": "code",
   "execution_count": null,
   "id": "17989618",
   "metadata": {},
   "outputs": [],
   "source": []
  }
 ],
 "metadata": {
  "kernelspec": {
   "display_name": "Python (ldi2)",
   "language": "python",
   "name": "ldi2"
  },
  "language_info": {
   "codemirror_mode": {
    "name": "ipython",
    "version": 3
   },
   "file_extension": ".py",
   "mimetype": "text/x-python",
   "name": "python",
   "nbconvert_exporter": "python",
   "pygments_lexer": "ipython3",
   "version": "3.12.6"
  }
 },
 "nbformat": 4,
 "nbformat_minor": 5
}
