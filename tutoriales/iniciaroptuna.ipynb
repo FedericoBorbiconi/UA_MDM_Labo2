{
 "cells": [
  {
   "cell_type": "code",
   "execution_count": 1,
   "id": "06502838",
   "metadata": {},
   "outputs": [
    {
     "name": "stderr",
     "output_type": "stream",
     "text": [
      "Traceback (most recent call last):\n",
      "  File \"C:\\Users\\FBorbiconi\\anaconda3\\envs\\ldi2\\Scripts\\optuna-dashboard-script.py\", line 9, in <module>\n",
      "    sys.exit(main())\n",
      "             ^^^^^^\n",
      "  File \"C:\\Users\\FBorbiconi\\anaconda3\\envs\\ldi2\\Lib\\site-packages\\optuna_dashboard\\_cli.py\", line 119, in main\n",
      "    storage = get_storage(args.storage, storage_class=args.storage_class)\n",
      "              ^^^^^^^^^^^^^^^^^^^^^^^^^^^^^^^^^^^^^^^^^^^^^^^^^^^^^^^^^^^\n",
      "  File \"C:\\Users\\FBorbiconi\\anaconda3\\envs\\ldi2\\Lib\\site-packages\\optuna_dashboard\\_storage_url.py\", line 59, in get_storage\n",
      "    return guess_storage_from_url(storage)\n",
      "           ^^^^^^^^^^^^^^^^^^^^^^^^^^^^^^^\n",
      "  File \"C:\\Users\\FBorbiconi\\anaconda3\\envs\\ldi2\\Lib\\site-packages\\optuna_dashboard\\_storage_url.py\", line 78, in guess_storage_from_url\n",
      "    raise ValueError(\n",
      "ValueError: Please specify 'sqlite:///sqlite:///../work/db.sqlite3' to use SQLite3 (RDBStorage)\n"
     ]
    }
   ],
   "source": [
    "!optuna-dashboard sqlite:///../work/db.sqlite3 --artifact-dir ../work/optuna_artifacts --port 8081"
   ]
  }
 ],
 "metadata": {
  "kernelspec": {
   "display_name": "ldi2",
   "language": "python",
   "name": "python3"
  },
  "language_info": {
   "codemirror_mode": {
    "name": "ipython",
    "version": 3
   },
   "file_extension": ".py",
   "mimetype": "text/x-python",
   "name": "python",
   "nbconvert_exporter": "python",
   "pygments_lexer": "ipython3",
   "version": "3.12.11"
  }
 },
 "nbformat": 4,
 "nbformat_minor": 5
}
